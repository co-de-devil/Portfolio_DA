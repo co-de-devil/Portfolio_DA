{
 "cells": [
  {
   "cell_type": "code",
   "execution_count": 1,
   "id": "53084c69",
   "metadata": {
    "executionInfo": {
     "elapsed": 662,
     "status": "ok",
     "timestamp": 1711549859648,
     "user": {
      "displayName": "Aditya Nikumbh",
      "userId": "07855731611952259482"
     },
     "user_tz": 0
    },
    "id": "53084c69"
   },
   "outputs": [],
   "source": [
    "# Importing required libraries\n",
    "import logging\n",
    "import pandas as pd\n",
    "import numpy as np\n",
    "import seaborn as sns\n",
    "import matplotlib.pyplot as plt\n",
    "from sklearn.preprocessing import LabelEncoder\n",
    "from sklearn.model_selection import train_test_split\n",
    "from imblearn.over_sampling import RandomOverSampler\n",
    "from sklearn.ensemble import RandomForestClassifier\n",
    "from xgboost import XGBClassifier\n",
    "from sklearn.ensemble import GradientBoostingClassifier\n",
    "from imblearn.over_sampling import SMOTE\n",
    "from sklearn.tree import DecisionTreeClassifier\n",
    "from sklearn.metrics import confusion_matrix, accuracy_score\n",
    "from sklearn.metrics import classification_report , roc_auc_score, roc_curve, auc , precision_recall_curve, confusion_matrix, accuracy_score, f1_score, recall_score\n",
    "from sklearn.model_selection import cross_validate\n",
    "from sklearn.feature_selection import SelectKBest\n",
    "from sklearn.feature_selection import chi2\n",
    "from sklearn.preprocessing import Normalizer\n",
    "import warnings\n",
    "warnings.filterwarnings(\"ignore\")"
   ]
  },
  {
   "cell_type": "code",
   "execution_count": 2,
   "id": "bcfe1912",
   "metadata": {
    "executionInfo": {
     "elapsed": 4,
     "status": "ok",
     "timestamp": 1711549859649,
     "user": {
      "displayName": "Aditya Nikumbh",
      "userId": "07855731611952259482"
     },
     "user_tz": 0
    },
    "id": "bcfe1912"
   },
   "outputs": [],
   "source": [
    "#Setting up a log\n",
    "logging.basicConfig(filename = 'logfile.log', level=logging.INFO, format ='%(asctime)s-%(levelname)s-%(message)s')"
   ]
  },
  {
   "cell_type": "code",
   "execution_count": 3,
   "id": "5d98a31d",
   "metadata": {
    "executionInfo": {
     "elapsed": 3,
     "status": "ok",
     "timestamp": 1711549862706,
     "user": {
      "displayName": "Aditya Nikumbh",
      "userId": "07855731611952259482"
     },
     "user_tz": 0
    },
    "id": "5d98a31d"
   },
   "outputs": [],
   "source": [
    "pd.set_option('display.max_columns', None)"
   ]
  },
  {
   "cell_type": "code",
   "execution_count": 4,
   "id": "395f95f9",
   "metadata": {
    "colab": {
     "base_uri": "https://localhost:8080/"
    },
    "executionInfo": {
     "elapsed": 9525,
     "status": "ok",
     "timestamp": 1711549872229,
     "user": {
      "displayName": "Aditya Nikumbh",
      "userId": "07855731611952259482"
     },
     "user_tz": 0
    },
    "id": "395f95f9",
    "outputId": "609b5bd7-2fbc-4a82-c2ff-a82037d70253"
   },
   "outputs": [
    {
     "name": "stdout",
     "output_type": "stream",
     "text": [
      "(1687861, 23) (242076, 23)\n"
     ]
    }
   ],
   "source": [
    "# Loading the datasets\n",
    "train = pd.read_csv(\"C:/Users/Aditya/OneDrive/Desktop/nmims/Data/Kaggle_Training_Dataset_v2.csv\", low_memory = False)\n",
    "test = pd.read_csv(\"C:/Users/Aditya/OneDrive/Desktop/nmims/Data/Kaggle_Test_Dataset_v2.csv\", low_memory = False)\n",
    "print(train.shape, test.shape)"
   ]
  },
  {
   "cell_type": "markdown",
   "id": "356edc1a",
   "metadata": {
    "id": "356edc1a"
   },
   "source": [
    "## Exploratory Data Analysis"
   ]
  },
  {
   "cell_type": "code",
   "execution_count": 5,
   "id": "EfHHDdF4KooK",
   "metadata": {
    "colab": {
     "base_uri": "https://localhost:8080/",
     "height": 461
    },
    "executionInfo": {
     "elapsed": 766,
     "status": "ok",
     "timestamp": 1711549872982,
     "user": {
      "displayName": "Aditya Nikumbh",
      "userId": "07855731611952259482"
     },
     "user_tz": 0
    },
    "id": "EfHHDdF4KooK",
    "outputId": "5b791b3d-85b7-4673-c8db-38e3b16e095d"
   },
   "outputs": [
    {
     "data": {
      "text/html": [
       "<div>\n",
       "<style scoped>\n",
       "    .dataframe tbody tr th:only-of-type {\n",
       "        vertical-align: middle;\n",
       "    }\n",
       "\n",
       "    .dataframe tbody tr th {\n",
       "        vertical-align: top;\n",
       "    }\n",
       "\n",
       "    .dataframe thead th {\n",
       "        text-align: right;\n",
       "    }\n",
       "</style>\n",
       "<table border=\"1\" class=\"dataframe\">\n",
       "  <thead>\n",
       "    <tr style=\"text-align: right;\">\n",
       "      <th></th>\n",
       "      <th>sku</th>\n",
       "      <th>national_inv</th>\n",
       "      <th>lead_time</th>\n",
       "      <th>in_transit_qty</th>\n",
       "      <th>forecast_3_month</th>\n",
       "      <th>forecast_6_month</th>\n",
       "      <th>forecast_9_month</th>\n",
       "      <th>sales_1_month</th>\n",
       "      <th>sales_3_month</th>\n",
       "      <th>sales_6_month</th>\n",
       "      <th>sales_9_month</th>\n",
       "      <th>min_bank</th>\n",
       "      <th>potential_issue</th>\n",
       "      <th>pieces_past_due</th>\n",
       "      <th>perf_6_month_avg</th>\n",
       "      <th>perf_12_month_avg</th>\n",
       "      <th>local_bo_qty</th>\n",
       "      <th>deck_risk</th>\n",
       "      <th>oe_constraint</th>\n",
       "      <th>ppap_risk</th>\n",
       "      <th>stop_auto_buy</th>\n",
       "      <th>rev_stop</th>\n",
       "      <th>went_on_backorder</th>\n",
       "    </tr>\n",
       "  </thead>\n",
       "  <tbody>\n",
       "    <tr>\n",
       "      <th>0</th>\n",
       "      <td>1026827</td>\n",
       "      <td>0.0</td>\n",
       "      <td>NaN</td>\n",
       "      <td>0.0</td>\n",
       "      <td>0.0</td>\n",
       "      <td>0.0</td>\n",
       "      <td>0.0</td>\n",
       "      <td>0.0</td>\n",
       "      <td>0.0</td>\n",
       "      <td>0.0</td>\n",
       "      <td>0.0</td>\n",
       "      <td>0.0</td>\n",
       "      <td>No</td>\n",
       "      <td>0.0</td>\n",
       "      <td>-99.00</td>\n",
       "      <td>-99.00</td>\n",
       "      <td>0.0</td>\n",
       "      <td>No</td>\n",
       "      <td>No</td>\n",
       "      <td>No</td>\n",
       "      <td>Yes</td>\n",
       "      <td>No</td>\n",
       "      <td>No</td>\n",
       "    </tr>\n",
       "    <tr>\n",
       "      <th>1</th>\n",
       "      <td>1043384</td>\n",
       "      <td>2.0</td>\n",
       "      <td>9.0</td>\n",
       "      <td>0.0</td>\n",
       "      <td>0.0</td>\n",
       "      <td>0.0</td>\n",
       "      <td>0.0</td>\n",
       "      <td>0.0</td>\n",
       "      <td>0.0</td>\n",
       "      <td>0.0</td>\n",
       "      <td>0.0</td>\n",
       "      <td>0.0</td>\n",
       "      <td>No</td>\n",
       "      <td>0.0</td>\n",
       "      <td>0.99</td>\n",
       "      <td>0.99</td>\n",
       "      <td>0.0</td>\n",
       "      <td>No</td>\n",
       "      <td>No</td>\n",
       "      <td>No</td>\n",
       "      <td>Yes</td>\n",
       "      <td>No</td>\n",
       "      <td>No</td>\n",
       "    </tr>\n",
       "    <tr>\n",
       "      <th>2</th>\n",
       "      <td>1043696</td>\n",
       "      <td>2.0</td>\n",
       "      <td>NaN</td>\n",
       "      <td>0.0</td>\n",
       "      <td>0.0</td>\n",
       "      <td>0.0</td>\n",
       "      <td>0.0</td>\n",
       "      <td>0.0</td>\n",
       "      <td>0.0</td>\n",
       "      <td>0.0</td>\n",
       "      <td>0.0</td>\n",
       "      <td>0.0</td>\n",
       "      <td>No</td>\n",
       "      <td>0.0</td>\n",
       "      <td>-99.00</td>\n",
       "      <td>-99.00</td>\n",
       "      <td>0.0</td>\n",
       "      <td>Yes</td>\n",
       "      <td>No</td>\n",
       "      <td>No</td>\n",
       "      <td>Yes</td>\n",
       "      <td>No</td>\n",
       "      <td>No</td>\n",
       "    </tr>\n",
       "    <tr>\n",
       "      <th>3</th>\n",
       "      <td>1043852</td>\n",
       "      <td>7.0</td>\n",
       "      <td>8.0</td>\n",
       "      <td>0.0</td>\n",
       "      <td>0.0</td>\n",
       "      <td>0.0</td>\n",
       "      <td>0.0</td>\n",
       "      <td>0.0</td>\n",
       "      <td>0.0</td>\n",
       "      <td>0.0</td>\n",
       "      <td>0.0</td>\n",
       "      <td>1.0</td>\n",
       "      <td>No</td>\n",
       "      <td>0.0</td>\n",
       "      <td>0.10</td>\n",
       "      <td>0.13</td>\n",
       "      <td>0.0</td>\n",
       "      <td>No</td>\n",
       "      <td>No</td>\n",
       "      <td>No</td>\n",
       "      <td>Yes</td>\n",
       "      <td>No</td>\n",
       "      <td>No</td>\n",
       "    </tr>\n",
       "    <tr>\n",
       "      <th>4</th>\n",
       "      <td>1044048</td>\n",
       "      <td>8.0</td>\n",
       "      <td>NaN</td>\n",
       "      <td>0.0</td>\n",
       "      <td>0.0</td>\n",
       "      <td>0.0</td>\n",
       "      <td>0.0</td>\n",
       "      <td>0.0</td>\n",
       "      <td>0.0</td>\n",
       "      <td>0.0</td>\n",
       "      <td>4.0</td>\n",
       "      <td>2.0</td>\n",
       "      <td>No</td>\n",
       "      <td>0.0</td>\n",
       "      <td>-99.00</td>\n",
       "      <td>-99.00</td>\n",
       "      <td>0.0</td>\n",
       "      <td>Yes</td>\n",
       "      <td>No</td>\n",
       "      <td>No</td>\n",
       "      <td>Yes</td>\n",
       "      <td>No</td>\n",
       "      <td>No</td>\n",
       "    </tr>\n",
       "    <tr>\n",
       "      <th>...</th>\n",
       "      <td>...</td>\n",
       "      <td>...</td>\n",
       "      <td>...</td>\n",
       "      <td>...</td>\n",
       "      <td>...</td>\n",
       "      <td>...</td>\n",
       "      <td>...</td>\n",
       "      <td>...</td>\n",
       "      <td>...</td>\n",
       "      <td>...</td>\n",
       "      <td>...</td>\n",
       "      <td>...</td>\n",
       "      <td>...</td>\n",
       "      <td>...</td>\n",
       "      <td>...</td>\n",
       "      <td>...</td>\n",
       "      <td>...</td>\n",
       "      <td>...</td>\n",
       "      <td>...</td>\n",
       "      <td>...</td>\n",
       "      <td>...</td>\n",
       "      <td>...</td>\n",
       "      <td>...</td>\n",
       "    </tr>\n",
       "    <tr>\n",
       "      <th>1929932</th>\n",
       "      <td>3526988</td>\n",
       "      <td>13.0</td>\n",
       "      <td>12.0</td>\n",
       "      <td>0.0</td>\n",
       "      <td>0.0</td>\n",
       "      <td>0.0</td>\n",
       "      <td>0.0</td>\n",
       "      <td>0.0</td>\n",
       "      <td>0.0</td>\n",
       "      <td>0.0</td>\n",
       "      <td>0.0</td>\n",
       "      <td>1.0</td>\n",
       "      <td>No</td>\n",
       "      <td>0.0</td>\n",
       "      <td>0.48</td>\n",
       "      <td>0.48</td>\n",
       "      <td>0.0</td>\n",
       "      <td>Yes</td>\n",
       "      <td>No</td>\n",
       "      <td>No</td>\n",
       "      <td>Yes</td>\n",
       "      <td>No</td>\n",
       "      <td>No</td>\n",
       "    </tr>\n",
       "    <tr>\n",
       "      <th>1929933</th>\n",
       "      <td>3526989</td>\n",
       "      <td>13.0</td>\n",
       "      <td>12.0</td>\n",
       "      <td>0.0</td>\n",
       "      <td>0.0</td>\n",
       "      <td>0.0</td>\n",
       "      <td>0.0</td>\n",
       "      <td>0.0</td>\n",
       "      <td>0.0</td>\n",
       "      <td>0.0</td>\n",
       "      <td>0.0</td>\n",
       "      <td>1.0</td>\n",
       "      <td>No</td>\n",
       "      <td>0.0</td>\n",
       "      <td>0.48</td>\n",
       "      <td>0.48</td>\n",
       "      <td>0.0</td>\n",
       "      <td>Yes</td>\n",
       "      <td>No</td>\n",
       "      <td>No</td>\n",
       "      <td>Yes</td>\n",
       "      <td>No</td>\n",
       "      <td>No</td>\n",
       "    </tr>\n",
       "    <tr>\n",
       "      <th>1929934</th>\n",
       "      <td>3526990</td>\n",
       "      <td>10.0</td>\n",
       "      <td>12.0</td>\n",
       "      <td>0.0</td>\n",
       "      <td>0.0</td>\n",
       "      <td>0.0</td>\n",
       "      <td>0.0</td>\n",
       "      <td>0.0</td>\n",
       "      <td>0.0</td>\n",
       "      <td>0.0</td>\n",
       "      <td>0.0</td>\n",
       "      <td>1.0</td>\n",
       "      <td>No</td>\n",
       "      <td>0.0</td>\n",
       "      <td>0.48</td>\n",
       "      <td>0.48</td>\n",
       "      <td>0.0</td>\n",
       "      <td>Yes</td>\n",
       "      <td>No</td>\n",
       "      <td>No</td>\n",
       "      <td>Yes</td>\n",
       "      <td>No</td>\n",
       "      <td>No</td>\n",
       "    </tr>\n",
       "    <tr>\n",
       "      <th>1929935</th>\n",
       "      <td>3526991</td>\n",
       "      <td>2913.0</td>\n",
       "      <td>12.0</td>\n",
       "      <td>0.0</td>\n",
       "      <td>0.0</td>\n",
       "      <td>0.0</td>\n",
       "      <td>0.0</td>\n",
       "      <td>0.0</td>\n",
       "      <td>30.0</td>\n",
       "      <td>88.0</td>\n",
       "      <td>88.0</td>\n",
       "      <td>4.0</td>\n",
       "      <td>No</td>\n",
       "      <td>0.0</td>\n",
       "      <td>0.48</td>\n",
       "      <td>0.48</td>\n",
       "      <td>0.0</td>\n",
       "      <td>Yes</td>\n",
       "      <td>No</td>\n",
       "      <td>No</td>\n",
       "      <td>Yes</td>\n",
       "      <td>No</td>\n",
       "      <td>No</td>\n",
       "    </tr>\n",
       "    <tr>\n",
       "      <th>1929936</th>\n",
       "      <td>(242075 rows)</td>\n",
       "      <td>NaN</td>\n",
       "      <td>NaN</td>\n",
       "      <td>NaN</td>\n",
       "      <td>NaN</td>\n",
       "      <td>NaN</td>\n",
       "      <td>NaN</td>\n",
       "      <td>NaN</td>\n",
       "      <td>NaN</td>\n",
       "      <td>NaN</td>\n",
       "      <td>NaN</td>\n",
       "      <td>NaN</td>\n",
       "      <td>NaN</td>\n",
       "      <td>NaN</td>\n",
       "      <td>NaN</td>\n",
       "      <td>NaN</td>\n",
       "      <td>NaN</td>\n",
       "      <td>NaN</td>\n",
       "      <td>NaN</td>\n",
       "      <td>NaN</td>\n",
       "      <td>NaN</td>\n",
       "      <td>NaN</td>\n",
       "      <td>NaN</td>\n",
       "    </tr>\n",
       "  </tbody>\n",
       "</table>\n",
       "<p>1929937 rows × 23 columns</p>\n",
       "</div>"
      ],
      "text/plain": [
       "                   sku  national_inv  lead_time  in_transit_qty  \\\n",
       "0              1026827           0.0        NaN             0.0   \n",
       "1              1043384           2.0        9.0             0.0   \n",
       "2              1043696           2.0        NaN             0.0   \n",
       "3              1043852           7.0        8.0             0.0   \n",
       "4              1044048           8.0        NaN             0.0   \n",
       "...                ...           ...        ...             ...   \n",
       "1929932        3526988          13.0       12.0             0.0   \n",
       "1929933        3526989          13.0       12.0             0.0   \n",
       "1929934        3526990          10.0       12.0             0.0   \n",
       "1929935        3526991        2913.0       12.0             0.0   \n",
       "1929936  (242075 rows)           NaN        NaN             NaN   \n",
       "\n",
       "         forecast_3_month  forecast_6_month  forecast_9_month  sales_1_month  \\\n",
       "0                     0.0               0.0               0.0            0.0   \n",
       "1                     0.0               0.0               0.0            0.0   \n",
       "2                     0.0               0.0               0.0            0.0   \n",
       "3                     0.0               0.0               0.0            0.0   \n",
       "4                     0.0               0.0               0.0            0.0   \n",
       "...                   ...               ...               ...            ...   \n",
       "1929932               0.0               0.0               0.0            0.0   \n",
       "1929933               0.0               0.0               0.0            0.0   \n",
       "1929934               0.0               0.0               0.0            0.0   \n",
       "1929935               0.0               0.0               0.0            0.0   \n",
       "1929936               NaN               NaN               NaN            NaN   \n",
       "\n",
       "         sales_3_month  sales_6_month  sales_9_month  min_bank  \\\n",
       "0                  0.0            0.0            0.0       0.0   \n",
       "1                  0.0            0.0            0.0       0.0   \n",
       "2                  0.0            0.0            0.0       0.0   \n",
       "3                  0.0            0.0            0.0       1.0   \n",
       "4                  0.0            0.0            4.0       2.0   \n",
       "...                ...            ...            ...       ...   \n",
       "1929932            0.0            0.0            0.0       1.0   \n",
       "1929933            0.0            0.0            0.0       1.0   \n",
       "1929934            0.0            0.0            0.0       1.0   \n",
       "1929935           30.0           88.0           88.0       4.0   \n",
       "1929936            NaN            NaN            NaN       NaN   \n",
       "\n",
       "        potential_issue  pieces_past_due  perf_6_month_avg  perf_12_month_avg  \\\n",
       "0                    No              0.0            -99.00             -99.00   \n",
       "1                    No              0.0              0.99               0.99   \n",
       "2                    No              0.0            -99.00             -99.00   \n",
       "3                    No              0.0              0.10               0.13   \n",
       "4                    No              0.0            -99.00             -99.00   \n",
       "...                 ...              ...               ...                ...   \n",
       "1929932              No              0.0              0.48               0.48   \n",
       "1929933              No              0.0              0.48               0.48   \n",
       "1929934              No              0.0              0.48               0.48   \n",
       "1929935              No              0.0              0.48               0.48   \n",
       "1929936             NaN              NaN               NaN                NaN   \n",
       "\n",
       "         local_bo_qty deck_risk oe_constraint ppap_risk stop_auto_buy  \\\n",
       "0                 0.0        No            No        No           Yes   \n",
       "1                 0.0        No            No        No           Yes   \n",
       "2                 0.0       Yes            No        No           Yes   \n",
       "3                 0.0        No            No        No           Yes   \n",
       "4                 0.0       Yes            No        No           Yes   \n",
       "...               ...       ...           ...       ...           ...   \n",
       "1929932           0.0       Yes            No        No           Yes   \n",
       "1929933           0.0       Yes            No        No           Yes   \n",
       "1929934           0.0       Yes            No        No           Yes   \n",
       "1929935           0.0       Yes            No        No           Yes   \n",
       "1929936           NaN       NaN           NaN       NaN           NaN   \n",
       "\n",
       "        rev_stop went_on_backorder  \n",
       "0             No                No  \n",
       "1             No                No  \n",
       "2             No                No  \n",
       "3             No                No  \n",
       "4             No                No  \n",
       "...          ...               ...  \n",
       "1929932       No                No  \n",
       "1929933       No                No  \n",
       "1929934       No                No  \n",
       "1929935       No                No  \n",
       "1929936      NaN               NaN  \n",
       "\n",
       "[1929937 rows x 23 columns]"
      ]
     },
     "execution_count": 5,
     "metadata": {},
     "output_type": "execute_result"
    }
   ],
   "source": [
    " # let's make it into a single dataset\n",
    " df = train.append(test)\n",
    " df.reset_index(drop=True, inplace=True)\n",
    " df"
   ]
  },
  {
   "cell_type": "code",
   "execution_count": 6,
   "id": "Vou5dGXRED4u",
   "metadata": {
    "colab": {
     "base_uri": "https://localhost:8080/",
     "height": 444
    },
    "executionInfo": {
     "elapsed": 9,
     "status": "ok",
     "timestamp": 1711549872982,
     "user": {
      "displayName": "Aditya Nikumbh",
      "userId": "07855731611952259482"
     },
     "user_tz": 0
    },
    "id": "Vou5dGXRED4u",
    "outputId": "9a19dc97-4096-47dd-9fe1-05ba8ef31c19"
   },
   "outputs": [
    {
     "data": {
      "text/html": [
       "<div>\n",
       "<style scoped>\n",
       "    .dataframe tbody tr th:only-of-type {\n",
       "        vertical-align: middle;\n",
       "    }\n",
       "\n",
       "    .dataframe tbody tr th {\n",
       "        vertical-align: top;\n",
       "    }\n",
       "\n",
       "    .dataframe thead th {\n",
       "        text-align: right;\n",
       "    }\n",
       "</style>\n",
       "<table border=\"1\" class=\"dataframe\">\n",
       "  <thead>\n",
       "    <tr style=\"text-align: right;\">\n",
       "      <th></th>\n",
       "      <th>sku</th>\n",
       "      <th>national_inv</th>\n",
       "      <th>lead_time</th>\n",
       "      <th>in_transit_qty</th>\n",
       "      <th>forecast_3_month</th>\n",
       "      <th>forecast_6_month</th>\n",
       "      <th>forecast_9_month</th>\n",
       "      <th>sales_1_month</th>\n",
       "      <th>sales_3_month</th>\n",
       "      <th>sales_6_month</th>\n",
       "      <th>sales_9_month</th>\n",
       "      <th>min_bank</th>\n",
       "      <th>potential_issue</th>\n",
       "      <th>pieces_past_due</th>\n",
       "      <th>perf_6_month_avg</th>\n",
       "      <th>perf_12_month_avg</th>\n",
       "      <th>local_bo_qty</th>\n",
       "      <th>deck_risk</th>\n",
       "      <th>oe_constraint</th>\n",
       "      <th>ppap_risk</th>\n",
       "      <th>stop_auto_buy</th>\n",
       "      <th>rev_stop</th>\n",
       "      <th>went_on_backorder</th>\n",
       "    </tr>\n",
       "  </thead>\n",
       "  <tbody>\n",
       "    <tr>\n",
       "      <th>0</th>\n",
       "      <td>1026827</td>\n",
       "      <td>0.0</td>\n",
       "      <td>NaN</td>\n",
       "      <td>0.0</td>\n",
       "      <td>0.0</td>\n",
       "      <td>0.0</td>\n",
       "      <td>0.0</td>\n",
       "      <td>0.0</td>\n",
       "      <td>0.0</td>\n",
       "      <td>0.0</td>\n",
       "      <td>0.0</td>\n",
       "      <td>0.0</td>\n",
       "      <td>No</td>\n",
       "      <td>0.0</td>\n",
       "      <td>-99.00</td>\n",
       "      <td>-99.00</td>\n",
       "      <td>0.0</td>\n",
       "      <td>No</td>\n",
       "      <td>No</td>\n",
       "      <td>No</td>\n",
       "      <td>Yes</td>\n",
       "      <td>No</td>\n",
       "      <td>No</td>\n",
       "    </tr>\n",
       "    <tr>\n",
       "      <th>1</th>\n",
       "      <td>1043384</td>\n",
       "      <td>2.0</td>\n",
       "      <td>9.0</td>\n",
       "      <td>0.0</td>\n",
       "      <td>0.0</td>\n",
       "      <td>0.0</td>\n",
       "      <td>0.0</td>\n",
       "      <td>0.0</td>\n",
       "      <td>0.0</td>\n",
       "      <td>0.0</td>\n",
       "      <td>0.0</td>\n",
       "      <td>0.0</td>\n",
       "      <td>No</td>\n",
       "      <td>0.0</td>\n",
       "      <td>0.99</td>\n",
       "      <td>0.99</td>\n",
       "      <td>0.0</td>\n",
       "      <td>No</td>\n",
       "      <td>No</td>\n",
       "      <td>No</td>\n",
       "      <td>Yes</td>\n",
       "      <td>No</td>\n",
       "      <td>No</td>\n",
       "    </tr>\n",
       "    <tr>\n",
       "      <th>2</th>\n",
       "      <td>1043696</td>\n",
       "      <td>2.0</td>\n",
       "      <td>NaN</td>\n",
       "      <td>0.0</td>\n",
       "      <td>0.0</td>\n",
       "      <td>0.0</td>\n",
       "      <td>0.0</td>\n",
       "      <td>0.0</td>\n",
       "      <td>0.0</td>\n",
       "      <td>0.0</td>\n",
       "      <td>0.0</td>\n",
       "      <td>0.0</td>\n",
       "      <td>No</td>\n",
       "      <td>0.0</td>\n",
       "      <td>-99.00</td>\n",
       "      <td>-99.00</td>\n",
       "      <td>0.0</td>\n",
       "      <td>Yes</td>\n",
       "      <td>No</td>\n",
       "      <td>No</td>\n",
       "      <td>Yes</td>\n",
       "      <td>No</td>\n",
       "      <td>No</td>\n",
       "    </tr>\n",
       "    <tr>\n",
       "      <th>3</th>\n",
       "      <td>1043852</td>\n",
       "      <td>7.0</td>\n",
       "      <td>8.0</td>\n",
       "      <td>0.0</td>\n",
       "      <td>0.0</td>\n",
       "      <td>0.0</td>\n",
       "      <td>0.0</td>\n",
       "      <td>0.0</td>\n",
       "      <td>0.0</td>\n",
       "      <td>0.0</td>\n",
       "      <td>0.0</td>\n",
       "      <td>1.0</td>\n",
       "      <td>No</td>\n",
       "      <td>0.0</td>\n",
       "      <td>0.10</td>\n",
       "      <td>0.13</td>\n",
       "      <td>0.0</td>\n",
       "      <td>No</td>\n",
       "      <td>No</td>\n",
       "      <td>No</td>\n",
       "      <td>Yes</td>\n",
       "      <td>No</td>\n",
       "      <td>No</td>\n",
       "    </tr>\n",
       "    <tr>\n",
       "      <th>4</th>\n",
       "      <td>1044048</td>\n",
       "      <td>8.0</td>\n",
       "      <td>NaN</td>\n",
       "      <td>0.0</td>\n",
       "      <td>0.0</td>\n",
       "      <td>0.0</td>\n",
       "      <td>0.0</td>\n",
       "      <td>0.0</td>\n",
       "      <td>0.0</td>\n",
       "      <td>0.0</td>\n",
       "      <td>4.0</td>\n",
       "      <td>2.0</td>\n",
       "      <td>No</td>\n",
       "      <td>0.0</td>\n",
       "      <td>-99.00</td>\n",
       "      <td>-99.00</td>\n",
       "      <td>0.0</td>\n",
       "      <td>Yes</td>\n",
       "      <td>No</td>\n",
       "      <td>No</td>\n",
       "      <td>Yes</td>\n",
       "      <td>No</td>\n",
       "      <td>No</td>\n",
       "    </tr>\n",
       "    <tr>\n",
       "      <th>...</th>\n",
       "      <td>...</td>\n",
       "      <td>...</td>\n",
       "      <td>...</td>\n",
       "      <td>...</td>\n",
       "      <td>...</td>\n",
       "      <td>...</td>\n",
       "      <td>...</td>\n",
       "      <td>...</td>\n",
       "      <td>...</td>\n",
       "      <td>...</td>\n",
       "      <td>...</td>\n",
       "      <td>...</td>\n",
       "      <td>...</td>\n",
       "      <td>...</td>\n",
       "      <td>...</td>\n",
       "      <td>...</td>\n",
       "      <td>...</td>\n",
       "      <td>...</td>\n",
       "      <td>...</td>\n",
       "      <td>...</td>\n",
       "      <td>...</td>\n",
       "      <td>...</td>\n",
       "      <td>...</td>\n",
       "    </tr>\n",
       "    <tr>\n",
       "      <th>1929931</th>\n",
       "      <td>3526987</td>\n",
       "      <td>12.0</td>\n",
       "      <td>12.0</td>\n",
       "      <td>0.0</td>\n",
       "      <td>0.0</td>\n",
       "      <td>0.0</td>\n",
       "      <td>0.0</td>\n",
       "      <td>0.0</td>\n",
       "      <td>0.0</td>\n",
       "      <td>0.0</td>\n",
       "      <td>0.0</td>\n",
       "      <td>1.0</td>\n",
       "      <td>No</td>\n",
       "      <td>0.0</td>\n",
       "      <td>0.48</td>\n",
       "      <td>0.48</td>\n",
       "      <td>0.0</td>\n",
       "      <td>Yes</td>\n",
       "      <td>No</td>\n",
       "      <td>No</td>\n",
       "      <td>Yes</td>\n",
       "      <td>No</td>\n",
       "      <td>No</td>\n",
       "    </tr>\n",
       "    <tr>\n",
       "      <th>1929932</th>\n",
       "      <td>3526988</td>\n",
       "      <td>13.0</td>\n",
       "      <td>12.0</td>\n",
       "      <td>0.0</td>\n",
       "      <td>0.0</td>\n",
       "      <td>0.0</td>\n",
       "      <td>0.0</td>\n",
       "      <td>0.0</td>\n",
       "      <td>0.0</td>\n",
       "      <td>0.0</td>\n",
       "      <td>0.0</td>\n",
       "      <td>1.0</td>\n",
       "      <td>No</td>\n",
       "      <td>0.0</td>\n",
       "      <td>0.48</td>\n",
       "      <td>0.48</td>\n",
       "      <td>0.0</td>\n",
       "      <td>Yes</td>\n",
       "      <td>No</td>\n",
       "      <td>No</td>\n",
       "      <td>Yes</td>\n",
       "      <td>No</td>\n",
       "      <td>No</td>\n",
       "    </tr>\n",
       "    <tr>\n",
       "      <th>1929933</th>\n",
       "      <td>3526989</td>\n",
       "      <td>13.0</td>\n",
       "      <td>12.0</td>\n",
       "      <td>0.0</td>\n",
       "      <td>0.0</td>\n",
       "      <td>0.0</td>\n",
       "      <td>0.0</td>\n",
       "      <td>0.0</td>\n",
       "      <td>0.0</td>\n",
       "      <td>0.0</td>\n",
       "      <td>0.0</td>\n",
       "      <td>1.0</td>\n",
       "      <td>No</td>\n",
       "      <td>0.0</td>\n",
       "      <td>0.48</td>\n",
       "      <td>0.48</td>\n",
       "      <td>0.0</td>\n",
       "      <td>Yes</td>\n",
       "      <td>No</td>\n",
       "      <td>No</td>\n",
       "      <td>Yes</td>\n",
       "      <td>No</td>\n",
       "      <td>No</td>\n",
       "    </tr>\n",
       "    <tr>\n",
       "      <th>1929934</th>\n",
       "      <td>3526990</td>\n",
       "      <td>10.0</td>\n",
       "      <td>12.0</td>\n",
       "      <td>0.0</td>\n",
       "      <td>0.0</td>\n",
       "      <td>0.0</td>\n",
       "      <td>0.0</td>\n",
       "      <td>0.0</td>\n",
       "      <td>0.0</td>\n",
       "      <td>0.0</td>\n",
       "      <td>0.0</td>\n",
       "      <td>1.0</td>\n",
       "      <td>No</td>\n",
       "      <td>0.0</td>\n",
       "      <td>0.48</td>\n",
       "      <td>0.48</td>\n",
       "      <td>0.0</td>\n",
       "      <td>Yes</td>\n",
       "      <td>No</td>\n",
       "      <td>No</td>\n",
       "      <td>Yes</td>\n",
       "      <td>No</td>\n",
       "      <td>No</td>\n",
       "    </tr>\n",
       "    <tr>\n",
       "      <th>1929935</th>\n",
       "      <td>3526991</td>\n",
       "      <td>2913.0</td>\n",
       "      <td>12.0</td>\n",
       "      <td>0.0</td>\n",
       "      <td>0.0</td>\n",
       "      <td>0.0</td>\n",
       "      <td>0.0</td>\n",
       "      <td>0.0</td>\n",
       "      <td>30.0</td>\n",
       "      <td>88.0</td>\n",
       "      <td>88.0</td>\n",
       "      <td>4.0</td>\n",
       "      <td>No</td>\n",
       "      <td>0.0</td>\n",
       "      <td>0.48</td>\n",
       "      <td>0.48</td>\n",
       "      <td>0.0</td>\n",
       "      <td>Yes</td>\n",
       "      <td>No</td>\n",
       "      <td>No</td>\n",
       "      <td>Yes</td>\n",
       "      <td>No</td>\n",
       "      <td>No</td>\n",
       "    </tr>\n",
       "  </tbody>\n",
       "</table>\n",
       "<p>1929936 rows × 23 columns</p>\n",
       "</div>"
      ],
      "text/plain": [
       "             sku  national_inv  lead_time  in_transit_qty  forecast_3_month  \\\n",
       "0        1026827           0.0        NaN             0.0               0.0   \n",
       "1        1043384           2.0        9.0             0.0               0.0   \n",
       "2        1043696           2.0        NaN             0.0               0.0   \n",
       "3        1043852           7.0        8.0             0.0               0.0   \n",
       "4        1044048           8.0        NaN             0.0               0.0   \n",
       "...          ...           ...        ...             ...               ...   \n",
       "1929931  3526987          12.0       12.0             0.0               0.0   \n",
       "1929932  3526988          13.0       12.0             0.0               0.0   \n",
       "1929933  3526989          13.0       12.0             0.0               0.0   \n",
       "1929934  3526990          10.0       12.0             0.0               0.0   \n",
       "1929935  3526991        2913.0       12.0             0.0               0.0   \n",
       "\n",
       "         forecast_6_month  forecast_9_month  sales_1_month  sales_3_month  \\\n",
       "0                     0.0               0.0            0.0            0.0   \n",
       "1                     0.0               0.0            0.0            0.0   \n",
       "2                     0.0               0.0            0.0            0.0   \n",
       "3                     0.0               0.0            0.0            0.0   \n",
       "4                     0.0               0.0            0.0            0.0   \n",
       "...                   ...               ...            ...            ...   \n",
       "1929931               0.0               0.0            0.0            0.0   \n",
       "1929932               0.0               0.0            0.0            0.0   \n",
       "1929933               0.0               0.0            0.0            0.0   \n",
       "1929934               0.0               0.0            0.0            0.0   \n",
       "1929935               0.0               0.0            0.0           30.0   \n",
       "\n",
       "         sales_6_month  sales_9_month  min_bank potential_issue  \\\n",
       "0                  0.0            0.0       0.0              No   \n",
       "1                  0.0            0.0       0.0              No   \n",
       "2                  0.0            0.0       0.0              No   \n",
       "3                  0.0            0.0       1.0              No   \n",
       "4                  0.0            4.0       2.0              No   \n",
       "...                ...            ...       ...             ...   \n",
       "1929931            0.0            0.0       1.0              No   \n",
       "1929932            0.0            0.0       1.0              No   \n",
       "1929933            0.0            0.0       1.0              No   \n",
       "1929934            0.0            0.0       1.0              No   \n",
       "1929935           88.0           88.0       4.0              No   \n",
       "\n",
       "         pieces_past_due  perf_6_month_avg  perf_12_month_avg  local_bo_qty  \\\n",
       "0                    0.0            -99.00             -99.00           0.0   \n",
       "1                    0.0              0.99               0.99           0.0   \n",
       "2                    0.0            -99.00             -99.00           0.0   \n",
       "3                    0.0              0.10               0.13           0.0   \n",
       "4                    0.0            -99.00             -99.00           0.0   \n",
       "...                  ...               ...                ...           ...   \n",
       "1929931              0.0              0.48               0.48           0.0   \n",
       "1929932              0.0              0.48               0.48           0.0   \n",
       "1929933              0.0              0.48               0.48           0.0   \n",
       "1929934              0.0              0.48               0.48           0.0   \n",
       "1929935              0.0              0.48               0.48           0.0   \n",
       "\n",
       "        deck_risk oe_constraint ppap_risk stop_auto_buy rev_stop  \\\n",
       "0              No            No        No           Yes       No   \n",
       "1              No            No        No           Yes       No   \n",
       "2             Yes            No        No           Yes       No   \n",
       "3              No            No        No           Yes       No   \n",
       "4             Yes            No        No           Yes       No   \n",
       "...           ...           ...       ...           ...      ...   \n",
       "1929931       Yes            No        No           Yes       No   \n",
       "1929932       Yes            No        No           Yes       No   \n",
       "1929933       Yes            No        No           Yes       No   \n",
       "1929934       Yes            No        No           Yes       No   \n",
       "1929935       Yes            No        No           Yes       No   \n",
       "\n",
       "        went_on_backorder  \n",
       "0                      No  \n",
       "1                      No  \n",
       "2                      No  \n",
       "3                      No  \n",
       "4                      No  \n",
       "...                   ...  \n",
       "1929931                No  \n",
       "1929932                No  \n",
       "1929933                No  \n",
       "1929934                No  \n",
       "1929935                No  \n",
       "\n",
       "[1929936 rows x 23 columns]"
      ]
     },
     "execution_count": 6,
     "metadata": {},
     "output_type": "execute_result"
    }
   ],
   "source": [
    "# as we observe the last row has all the values as NaN, we will remove the last row\n",
    "df = df.iloc[:-1]\n",
    "df"
   ]
  },
  {
   "cell_type": "code",
   "execution_count": 7,
   "id": "T_FlbT1HCvme",
   "metadata": {
    "colab": {
     "base_uri": "https://localhost:8080/"
    },
    "executionInfo": {
     "elapsed": 8,
     "status": "ok",
     "timestamp": 1711549872982,
     "user": {
      "displayName": "Aditya Nikumbh",
      "userId": "07855731611952259482"
     },
     "user_tz": 0
    },
    "id": "T_FlbT1HCvme",
    "outputId": "9f1b6e61-8a1f-49ff-98e4-7c17ec038577"
   },
   "outputs": [
    {
     "name": "stdout",
     "output_type": "stream",
     "text": [
      "<class 'pandas.core.frame.DataFrame'>\n",
      "RangeIndex: 1929936 entries, 0 to 1929935\n",
      "Data columns (total 23 columns):\n",
      " #   Column             Dtype  \n",
      "---  ------             -----  \n",
      " 0   sku                object \n",
      " 1   national_inv       float64\n",
      " 2   lead_time          float64\n",
      " 3   in_transit_qty     float64\n",
      " 4   forecast_3_month   float64\n",
      " 5   forecast_6_month   float64\n",
      " 6   forecast_9_month   float64\n",
      " 7   sales_1_month      float64\n",
      " 8   sales_3_month      float64\n",
      " 9   sales_6_month      float64\n",
      " 10  sales_9_month      float64\n",
      " 11  min_bank           float64\n",
      " 12  potential_issue    object \n",
      " 13  pieces_past_due    float64\n",
      " 14  perf_6_month_avg   float64\n",
      " 15  perf_12_month_avg  float64\n",
      " 16  local_bo_qty       float64\n",
      " 17  deck_risk          object \n",
      " 18  oe_constraint      object \n",
      " 19  ppap_risk          object \n",
      " 20  stop_auto_buy      object \n",
      " 21  rev_stop           object \n",
      " 22  went_on_backorder  object \n",
      "dtypes: float64(15), object(8)\n",
      "memory usage: 338.7+ MB\n"
     ]
    }
   ],
   "source": [
    "df.info()"
   ]
  },
  {
   "cell_type": "code",
   "execution_count": 8,
   "id": "KWHNkjGrC1jB",
   "metadata": {
    "colab": {
     "base_uri": "https://localhost:8080/",
     "height": 320
    },
    "executionInfo": {
     "elapsed": 2107,
     "status": "ok",
     "timestamp": 1711549875083,
     "user": {
      "displayName": "Aditya Nikumbh",
      "userId": "07855731611952259482"
     },
     "user_tz": 0
    },
    "id": "KWHNkjGrC1jB",
    "outputId": "6f039aec-e509-44dc-e164-3ed09a4e7e5b"
   },
   "outputs": [
    {
     "data": {
      "text/html": [
       "<div>\n",
       "<style scoped>\n",
       "    .dataframe tbody tr th:only-of-type {\n",
       "        vertical-align: middle;\n",
       "    }\n",
       "\n",
       "    .dataframe tbody tr th {\n",
       "        vertical-align: top;\n",
       "    }\n",
       "\n",
       "    .dataframe thead th {\n",
       "        text-align: right;\n",
       "    }\n",
       "</style>\n",
       "<table border=\"1\" class=\"dataframe\">\n",
       "  <thead>\n",
       "    <tr style=\"text-align: right;\">\n",
       "      <th></th>\n",
       "      <th>national_inv</th>\n",
       "      <th>lead_time</th>\n",
       "      <th>in_transit_qty</th>\n",
       "      <th>forecast_3_month</th>\n",
       "      <th>forecast_6_month</th>\n",
       "      <th>forecast_9_month</th>\n",
       "      <th>sales_1_month</th>\n",
       "      <th>sales_3_month</th>\n",
       "      <th>sales_6_month</th>\n",
       "      <th>sales_9_month</th>\n",
       "      <th>min_bank</th>\n",
       "      <th>pieces_past_due</th>\n",
       "      <th>perf_6_month_avg</th>\n",
       "      <th>perf_12_month_avg</th>\n",
       "      <th>local_bo_qty</th>\n",
       "    </tr>\n",
       "  </thead>\n",
       "  <tbody>\n",
       "    <tr>\n",
       "      <th>count</th>\n",
       "      <td>1.929935e+06</td>\n",
       "      <td>1.814318e+06</td>\n",
       "      <td>1.929935e+06</td>\n",
       "      <td>1.929935e+06</td>\n",
       "      <td>1.929935e+06</td>\n",
       "      <td>1.929935e+06</td>\n",
       "      <td>1.929935e+06</td>\n",
       "      <td>1.929935e+06</td>\n",
       "      <td>1.929935e+06</td>\n",
       "      <td>1.929935e+06</td>\n",
       "      <td>1.929935e+06</td>\n",
       "      <td>1.929935e+06</td>\n",
       "      <td>1.929935e+06</td>\n",
       "      <td>1.929935e+06</td>\n",
       "      <td>1.929935e+06</td>\n",
       "    </tr>\n",
       "    <tr>\n",
       "      <th>mean</th>\n",
       "      <td>4.965683e+02</td>\n",
       "      <td>7.878627e+00</td>\n",
       "      <td>4.306440e+01</td>\n",
       "      <td>1.785399e+02</td>\n",
       "      <td>3.454659e+02</td>\n",
       "      <td>5.066067e+02</td>\n",
       "      <td>5.536816e+01</td>\n",
       "      <td>1.746639e+02</td>\n",
       "      <td>3.415653e+02</td>\n",
       "      <td>5.235771e+02</td>\n",
       "      <td>5.277637e+01</td>\n",
       "      <td>2.016193e+00</td>\n",
       "      <td>-6.899870e+00</td>\n",
       "      <td>-6.462343e+00</td>\n",
       "      <td>6.537039e-01</td>\n",
       "    </tr>\n",
       "    <tr>\n",
       "      <th>std</th>\n",
       "      <td>2.957343e+04</td>\n",
       "      <td>7.054212e+00</td>\n",
       "      <td>1.295420e+03</td>\n",
       "      <td>5.108770e+03</td>\n",
       "      <td>9.831562e+03</td>\n",
       "      <td>1.434543e+04</td>\n",
       "      <td>1.884377e+03</td>\n",
       "      <td>5.188856e+03</td>\n",
       "      <td>9.585030e+03</td>\n",
       "      <td>1.473327e+04</td>\n",
       "      <td>1.257968e+03</td>\n",
       "      <td>2.296112e+02</td>\n",
       "      <td>2.659988e+01</td>\n",
       "      <td>2.588343e+01</td>\n",
       "      <td>3.543230e+01</td>\n",
       "    </tr>\n",
       "    <tr>\n",
       "      <th>min</th>\n",
       "      <td>-2.725600e+04</td>\n",
       "      <td>0.000000e+00</td>\n",
       "      <td>0.000000e+00</td>\n",
       "      <td>0.000000e+00</td>\n",
       "      <td>0.000000e+00</td>\n",
       "      <td>0.000000e+00</td>\n",
       "      <td>0.000000e+00</td>\n",
       "      <td>0.000000e+00</td>\n",
       "      <td>0.000000e+00</td>\n",
       "      <td>0.000000e+00</td>\n",
       "      <td>0.000000e+00</td>\n",
       "      <td>0.000000e+00</td>\n",
       "      <td>-9.900000e+01</td>\n",
       "      <td>-9.900000e+01</td>\n",
       "      <td>0.000000e+00</td>\n",
       "    </tr>\n",
       "    <tr>\n",
       "      <th>25%</th>\n",
       "      <td>4.000000e+00</td>\n",
       "      <td>4.000000e+00</td>\n",
       "      <td>0.000000e+00</td>\n",
       "      <td>0.000000e+00</td>\n",
       "      <td>0.000000e+00</td>\n",
       "      <td>0.000000e+00</td>\n",
       "      <td>0.000000e+00</td>\n",
       "      <td>0.000000e+00</td>\n",
       "      <td>0.000000e+00</td>\n",
       "      <td>0.000000e+00</td>\n",
       "      <td>0.000000e+00</td>\n",
       "      <td>0.000000e+00</td>\n",
       "      <td>6.300000e-01</td>\n",
       "      <td>6.600000e-01</td>\n",
       "      <td>0.000000e+00</td>\n",
       "    </tr>\n",
       "    <tr>\n",
       "      <th>50%</th>\n",
       "      <td>1.500000e+01</td>\n",
       "      <td>8.000000e+00</td>\n",
       "      <td>0.000000e+00</td>\n",
       "      <td>0.000000e+00</td>\n",
       "      <td>0.000000e+00</td>\n",
       "      <td>0.000000e+00</td>\n",
       "      <td>0.000000e+00</td>\n",
       "      <td>1.000000e+00</td>\n",
       "      <td>2.000000e+00</td>\n",
       "      <td>4.000000e+00</td>\n",
       "      <td>0.000000e+00</td>\n",
       "      <td>0.000000e+00</td>\n",
       "      <td>8.200000e-01</td>\n",
       "      <td>8.100000e-01</td>\n",
       "      <td>0.000000e+00</td>\n",
       "    </tr>\n",
       "    <tr>\n",
       "      <th>75%</th>\n",
       "      <td>8.000000e+01</td>\n",
       "      <td>9.000000e+00</td>\n",
       "      <td>0.000000e+00</td>\n",
       "      <td>4.000000e+00</td>\n",
       "      <td>1.200000e+01</td>\n",
       "      <td>2.000000e+01</td>\n",
       "      <td>4.000000e+00</td>\n",
       "      <td>1.500000e+01</td>\n",
       "      <td>3.100000e+01</td>\n",
       "      <td>4.700000e+01</td>\n",
       "      <td>3.000000e+00</td>\n",
       "      <td>0.000000e+00</td>\n",
       "      <td>9.600000e-01</td>\n",
       "      <td>9.500000e-01</td>\n",
       "      <td>0.000000e+00</td>\n",
       "    </tr>\n",
       "    <tr>\n",
       "      <th>max</th>\n",
       "      <td>1.233440e+07</td>\n",
       "      <td>5.200000e+01</td>\n",
       "      <td>4.894080e+05</td>\n",
       "      <td>1.510592e+06</td>\n",
       "      <td>2.461360e+06</td>\n",
       "      <td>3.777304e+06</td>\n",
       "      <td>7.417740e+05</td>\n",
       "      <td>1.105478e+06</td>\n",
       "      <td>2.146625e+06</td>\n",
       "      <td>3.205172e+06</td>\n",
       "      <td>3.133190e+05</td>\n",
       "      <td>1.464960e+05</td>\n",
       "      <td>1.000000e+00</td>\n",
       "      <td>1.000000e+00</td>\n",
       "      <td>1.253000e+04</td>\n",
       "    </tr>\n",
       "  </tbody>\n",
       "</table>\n",
       "</div>"
      ],
      "text/plain": [
       "       national_inv     lead_time  in_transit_qty  forecast_3_month  \\\n",
       "count  1.929935e+06  1.814318e+06    1.929935e+06      1.929935e+06   \n",
       "mean   4.965683e+02  7.878627e+00    4.306440e+01      1.785399e+02   \n",
       "std    2.957343e+04  7.054212e+00    1.295420e+03      5.108770e+03   \n",
       "min   -2.725600e+04  0.000000e+00    0.000000e+00      0.000000e+00   \n",
       "25%    4.000000e+00  4.000000e+00    0.000000e+00      0.000000e+00   \n",
       "50%    1.500000e+01  8.000000e+00    0.000000e+00      0.000000e+00   \n",
       "75%    8.000000e+01  9.000000e+00    0.000000e+00      4.000000e+00   \n",
       "max    1.233440e+07  5.200000e+01    4.894080e+05      1.510592e+06   \n",
       "\n",
       "       forecast_6_month  forecast_9_month  sales_1_month  sales_3_month  \\\n",
       "count      1.929935e+06      1.929935e+06   1.929935e+06   1.929935e+06   \n",
       "mean       3.454659e+02      5.066067e+02   5.536816e+01   1.746639e+02   \n",
       "std        9.831562e+03      1.434543e+04   1.884377e+03   5.188856e+03   \n",
       "min        0.000000e+00      0.000000e+00   0.000000e+00   0.000000e+00   \n",
       "25%        0.000000e+00      0.000000e+00   0.000000e+00   0.000000e+00   \n",
       "50%        0.000000e+00      0.000000e+00   0.000000e+00   1.000000e+00   \n",
       "75%        1.200000e+01      2.000000e+01   4.000000e+00   1.500000e+01   \n",
       "max        2.461360e+06      3.777304e+06   7.417740e+05   1.105478e+06   \n",
       "\n",
       "       sales_6_month  sales_9_month      min_bank  pieces_past_due  \\\n",
       "count   1.929935e+06   1.929935e+06  1.929935e+06     1.929935e+06   \n",
       "mean    3.415653e+02   5.235771e+02  5.277637e+01     2.016193e+00   \n",
       "std     9.585030e+03   1.473327e+04  1.257968e+03     2.296112e+02   \n",
       "min     0.000000e+00   0.000000e+00  0.000000e+00     0.000000e+00   \n",
       "25%     0.000000e+00   0.000000e+00  0.000000e+00     0.000000e+00   \n",
       "50%     2.000000e+00   4.000000e+00  0.000000e+00     0.000000e+00   \n",
       "75%     3.100000e+01   4.700000e+01  3.000000e+00     0.000000e+00   \n",
       "max     2.146625e+06   3.205172e+06  3.133190e+05     1.464960e+05   \n",
       "\n",
       "       perf_6_month_avg  perf_12_month_avg  local_bo_qty  \n",
       "count      1.929935e+06       1.929935e+06  1.929935e+06  \n",
       "mean      -6.899870e+00      -6.462343e+00  6.537039e-01  \n",
       "std        2.659988e+01       2.588343e+01  3.543230e+01  \n",
       "min       -9.900000e+01      -9.900000e+01  0.000000e+00  \n",
       "25%        6.300000e-01       6.600000e-01  0.000000e+00  \n",
       "50%        8.200000e-01       8.100000e-01  0.000000e+00  \n",
       "75%        9.600000e-01       9.500000e-01  0.000000e+00  \n",
       "max        1.000000e+00       1.000000e+00  1.253000e+04  "
      ]
     },
     "execution_count": 8,
     "metadata": {},
     "output_type": "execute_result"
    }
   ],
   "source": [
    "df.describe()"
   ]
  },
  {
   "cell_type": "markdown",
   "id": "7wndNolePluY",
   "metadata": {
    "id": "7wndNolePluY"
   },
   "source": [
    "## Distribution"
   ]
  },
  {
   "cell_type": "code",
   "execution_count": 9,
   "id": "XOP2mgVOPqfx",
   "metadata": {
    "colab": {
     "base_uri": "https://localhost:8080/"
    },
    "executionInfo": {
     "elapsed": 11,
     "status": "ok",
     "timestamp": 1711549875084,
     "user": {
      "displayName": "Aditya Nikumbh",
      "userId": "07855731611952259482"
     },
     "user_tz": 0
    },
    "id": "XOP2mgVOPqfx",
    "outputId": "55449a29-d92d-4e07-bb84-204de3b6939c"
   },
   "outputs": [
    {
     "data": {
      "text/plain": [
       "No     1915954\n",
       "Yes      13981\n",
       "Name: went_on_backorder, dtype: int64"
      ]
     },
     "execution_count": 9,
     "metadata": {},
     "output_type": "execute_result"
    }
   ],
   "source": [
    "# As we want to predict if the product went on backorder we will check the data distribution\n",
    "p = df['went_on_backorder'].value_counts()\n",
    "p"
   ]
  },
  {
   "cell_type": "code",
   "execution_count": 10,
   "id": "FlvWNbtyP6q4",
   "metadata": {
    "colab": {
     "base_uri": "https://localhost:8080/",
     "height": 510
    },
    "executionInfo": {
     "elapsed": 9,
     "status": "ok",
     "timestamp": 1711549875084,
     "user": {
      "displayName": "Aditya Nikumbh",
      "userId": "07855731611952259482"
     },
     "user_tz": 0
    },
    "id": "FlvWNbtyP6q4",
    "outputId": "6aaf40be-fc66-4caf-ea42-e4145ec46548"
   },
   "outputs": [
    {
     "data": {
      "text/plain": [
       "([<matplotlib.patches.Wedge at 0x274aeecea00>,\n",
       "  <matplotlib.patches.Wedge at 0x274b0a65190>],\n",
       " [Text(-1.0997151375435508, 0.02503230428005669, 'Product Not went on backorder'),\n",
       "  Text(1.599585654182675, -0.036410643127857384, 'Product went on backorder')],\n",
       " [Text(-0.5998446204783003, 0.013653984152758194, '99.3%'),\n",
       "  Text(1.099715137250589, -0.025032317150401946, '0.7%')])"
      ]
     },
     "execution_count": 10,
     "metadata": {},
     "output_type": "execute_result"
    },
    {
     "data": {
      "image/png": "[encoded data removed]",
      "text/plain": [
       "<Figure size 432x288 with 1 Axes>"
      ]
     },
     "metadata": {},
     "output_type": "display_data"
    }
   ],
   "source": [
    "# Let's make a pie chart to understand the distribution\n",
    "fig, ax = plt.subplots()\n",
    "\n",
    "labels = ['Product Not went on backorder',\n",
    "         'Product went on backorder']\n",
    "explode = (0, 0.5)\n",
    "percentages = [p[0]*100/(p[1]+p[0]), p[1]*100/(p[1]+p[0])]\n",
    "\n",
    "#Draw pie chart\n",
    "ax.pie(percentages, labels=labels, shadow=False,explode=explode,autopct='%1.1f%%')\n"
   ]
  },
  {
   "cell_type": "markdown",
   "id": "_n7H1qacSGVi",
   "metadata": {
    "id": "_n7H1qacSGVi"
   },
   "source": [
    "As we can observe only **0.7%** of the data points represent the \"Yes\" observation. So, the data is highly imbalanced and needs to be balanced before it can be used to train a model."
   ]
  },
  {
   "cell_type": "markdown",
   "id": "KJHjZ8iNKZNk",
   "metadata": {
    "id": "KJHjZ8iNKZNk"
   },
   "source": [
    "## Data Preprocessing"
   ]
  },
  {
   "cell_type": "code",
   "execution_count": 11,
   "id": "92edbfba",
   "metadata": {
    "executionInfo": {
     "elapsed": 6,
     "status": "ok",
     "timestamp": 1711549875084,
     "user": {
      "displayName": "Aditya Nikumbh",
      "userId": "07855731611952259482"
     },
     "user_tz": 0
    },
    "id": "92edbfba"
   },
   "outputs": [],
   "source": [
    "logging.info(\"PREPROCESSING DATA....\")"
   ]
  },
  {
   "cell_type": "code",
   "execution_count": 12,
   "id": "Hmu-89Z07goK",
   "metadata": {
    "executionInfo": {
     "elapsed": 6,
     "status": "ok",
     "timestamp": 1711549875084,
     "user": {
      "displayName": "Aditya Nikumbh",
      "userId": "07855731611952259482"
     },
     "user_tz": 0
    },
    "id": "Hmu-89Z07goK"
   },
   "outputs": [],
   "source": [
    "#Removing null values\n",
    "def remove_null(data):\n",
    "    # Check if there are any missing values left\n",
    "    if data.isnull().sum().sum() == 0:\n",
    "        print('The dataset does not have missing values')\n",
    "        null_col = []  # Initialize list to store columns with missing values\n",
    "    else:\n",
    "        # Initialize list to store columns with missing values\n",
    "        null_col = []\n",
    "\n",
    "        # Identify columns with missing values\n",
    "        for col in data.columns:\n",
    "            if data[col].isnull().sum() != 0:\n",
    "                null_col.append(col)\n",
    "\n",
    "                # Fill missing values based on column type\n",
    "                if data[col].dtype in ['int64', 'float64']:  # Numeric columns\n",
    "                    if data[col].mean() == data[col].median():\n",
    "                        data[col].fillna(data[col].mean(), inplace=True)\n",
    "                    else:\n",
    "                        data[col].fillna(data[col].median(), inplace=True)\n",
    "                else:  # Categorical columns\n",
    "                    mode_val = data[col].mode()[0]\n",
    "                    data[col].fillna(mode_val, inplace=True)\n",
    "\n",
    "    # Return updated data\n",
    "    return data"
   ]
  },
  {
   "cell_type": "code",
   "execution_count": 13,
   "id": "i6D1fCGcFzgX",
   "metadata": {
    "colab": {
     "base_uri": "https://localhost:8080/",
     "height": 444
    },
    "executionInfo": {
     "elapsed": 7446,
     "status": "ok",
     "timestamp": 1711549882525,
     "user": {
      "displayName": "Aditya Nikumbh",
      "userId": "07855731611952259482"
     },
     "user_tz": 0
    },
    "id": "i6D1fCGcFzgX",
    "outputId": "87fc3362-2a46-42c2-dda1-464c20e5c576"
   },
   "outputs": [
    {
     "data": {
      "text/html": [
       "<div>\n",
       "<style scoped>\n",
       "    .dataframe tbody tr th:only-of-type {\n",
       "        vertical-align: middle;\n",
       "    }\n",
       "\n",
       "    .dataframe tbody tr th {\n",
       "        vertical-align: top;\n",
       "    }\n",
       "\n",
       "    .dataframe thead th {\n",
       "        text-align: right;\n",
       "    }\n",
       "</style>\n",
       "<table border=\"1\" class=\"dataframe\">\n",
       "  <thead>\n",
       "    <tr style=\"text-align: right;\">\n",
       "      <th></th>\n",
       "      <th>sku</th>\n",
       "      <th>national_inv</th>\n",
       "      <th>lead_time</th>\n",
       "      <th>in_transit_qty</th>\n",
       "      <th>forecast_3_month</th>\n",
       "      <th>forecast_6_month</th>\n",
       "      <th>forecast_9_month</th>\n",
       "      <th>sales_1_month</th>\n",
       "      <th>sales_3_month</th>\n",
       "      <th>sales_6_month</th>\n",
       "      <th>sales_9_month</th>\n",
       "      <th>min_bank</th>\n",
       "      <th>potential_issue</th>\n",
       "      <th>pieces_past_due</th>\n",
       "      <th>perf_6_month_avg</th>\n",
       "      <th>perf_12_month_avg</th>\n",
       "      <th>local_bo_qty</th>\n",
       "      <th>deck_risk</th>\n",
       "      <th>oe_constraint</th>\n",
       "      <th>ppap_risk</th>\n",
       "      <th>stop_auto_buy</th>\n",
       "      <th>rev_stop</th>\n",
       "      <th>went_on_backorder</th>\n",
       "    </tr>\n",
       "  </thead>\n",
       "  <tbody>\n",
       "    <tr>\n",
       "      <th>0</th>\n",
       "      <td>1026827</td>\n",
       "      <td>0.0</td>\n",
       "      <td>8.0</td>\n",
       "      <td>0.0</td>\n",
       "      <td>0.0</td>\n",
       "      <td>0.0</td>\n",
       "      <td>0.0</td>\n",
       "      <td>0.0</td>\n",
       "      <td>0.0</td>\n",
       "      <td>0.0</td>\n",
       "      <td>0.0</td>\n",
       "      <td>0.0</td>\n",
       "      <td>No</td>\n",
       "      <td>0.0</td>\n",
       "      <td>-99.00</td>\n",
       "      <td>-99.00</td>\n",
       "      <td>0.0</td>\n",
       "      <td>No</td>\n",
       "      <td>No</td>\n",
       "      <td>No</td>\n",
       "      <td>Yes</td>\n",
       "      <td>No</td>\n",
       "      <td>No</td>\n",
       "    </tr>\n",
       "    <tr>\n",
       "      <th>1</th>\n",
       "      <td>1043384</td>\n",
       "      <td>2.0</td>\n",
       "      <td>9.0</td>\n",
       "      <td>0.0</td>\n",
       "      <td>0.0</td>\n",
       "      <td>0.0</td>\n",
       "      <td>0.0</td>\n",
       "      <td>0.0</td>\n",
       "      <td>0.0</td>\n",
       "      <td>0.0</td>\n",
       "      <td>0.0</td>\n",
       "      <td>0.0</td>\n",
       "      <td>No</td>\n",
       "      <td>0.0</td>\n",
       "      <td>0.99</td>\n",
       "      <td>0.99</td>\n",
       "      <td>0.0</td>\n",
       "      <td>No</td>\n",
       "      <td>No</td>\n",
       "      <td>No</td>\n",
       "      <td>Yes</td>\n",
       "      <td>No</td>\n",
       "      <td>No</td>\n",
       "    </tr>\n",
       "    <tr>\n",
       "      <th>2</th>\n",
       "      <td>1043696</td>\n",
       "      <td>2.0</td>\n",
       "      <td>8.0</td>\n",
       "      <td>0.0</td>\n",
       "      <td>0.0</td>\n",
       "      <td>0.0</td>\n",
       "      <td>0.0</td>\n",
       "      <td>0.0</td>\n",
       "      <td>0.0</td>\n",
       "      <td>0.0</td>\n",
       "      <td>0.0</td>\n",
       "      <td>0.0</td>\n",
       "      <td>No</td>\n",
       "      <td>0.0</td>\n",
       "      <td>-99.00</td>\n",
       "      <td>-99.00</td>\n",
       "      <td>0.0</td>\n",
       "      <td>Yes</td>\n",
       "      <td>No</td>\n",
       "      <td>No</td>\n",
       "      <td>Yes</td>\n",
       "      <td>No</td>\n",
       "      <td>No</td>\n",
       "    </tr>\n",
       "    <tr>\n",
       "      <th>3</th>\n",
       "      <td>1043852</td>\n",
       "      <td>7.0</td>\n",
       "      <td>8.0</td>\n",
       "      <td>0.0</td>\n",
       "      <td>0.0</td>\n",
       "      <td>0.0</td>\n",
       "      <td>0.0</td>\n",
       "      <td>0.0</td>\n",
       "      <td>0.0</td>\n",
       "      <td>0.0</td>\n",
       "      <td>0.0</td>\n",
       "      <td>1.0</td>\n",
       "      <td>No</td>\n",
       "      <td>0.0</td>\n",
       "      <td>0.10</td>\n",
       "      <td>0.13</td>\n",
       "      <td>0.0</td>\n",
       "      <td>No</td>\n",
       "      <td>No</td>\n",
       "      <td>No</td>\n",
       "      <td>Yes</td>\n",
       "      <td>No</td>\n",
       "      <td>No</td>\n",
       "    </tr>\n",
       "    <tr>\n",
       "      <th>4</th>\n",
       "      <td>1044048</td>\n",
       "      <td>8.0</td>\n",
       "      <td>8.0</td>\n",
       "      <td>0.0</td>\n",
       "      <td>0.0</td>\n",
       "      <td>0.0</td>\n",
       "      <td>0.0</td>\n",
       "      <td>0.0</td>\n",
       "      <td>0.0</td>\n",
       "      <td>0.0</td>\n",
       "      <td>4.0</td>\n",
       "      <td>2.0</td>\n",
       "      <td>No</td>\n",
       "      <td>0.0</td>\n",
       "      <td>-99.00</td>\n",
       "      <td>-99.00</td>\n",
       "      <td>0.0</td>\n",
       "      <td>Yes</td>\n",
       "      <td>No</td>\n",
       "      <td>No</td>\n",
       "      <td>Yes</td>\n",
       "      <td>No</td>\n",
       "      <td>No</td>\n",
       "    </tr>\n",
       "    <tr>\n",
       "      <th>...</th>\n",
       "      <td>...</td>\n",
       "      <td>...</td>\n",
       "      <td>...</td>\n",
       "      <td>...</td>\n",
       "      <td>...</td>\n",
       "      <td>...</td>\n",
       "      <td>...</td>\n",
       "      <td>...</td>\n",
       "      <td>...</td>\n",
       "      <td>...</td>\n",
       "      <td>...</td>\n",
       "      <td>...</td>\n",
       "      <td>...</td>\n",
       "      <td>...</td>\n",
       "      <td>...</td>\n",
       "      <td>...</td>\n",
       "      <td>...</td>\n",
       "      <td>...</td>\n",
       "      <td>...</td>\n",
       "      <td>...</td>\n",
       "      <td>...</td>\n",
       "      <td>...</td>\n",
       "      <td>...</td>\n",
       "    </tr>\n",
       "    <tr>\n",
       "      <th>1929931</th>\n",
       "      <td>3526987</td>\n",
       "      <td>12.0</td>\n",
       "      <td>12.0</td>\n",
       "      <td>0.0</td>\n",
       "      <td>0.0</td>\n",
       "      <td>0.0</td>\n",
       "      <td>0.0</td>\n",
       "      <td>0.0</td>\n",
       "      <td>0.0</td>\n",
       "      <td>0.0</td>\n",
       "      <td>0.0</td>\n",
       "      <td>1.0</td>\n",
       "      <td>No</td>\n",
       "      <td>0.0</td>\n",
       "      <td>0.48</td>\n",
       "      <td>0.48</td>\n",
       "      <td>0.0</td>\n",
       "      <td>Yes</td>\n",
       "      <td>No</td>\n",
       "      <td>No</td>\n",
       "      <td>Yes</td>\n",
       "      <td>No</td>\n",
       "      <td>No</td>\n",
       "    </tr>\n",
       "    <tr>\n",
       "      <th>1929932</th>\n",
       "      <td>3526988</td>\n",
       "      <td>13.0</td>\n",
       "      <td>12.0</td>\n",
       "      <td>0.0</td>\n",
       "      <td>0.0</td>\n",
       "      <td>0.0</td>\n",
       "      <td>0.0</td>\n",
       "      <td>0.0</td>\n",
       "      <td>0.0</td>\n",
       "      <td>0.0</td>\n",
       "      <td>0.0</td>\n",
       "      <td>1.0</td>\n",
       "      <td>No</td>\n",
       "      <td>0.0</td>\n",
       "      <td>0.48</td>\n",
       "      <td>0.48</td>\n",
       "      <td>0.0</td>\n",
       "      <td>Yes</td>\n",
       "      <td>No</td>\n",
       "      <td>No</td>\n",
       "      <td>Yes</td>\n",
       "      <td>No</td>\n",
       "      <td>No</td>\n",
       "    </tr>\n",
       "    <tr>\n",
       "      <th>1929933</th>\n",
       "      <td>3526989</td>\n",
       "      <td>13.0</td>\n",
       "      <td>12.0</td>\n",
       "      <td>0.0</td>\n",
       "      <td>0.0</td>\n",
       "      <td>0.0</td>\n",
       "      <td>0.0</td>\n",
       "      <td>0.0</td>\n",
       "      <td>0.0</td>\n",
       "      <td>0.0</td>\n",
       "      <td>0.0</td>\n",
       "      <td>1.0</td>\n",
       "      <td>No</td>\n",
       "      <td>0.0</td>\n",
       "      <td>0.48</td>\n",
       "      <td>0.48</td>\n",
       "      <td>0.0</td>\n",
       "      <td>Yes</td>\n",
       "      <td>No</td>\n",
       "      <td>No</td>\n",
       "      <td>Yes</td>\n",
       "      <td>No</td>\n",
       "      <td>No</td>\n",
       "    </tr>\n",
       "    <tr>\n",
       "      <th>1929934</th>\n",
       "      <td>3526990</td>\n",
       "      <td>10.0</td>\n",
       "      <td>12.0</td>\n",
       "      <td>0.0</td>\n",
       "      <td>0.0</td>\n",
       "      <td>0.0</td>\n",
       "      <td>0.0</td>\n",
       "      <td>0.0</td>\n",
       "      <td>0.0</td>\n",
       "      <td>0.0</td>\n",
       "      <td>0.0</td>\n",
       "      <td>1.0</td>\n",
       "      <td>No</td>\n",
       "      <td>0.0</td>\n",
       "      <td>0.48</td>\n",
       "      <td>0.48</td>\n",
       "      <td>0.0</td>\n",
       "      <td>Yes</td>\n",
       "      <td>No</td>\n",
       "      <td>No</td>\n",
       "      <td>Yes</td>\n",
       "      <td>No</td>\n",
       "      <td>No</td>\n",
       "    </tr>\n",
       "    <tr>\n",
       "      <th>1929935</th>\n",
       "      <td>3526991</td>\n",
       "      <td>2913.0</td>\n",
       "      <td>12.0</td>\n",
       "      <td>0.0</td>\n",
       "      <td>0.0</td>\n",
       "      <td>0.0</td>\n",
       "      <td>0.0</td>\n",
       "      <td>0.0</td>\n",
       "      <td>30.0</td>\n",
       "      <td>88.0</td>\n",
       "      <td>88.0</td>\n",
       "      <td>4.0</td>\n",
       "      <td>No</td>\n",
       "      <td>0.0</td>\n",
       "      <td>0.48</td>\n",
       "      <td>0.48</td>\n",
       "      <td>0.0</td>\n",
       "      <td>Yes</td>\n",
       "      <td>No</td>\n",
       "      <td>No</td>\n",
       "      <td>Yes</td>\n",
       "      <td>No</td>\n",
       "      <td>No</td>\n",
       "    </tr>\n",
       "  </tbody>\n",
       "</table>\n",
       "<p>1929936 rows × 23 columns</p>\n",
       "</div>"
      ],
      "text/plain": [
       "             sku  national_inv  lead_time  in_transit_qty  forecast_3_month  \\\n",
       "0        1026827           0.0        8.0             0.0               0.0   \n",
       "1        1043384           2.0        9.0             0.0               0.0   \n",
       "2        1043696           2.0        8.0             0.0               0.0   \n",
       "3        1043852           7.0        8.0             0.0               0.0   \n",
       "4        1044048           8.0        8.0             0.0               0.0   \n",
       "...          ...           ...        ...             ...               ...   \n",
       "1929931  3526987          12.0       12.0             0.0               0.0   \n",
       "1929932  3526988          13.0       12.0             0.0               0.0   \n",
       "1929933  3526989          13.0       12.0             0.0               0.0   \n",
       "1929934  3526990          10.0       12.0             0.0               0.0   \n",
       "1929935  3526991        2913.0       12.0             0.0               0.0   \n",
       "\n",
       "         forecast_6_month  forecast_9_month  sales_1_month  sales_3_month  \\\n",
       "0                     0.0               0.0            0.0            0.0   \n",
       "1                     0.0               0.0            0.0            0.0   \n",
       "2                     0.0               0.0            0.0            0.0   \n",
       "3                     0.0               0.0            0.0            0.0   \n",
       "4                     0.0               0.0            0.0            0.0   \n",
       "...                   ...               ...            ...            ...   \n",
       "1929931               0.0               0.0            0.0            0.0   \n",
       "1929932               0.0               0.0            0.0            0.0   \n",
       "1929933               0.0               0.0            0.0            0.0   \n",
       "1929934               0.0               0.0            0.0            0.0   \n",
       "1929935               0.0               0.0            0.0           30.0   \n",
       "\n",
       "         sales_6_month  sales_9_month  min_bank potential_issue  \\\n",
       "0                  0.0            0.0       0.0              No   \n",
       "1                  0.0            0.0       0.0              No   \n",
       "2                  0.0            0.0       0.0              No   \n",
       "3                  0.0            0.0       1.0              No   \n",
       "4                  0.0            4.0       2.0              No   \n",
       "...                ...            ...       ...             ...   \n",
       "1929931            0.0            0.0       1.0              No   \n",
       "1929932            0.0            0.0       1.0              No   \n",
       "1929933            0.0            0.0       1.0              No   \n",
       "1929934            0.0            0.0       1.0              No   \n",
       "1929935           88.0           88.0       4.0              No   \n",
       "\n",
       "         pieces_past_due  perf_6_month_avg  perf_12_month_avg  local_bo_qty  \\\n",
       "0                    0.0            -99.00             -99.00           0.0   \n",
       "1                    0.0              0.99               0.99           0.0   \n",
       "2                    0.0            -99.00             -99.00           0.0   \n",
       "3                    0.0              0.10               0.13           0.0   \n",
       "4                    0.0            -99.00             -99.00           0.0   \n",
       "...                  ...               ...                ...           ...   \n",
       "1929931              0.0              0.48               0.48           0.0   \n",
       "1929932              0.0              0.48               0.48           0.0   \n",
       "1929933              0.0              0.48               0.48           0.0   \n",
       "1929934              0.0              0.48               0.48           0.0   \n",
       "1929935              0.0              0.48               0.48           0.0   \n",
       "\n",
       "        deck_risk oe_constraint ppap_risk stop_auto_buy rev_stop  \\\n",
       "0              No            No        No           Yes       No   \n",
       "1              No            No        No           Yes       No   \n",
       "2             Yes            No        No           Yes       No   \n",
       "3              No            No        No           Yes       No   \n",
       "4             Yes            No        No           Yes       No   \n",
       "...           ...           ...       ...           ...      ...   \n",
       "1929931       Yes            No        No           Yes       No   \n",
       "1929932       Yes            No        No           Yes       No   \n",
       "1929933       Yes            No        No           Yes       No   \n",
       "1929934       Yes            No        No           Yes       No   \n",
       "1929935       Yes            No        No           Yes       No   \n",
       "\n",
       "        went_on_backorder  \n",
       "0                      No  \n",
       "1                      No  \n",
       "2                      No  \n",
       "3                      No  \n",
       "4                      No  \n",
       "...                   ...  \n",
       "1929931                No  \n",
       "1929932                No  \n",
       "1929933                No  \n",
       "1929934                No  \n",
       "1929935                No  \n",
       "\n",
       "[1929936 rows x 23 columns]"
      ]
     },
     "execution_count": 13,
     "metadata": {},
     "output_type": "execute_result"
    }
   ],
   "source": [
    "remove_null(df)"
   ]
  },
  {
   "cell_type": "code",
   "execution_count": 14,
   "id": "3d2d30c7",
   "metadata": {
    "executionInfo": {
     "elapsed": 4,
     "status": "ok",
     "timestamp": 1711549882525,
     "user": {
      "displayName": "Aditya Nikumbh",
      "userId": "07855731611952259482"
     },
     "user_tz": 0
    },
    "id": "3d2d30c7"
   },
   "outputs": [],
   "source": [
    "# As we know sku or Stock Keeping Units is a unique identifier, its useless to include this column for further analysis\n",
    "df.drop('sku', axis=1, inplace=True)"
   ]
  },
  {
   "cell_type": "code",
   "execution_count": 15,
   "id": "wC3YnYAmr_VC",
   "metadata": {
    "executionInfo": {
     "elapsed": 7,
     "status": "ok",
     "timestamp": 1711550143382,
     "user": {
      "displayName": "Aditya Nikumbh",
      "userId": "07855731611952259482"
     },
     "user_tz": 0
    },
    "id": "wC3YnYAmr_VC"
   },
   "outputs": [],
   "source": [
    "# For machine learning techniques only integer or float data types can be used. Hence, we convert all the object type data to numeric format.\n",
    "# First let's identify categorical columns\n",
    "def identify_cat_cols(df):\n",
    "  categorical_cols = []\n",
    "  for col in df.columns:\n",
    "    if df[col].dtype == 'object':\n",
    "      categorical_cols.append(col)\n",
    "  return categorical_cols"
   ]
  },
  {
   "cell_type": "code",
   "execution_count": 16,
   "id": "SUXxiQR7spA5",
   "metadata": {
    "executionInfo": {
     "elapsed": 7,
     "status": "ok",
     "timestamp": 1711550143383,
     "user": {
      "displayName": "Aditya Nikumbh",
      "userId": "07855731611952259482"
     },
     "user_tz": 0
    },
    "id": "SUXxiQR7spA5"
   },
   "outputs": [],
   "source": [
    "cat_col=identify_cat_cols(df)"
   ]
  },
  {
   "cell_type": "code",
   "execution_count": 17,
   "id": "LP3kDSvtsoh7",
   "metadata": {
    "executionInfo": {
     "elapsed": 7,
     "status": "ok",
     "timestamp": 1711550143383,
     "user": {
      "displayName": "Aditya Nikumbh",
      "userId": "07855731611952259482"
     },
     "user_tz": 0
    },
    "id": "LP3kDSvtsoh7"
   },
   "outputs": [],
   "source": [
    "#Let's convert the data type\n",
    "def conv_col(cat_cols,df):\n",
    "    for i in cat_cols:\n",
    "        df[i].replace(['No','Yes'], [0,1], inplace=True)\n",
    "    return df"
   ]
  },
  {
   "cell_type": "code",
   "execution_count": 18,
   "id": "RgxVjPFctLOg",
   "metadata": {
    "colab": {
     "base_uri": "https://localhost:8080/",
     "height": 444
    },
    "executionInfo": {
     "elapsed": 5394,
     "status": "ok",
     "timestamp": 1711550148770,
     "user": {
      "displayName": "Aditya Nikumbh",
      "userId": "07855731611952259482"
     },
     "user_tz": 0
    },
    "id": "RgxVjPFctLOg",
    "outputId": "f7c691ce-f7fd-429f-af91-7c0af42291f6"
   },
   "outputs": [
    {
     "data": {
      "text/html": [
       "<div>\n",
       "<style scoped>\n",
       "    .dataframe tbody tr th:only-of-type {\n",
       "        vertical-align: middle;\n",
       "    }\n",
       "\n",
       "    .dataframe tbody tr th {\n",
       "        vertical-align: top;\n",
       "    }\n",
       "\n",
       "    .dataframe thead th {\n",
       "        text-align: right;\n",
       "    }\n",
       "</style>\n",
       "<table border=\"1\" class=\"dataframe\">\n",
       "  <thead>\n",
       "    <tr style=\"text-align: right;\">\n",
       "      <th></th>\n",
       "      <th>national_inv</th>\n",
       "      <th>lead_time</th>\n",
       "      <th>in_transit_qty</th>\n",
       "      <th>forecast_3_month</th>\n",
       "      <th>forecast_6_month</th>\n",
       "      <th>forecast_9_month</th>\n",
       "      <th>sales_1_month</th>\n",
       "      <th>sales_3_month</th>\n",
       "      <th>sales_6_month</th>\n",
       "      <th>sales_9_month</th>\n",
       "      <th>min_bank</th>\n",
       "      <th>potential_issue</th>\n",
       "      <th>pieces_past_due</th>\n",
       "      <th>perf_6_month_avg</th>\n",
       "      <th>perf_12_month_avg</th>\n",
       "      <th>local_bo_qty</th>\n",
       "      <th>deck_risk</th>\n",
       "      <th>oe_constraint</th>\n",
       "      <th>ppap_risk</th>\n",
       "      <th>stop_auto_buy</th>\n",
       "      <th>rev_stop</th>\n",
       "      <th>went_on_backorder</th>\n",
       "    </tr>\n",
       "  </thead>\n",
       "  <tbody>\n",
       "    <tr>\n",
       "      <th>0</th>\n",
       "      <td>0.0</td>\n",
       "      <td>8.0</td>\n",
       "      <td>0.0</td>\n",
       "      <td>0.0</td>\n",
       "      <td>0.0</td>\n",
       "      <td>0.0</td>\n",
       "      <td>0.0</td>\n",
       "      <td>0.0</td>\n",
       "      <td>0.0</td>\n",
       "      <td>0.0</td>\n",
       "      <td>0.0</td>\n",
       "      <td>0</td>\n",
       "      <td>0.0</td>\n",
       "      <td>-99.00</td>\n",
       "      <td>-99.00</td>\n",
       "      <td>0.0</td>\n",
       "      <td>0</td>\n",
       "      <td>0</td>\n",
       "      <td>0</td>\n",
       "      <td>1</td>\n",
       "      <td>0</td>\n",
       "      <td>0</td>\n",
       "    </tr>\n",
       "    <tr>\n",
       "      <th>1</th>\n",
       "      <td>2.0</td>\n",
       "      <td>9.0</td>\n",
       "      <td>0.0</td>\n",
       "      <td>0.0</td>\n",
       "      <td>0.0</td>\n",
       "      <td>0.0</td>\n",
       "      <td>0.0</td>\n",
       "      <td>0.0</td>\n",
       "      <td>0.0</td>\n",
       "      <td>0.0</td>\n",
       "      <td>0.0</td>\n",
       "      <td>0</td>\n",
       "      <td>0.0</td>\n",
       "      <td>0.99</td>\n",
       "      <td>0.99</td>\n",
       "      <td>0.0</td>\n",
       "      <td>0</td>\n",
       "      <td>0</td>\n",
       "      <td>0</td>\n",
       "      <td>1</td>\n",
       "      <td>0</td>\n",
       "      <td>0</td>\n",
       "    </tr>\n",
       "    <tr>\n",
       "      <th>2</th>\n",
       "      <td>2.0</td>\n",
       "      <td>8.0</td>\n",
       "      <td>0.0</td>\n",
       "      <td>0.0</td>\n",
       "      <td>0.0</td>\n",
       "      <td>0.0</td>\n",
       "      <td>0.0</td>\n",
       "      <td>0.0</td>\n",
       "      <td>0.0</td>\n",
       "      <td>0.0</td>\n",
       "      <td>0.0</td>\n",
       "      <td>0</td>\n",
       "      <td>0.0</td>\n",
       "      <td>-99.00</td>\n",
       "      <td>-99.00</td>\n",
       "      <td>0.0</td>\n",
       "      <td>1</td>\n",
       "      <td>0</td>\n",
       "      <td>0</td>\n",
       "      <td>1</td>\n",
       "      <td>0</td>\n",
       "      <td>0</td>\n",
       "    </tr>\n",
       "    <tr>\n",
       "      <th>3</th>\n",
       "      <td>7.0</td>\n",
       "      <td>8.0</td>\n",
       "      <td>0.0</td>\n",
       "      <td>0.0</td>\n",
       "      <td>0.0</td>\n",
       "      <td>0.0</td>\n",
       "      <td>0.0</td>\n",
       "      <td>0.0</td>\n",
       "      <td>0.0</td>\n",
       "      <td>0.0</td>\n",
       "      <td>1.0</td>\n",
       "      <td>0</td>\n",
       "      <td>0.0</td>\n",
       "      <td>0.10</td>\n",
       "      <td>0.13</td>\n",
       "      <td>0.0</td>\n",
       "      <td>0</td>\n",
       "      <td>0</td>\n",
       "      <td>0</td>\n",
       "      <td>1</td>\n",
       "      <td>0</td>\n",
       "      <td>0</td>\n",
       "    </tr>\n",
       "    <tr>\n",
       "      <th>4</th>\n",
       "      <td>8.0</td>\n",
       "      <td>8.0</td>\n",
       "      <td>0.0</td>\n",
       "      <td>0.0</td>\n",
       "      <td>0.0</td>\n",
       "      <td>0.0</td>\n",
       "      <td>0.0</td>\n",
       "      <td>0.0</td>\n",
       "      <td>0.0</td>\n",
       "      <td>4.0</td>\n",
       "      <td>2.0</td>\n",
       "      <td>0</td>\n",
       "      <td>0.0</td>\n",
       "      <td>-99.00</td>\n",
       "      <td>-99.00</td>\n",
       "      <td>0.0</td>\n",
       "      <td>1</td>\n",
       "      <td>0</td>\n",
       "      <td>0</td>\n",
       "      <td>1</td>\n",
       "      <td>0</td>\n",
       "      <td>0</td>\n",
       "    </tr>\n",
       "    <tr>\n",
       "      <th>...</th>\n",
       "      <td>...</td>\n",
       "      <td>...</td>\n",
       "      <td>...</td>\n",
       "      <td>...</td>\n",
       "      <td>...</td>\n",
       "      <td>...</td>\n",
       "      <td>...</td>\n",
       "      <td>...</td>\n",
       "      <td>...</td>\n",
       "      <td>...</td>\n",
       "      <td>...</td>\n",
       "      <td>...</td>\n",
       "      <td>...</td>\n",
       "      <td>...</td>\n",
       "      <td>...</td>\n",
       "      <td>...</td>\n",
       "      <td>...</td>\n",
       "      <td>...</td>\n",
       "      <td>...</td>\n",
       "      <td>...</td>\n",
       "      <td>...</td>\n",
       "      <td>...</td>\n",
       "    </tr>\n",
       "    <tr>\n",
       "      <th>1929931</th>\n",
       "      <td>12.0</td>\n",
       "      <td>12.0</td>\n",
       "      <td>0.0</td>\n",
       "      <td>0.0</td>\n",
       "      <td>0.0</td>\n",
       "      <td>0.0</td>\n",
       "      <td>0.0</td>\n",
       "      <td>0.0</td>\n",
       "      <td>0.0</td>\n",
       "      <td>0.0</td>\n",
       "      <td>1.0</td>\n",
       "      <td>0</td>\n",
       "      <td>0.0</td>\n",
       "      <td>0.48</td>\n",
       "      <td>0.48</td>\n",
       "      <td>0.0</td>\n",
       "      <td>1</td>\n",
       "      <td>0</td>\n",
       "      <td>0</td>\n",
       "      <td>1</td>\n",
       "      <td>0</td>\n",
       "      <td>0</td>\n",
       "    </tr>\n",
       "    <tr>\n",
       "      <th>1929932</th>\n",
       "      <td>13.0</td>\n",
       "      <td>12.0</td>\n",
       "      <td>0.0</td>\n",
       "      <td>0.0</td>\n",
       "      <td>0.0</td>\n",
       "      <td>0.0</td>\n",
       "      <td>0.0</td>\n",
       "      <td>0.0</td>\n",
       "      <td>0.0</td>\n",
       "      <td>0.0</td>\n",
       "      <td>1.0</td>\n",
       "      <td>0</td>\n",
       "      <td>0.0</td>\n",
       "      <td>0.48</td>\n",
       "      <td>0.48</td>\n",
       "      <td>0.0</td>\n",
       "      <td>1</td>\n",
       "      <td>0</td>\n",
       "      <td>0</td>\n",
       "      <td>1</td>\n",
       "      <td>0</td>\n",
       "      <td>0</td>\n",
       "    </tr>\n",
       "    <tr>\n",
       "      <th>1929933</th>\n",
       "      <td>13.0</td>\n",
       "      <td>12.0</td>\n",
       "      <td>0.0</td>\n",
       "      <td>0.0</td>\n",
       "      <td>0.0</td>\n",
       "      <td>0.0</td>\n",
       "      <td>0.0</td>\n",
       "      <td>0.0</td>\n",
       "      <td>0.0</td>\n",
       "      <td>0.0</td>\n",
       "      <td>1.0</td>\n",
       "      <td>0</td>\n",
       "      <td>0.0</td>\n",
       "      <td>0.48</td>\n",
       "      <td>0.48</td>\n",
       "      <td>0.0</td>\n",
       "      <td>1</td>\n",
       "      <td>0</td>\n",
       "      <td>0</td>\n",
       "      <td>1</td>\n",
       "      <td>0</td>\n",
       "      <td>0</td>\n",
       "    </tr>\n",
       "    <tr>\n",
       "      <th>1929934</th>\n",
       "      <td>10.0</td>\n",
       "      <td>12.0</td>\n",
       "      <td>0.0</td>\n",
       "      <td>0.0</td>\n",
       "      <td>0.0</td>\n",
       "      <td>0.0</td>\n",
       "      <td>0.0</td>\n",
       "      <td>0.0</td>\n",
       "      <td>0.0</td>\n",
       "      <td>0.0</td>\n",
       "      <td>1.0</td>\n",
       "      <td>0</td>\n",
       "      <td>0.0</td>\n",
       "      <td>0.48</td>\n",
       "      <td>0.48</td>\n",
       "      <td>0.0</td>\n",
       "      <td>1</td>\n",
       "      <td>0</td>\n",
       "      <td>0</td>\n",
       "      <td>1</td>\n",
       "      <td>0</td>\n",
       "      <td>0</td>\n",
       "    </tr>\n",
       "    <tr>\n",
       "      <th>1929935</th>\n",
       "      <td>2913.0</td>\n",
       "      <td>12.0</td>\n",
       "      <td>0.0</td>\n",
       "      <td>0.0</td>\n",
       "      <td>0.0</td>\n",
       "      <td>0.0</td>\n",
       "      <td>0.0</td>\n",
       "      <td>30.0</td>\n",
       "      <td>88.0</td>\n",
       "      <td>88.0</td>\n",
       "      <td>4.0</td>\n",
       "      <td>0</td>\n",
       "      <td>0.0</td>\n",
       "      <td>0.48</td>\n",
       "      <td>0.48</td>\n",
       "      <td>0.0</td>\n",
       "      <td>1</td>\n",
       "      <td>0</td>\n",
       "      <td>0</td>\n",
       "      <td>1</td>\n",
       "      <td>0</td>\n",
       "      <td>0</td>\n",
       "    </tr>\n",
       "  </tbody>\n",
       "</table>\n",
       "<p>1929936 rows × 22 columns</p>\n",
       "</div>"
      ],
      "text/plain": [
       "         national_inv  lead_time  in_transit_qty  forecast_3_month  \\\n",
       "0                 0.0        8.0             0.0               0.0   \n",
       "1                 2.0        9.0             0.0               0.0   \n",
       "2                 2.0        8.0             0.0               0.0   \n",
       "3                 7.0        8.0             0.0               0.0   \n",
       "4                 8.0        8.0             0.0               0.0   \n",
       "...               ...        ...             ...               ...   \n",
       "1929931          12.0       12.0             0.0               0.0   \n",
       "1929932          13.0       12.0             0.0               0.0   \n",
       "1929933          13.0       12.0             0.0               0.0   \n",
       "1929934          10.0       12.0             0.0               0.0   \n",
       "1929935        2913.0       12.0             0.0               0.0   \n",
       "\n",
       "         forecast_6_month  forecast_9_month  sales_1_month  sales_3_month  \\\n",
       "0                     0.0               0.0            0.0            0.0   \n",
       "1                     0.0               0.0            0.0            0.0   \n",
       "2                     0.0               0.0            0.0            0.0   \n",
       "3                     0.0               0.0            0.0            0.0   \n",
       "4                     0.0               0.0            0.0            0.0   \n",
       "...                   ...               ...            ...            ...   \n",
       "1929931               0.0               0.0            0.0            0.0   \n",
       "1929932               0.0               0.0            0.0            0.0   \n",
       "1929933               0.0               0.0            0.0            0.0   \n",
       "1929934               0.0               0.0            0.0            0.0   \n",
       "1929935               0.0               0.0            0.0           30.0   \n",
       "\n",
       "         sales_6_month  sales_9_month  min_bank  potential_issue  \\\n",
       "0                  0.0            0.0       0.0                0   \n",
       "1                  0.0            0.0       0.0                0   \n",
       "2                  0.0            0.0       0.0                0   \n",
       "3                  0.0            0.0       1.0                0   \n",
       "4                  0.0            4.0       2.0                0   \n",
       "...                ...            ...       ...              ...   \n",
       "1929931            0.0            0.0       1.0                0   \n",
       "1929932            0.0            0.0       1.0                0   \n",
       "1929933            0.0            0.0       1.0                0   \n",
       "1929934            0.0            0.0       1.0                0   \n",
       "1929935           88.0           88.0       4.0                0   \n",
       "\n",
       "         pieces_past_due  perf_6_month_avg  perf_12_month_avg  local_bo_qty  \\\n",
       "0                    0.0            -99.00             -99.00           0.0   \n",
       "1                    0.0              0.99               0.99           0.0   \n",
       "2                    0.0            -99.00             -99.00           0.0   \n",
       "3                    0.0              0.10               0.13           0.0   \n",
       "4                    0.0            -99.00             -99.00           0.0   \n",
       "...                  ...               ...                ...           ...   \n",
       "1929931              0.0              0.48               0.48           0.0   \n",
       "1929932              0.0              0.48               0.48           0.0   \n",
       "1929933              0.0              0.48               0.48           0.0   \n",
       "1929934              0.0              0.48               0.48           0.0   \n",
       "1929935              0.0              0.48               0.48           0.0   \n",
       "\n",
       "         deck_risk  oe_constraint  ppap_risk  stop_auto_buy  rev_stop  \\\n",
       "0                0              0          0              1         0   \n",
       "1                0              0          0              1         0   \n",
       "2                1              0          0              1         0   \n",
       "3                0              0          0              1         0   \n",
       "4                1              0          0              1         0   \n",
       "...            ...            ...        ...            ...       ...   \n",
       "1929931          1              0          0              1         0   \n",
       "1929932          1              0          0              1         0   \n",
       "1929933          1              0          0              1         0   \n",
       "1929934          1              0          0              1         0   \n",
       "1929935          1              0          0              1         0   \n",
       "\n",
       "         went_on_backorder  \n",
       "0                        0  \n",
       "1                        0  \n",
       "2                        0  \n",
       "3                        0  \n",
       "4                        0  \n",
       "...                    ...  \n",
       "1929931                  0  \n",
       "1929932                  0  \n",
       "1929933                  0  \n",
       "1929934                  0  \n",
       "1929935                  0  \n",
       "\n",
       "[1929936 rows x 22 columns]"
      ]
     },
     "execution_count": 18,
     "metadata": {},
     "output_type": "execute_result"
    }
   ],
   "source": [
    "conv_col(cat_col,df)"
   ]
  },
  {
   "cell_type": "code",
   "execution_count": 19,
   "id": "wPMO3roitsaP",
   "metadata": {
    "colab": {
     "base_uri": "https://localhost:8080/",
     "height": 444
    },
    "executionInfo": {
     "elapsed": 7,
     "status": "ok",
     "timestamp": 1711550148770,
     "user": {
      "displayName": "Aditya Nikumbh",
      "userId": "07855731611952259482"
     },
     "user_tz": 0
    },
    "id": "wPMO3roitsaP",
    "outputId": "9da555b4-7ca2-40da-92b4-9867415f4ad4"
   },
   "outputs": [
    {
     "data": {
      "text/html": [
       "<div>\n",
       "<style scoped>\n",
       "    .dataframe tbody tr th:only-of-type {\n",
       "        vertical-align: middle;\n",
       "    }\n",
       "\n",
       "    .dataframe tbody tr th {\n",
       "        vertical-align: top;\n",
       "    }\n",
       "\n",
       "    .dataframe thead th {\n",
       "        text-align: right;\n",
       "    }\n",
       "</style>\n",
       "<table border=\"1\" class=\"dataframe\">\n",
       "  <thead>\n",
       "    <tr style=\"text-align: right;\">\n",
       "      <th></th>\n",
       "      <th>national_inv</th>\n",
       "      <th>lead_time</th>\n",
       "      <th>in_transit_qty</th>\n",
       "      <th>forecast_3_month</th>\n",
       "      <th>forecast_6_month</th>\n",
       "      <th>forecast_9_month</th>\n",
       "      <th>sales_1_month</th>\n",
       "      <th>sales_3_month</th>\n",
       "      <th>sales_6_month</th>\n",
       "      <th>sales_9_month</th>\n",
       "      <th>min_bank</th>\n",
       "      <th>potential_issue</th>\n",
       "      <th>pieces_past_due</th>\n",
       "      <th>perf_6_month_avg</th>\n",
       "      <th>perf_12_month_avg</th>\n",
       "      <th>local_bo_qty</th>\n",
       "      <th>deck_risk</th>\n",
       "      <th>oe_constraint</th>\n",
       "      <th>ppap_risk</th>\n",
       "      <th>stop_auto_buy</th>\n",
       "      <th>rev_stop</th>\n",
       "      <th>went_on_backorder</th>\n",
       "    </tr>\n",
       "  </thead>\n",
       "  <tbody>\n",
       "    <tr>\n",
       "      <th>0</th>\n",
       "      <td>0.0</td>\n",
       "      <td>8.0</td>\n",
       "      <td>0.0</td>\n",
       "      <td>0.0</td>\n",
       "      <td>0.0</td>\n",
       "      <td>0.0</td>\n",
       "      <td>0.0</td>\n",
       "      <td>0.0</td>\n",
       "      <td>0.0</td>\n",
       "      <td>0.0</td>\n",
       "      <td>0.0</td>\n",
       "      <td>0</td>\n",
       "      <td>0.0</td>\n",
       "      <td>-99.00</td>\n",
       "      <td>-99.00</td>\n",
       "      <td>0.0</td>\n",
       "      <td>0</td>\n",
       "      <td>0</td>\n",
       "      <td>0</td>\n",
       "      <td>1</td>\n",
       "      <td>0</td>\n",
       "      <td>0</td>\n",
       "    </tr>\n",
       "    <tr>\n",
       "      <th>1</th>\n",
       "      <td>2.0</td>\n",
       "      <td>9.0</td>\n",
       "      <td>0.0</td>\n",
       "      <td>0.0</td>\n",
       "      <td>0.0</td>\n",
       "      <td>0.0</td>\n",
       "      <td>0.0</td>\n",
       "      <td>0.0</td>\n",
       "      <td>0.0</td>\n",
       "      <td>0.0</td>\n",
       "      <td>0.0</td>\n",
       "      <td>0</td>\n",
       "      <td>0.0</td>\n",
       "      <td>0.99</td>\n",
       "      <td>0.99</td>\n",
       "      <td>0.0</td>\n",
       "      <td>0</td>\n",
       "      <td>0</td>\n",
       "      <td>0</td>\n",
       "      <td>1</td>\n",
       "      <td>0</td>\n",
       "      <td>0</td>\n",
       "    </tr>\n",
       "    <tr>\n",
       "      <th>2</th>\n",
       "      <td>2.0</td>\n",
       "      <td>8.0</td>\n",
       "      <td>0.0</td>\n",
       "      <td>0.0</td>\n",
       "      <td>0.0</td>\n",
       "      <td>0.0</td>\n",
       "      <td>0.0</td>\n",
       "      <td>0.0</td>\n",
       "      <td>0.0</td>\n",
       "      <td>0.0</td>\n",
       "      <td>0.0</td>\n",
       "      <td>0</td>\n",
       "      <td>0.0</td>\n",
       "      <td>-99.00</td>\n",
       "      <td>-99.00</td>\n",
       "      <td>0.0</td>\n",
       "      <td>1</td>\n",
       "      <td>0</td>\n",
       "      <td>0</td>\n",
       "      <td>1</td>\n",
       "      <td>0</td>\n",
       "      <td>0</td>\n",
       "    </tr>\n",
       "    <tr>\n",
       "      <th>3</th>\n",
       "      <td>7.0</td>\n",
       "      <td>8.0</td>\n",
       "      <td>0.0</td>\n",
       "      <td>0.0</td>\n",
       "      <td>0.0</td>\n",
       "      <td>0.0</td>\n",
       "      <td>0.0</td>\n",
       "      <td>0.0</td>\n",
       "      <td>0.0</td>\n",
       "      <td>0.0</td>\n",
       "      <td>1.0</td>\n",
       "      <td>0</td>\n",
       "      <td>0.0</td>\n",
       "      <td>0.10</td>\n",
       "      <td>0.13</td>\n",
       "      <td>0.0</td>\n",
       "      <td>0</td>\n",
       "      <td>0</td>\n",
       "      <td>0</td>\n",
       "      <td>1</td>\n",
       "      <td>0</td>\n",
       "      <td>0</td>\n",
       "    </tr>\n",
       "    <tr>\n",
       "      <th>4</th>\n",
       "      <td>8.0</td>\n",
       "      <td>8.0</td>\n",
       "      <td>0.0</td>\n",
       "      <td>0.0</td>\n",
       "      <td>0.0</td>\n",
       "      <td>0.0</td>\n",
       "      <td>0.0</td>\n",
       "      <td>0.0</td>\n",
       "      <td>0.0</td>\n",
       "      <td>4.0</td>\n",
       "      <td>2.0</td>\n",
       "      <td>0</td>\n",
       "      <td>0.0</td>\n",
       "      <td>-99.00</td>\n",
       "      <td>-99.00</td>\n",
       "      <td>0.0</td>\n",
       "      <td>1</td>\n",
       "      <td>0</td>\n",
       "      <td>0</td>\n",
       "      <td>1</td>\n",
       "      <td>0</td>\n",
       "      <td>0</td>\n",
       "    </tr>\n",
       "    <tr>\n",
       "      <th>...</th>\n",
       "      <td>...</td>\n",
       "      <td>...</td>\n",
       "      <td>...</td>\n",
       "      <td>...</td>\n",
       "      <td>...</td>\n",
       "      <td>...</td>\n",
       "      <td>...</td>\n",
       "      <td>...</td>\n",
       "      <td>...</td>\n",
       "      <td>...</td>\n",
       "      <td>...</td>\n",
       "      <td>...</td>\n",
       "      <td>...</td>\n",
       "      <td>...</td>\n",
       "      <td>...</td>\n",
       "      <td>...</td>\n",
       "      <td>...</td>\n",
       "      <td>...</td>\n",
       "      <td>...</td>\n",
       "      <td>...</td>\n",
       "      <td>...</td>\n",
       "      <td>...</td>\n",
       "    </tr>\n",
       "    <tr>\n",
       "      <th>1929931</th>\n",
       "      <td>12.0</td>\n",
       "      <td>12.0</td>\n",
       "      <td>0.0</td>\n",
       "      <td>0.0</td>\n",
       "      <td>0.0</td>\n",
       "      <td>0.0</td>\n",
       "      <td>0.0</td>\n",
       "      <td>0.0</td>\n",
       "      <td>0.0</td>\n",
       "      <td>0.0</td>\n",
       "      <td>1.0</td>\n",
       "      <td>0</td>\n",
       "      <td>0.0</td>\n",
       "      <td>0.48</td>\n",
       "      <td>0.48</td>\n",
       "      <td>0.0</td>\n",
       "      <td>1</td>\n",
       "      <td>0</td>\n",
       "      <td>0</td>\n",
       "      <td>1</td>\n",
       "      <td>0</td>\n",
       "      <td>0</td>\n",
       "    </tr>\n",
       "    <tr>\n",
       "      <th>1929932</th>\n",
       "      <td>13.0</td>\n",
       "      <td>12.0</td>\n",
       "      <td>0.0</td>\n",
       "      <td>0.0</td>\n",
       "      <td>0.0</td>\n",
       "      <td>0.0</td>\n",
       "      <td>0.0</td>\n",
       "      <td>0.0</td>\n",
       "      <td>0.0</td>\n",
       "      <td>0.0</td>\n",
       "      <td>1.0</td>\n",
       "      <td>0</td>\n",
       "      <td>0.0</td>\n",
       "      <td>0.48</td>\n",
       "      <td>0.48</td>\n",
       "      <td>0.0</td>\n",
       "      <td>1</td>\n",
       "      <td>0</td>\n",
       "      <td>0</td>\n",
       "      <td>1</td>\n",
       "      <td>0</td>\n",
       "      <td>0</td>\n",
       "    </tr>\n",
       "    <tr>\n",
       "      <th>1929933</th>\n",
       "      <td>13.0</td>\n",
       "      <td>12.0</td>\n",
       "      <td>0.0</td>\n",
       "      <td>0.0</td>\n",
       "      <td>0.0</td>\n",
       "      <td>0.0</td>\n",
       "      <td>0.0</td>\n",
       "      <td>0.0</td>\n",
       "      <td>0.0</td>\n",
       "      <td>0.0</td>\n",
       "      <td>1.0</td>\n",
       "      <td>0</td>\n",
       "      <td>0.0</td>\n",
       "      <td>0.48</td>\n",
       "      <td>0.48</td>\n",
       "      <td>0.0</td>\n",
       "      <td>1</td>\n",
       "      <td>0</td>\n",
       "      <td>0</td>\n",
       "      <td>1</td>\n",
       "      <td>0</td>\n",
       "      <td>0</td>\n",
       "    </tr>\n",
       "    <tr>\n",
       "      <th>1929934</th>\n",
       "      <td>10.0</td>\n",
       "      <td>12.0</td>\n",
       "      <td>0.0</td>\n",
       "      <td>0.0</td>\n",
       "      <td>0.0</td>\n",
       "      <td>0.0</td>\n",
       "      <td>0.0</td>\n",
       "      <td>0.0</td>\n",
       "      <td>0.0</td>\n",
       "      <td>0.0</td>\n",
       "      <td>1.0</td>\n",
       "      <td>0</td>\n",
       "      <td>0.0</td>\n",
       "      <td>0.48</td>\n",
       "      <td>0.48</td>\n",
       "      <td>0.0</td>\n",
       "      <td>1</td>\n",
       "      <td>0</td>\n",
       "      <td>0</td>\n",
       "      <td>1</td>\n",
       "      <td>0</td>\n",
       "      <td>0</td>\n",
       "    </tr>\n",
       "    <tr>\n",
       "      <th>1929935</th>\n",
       "      <td>2913.0</td>\n",
       "      <td>12.0</td>\n",
       "      <td>0.0</td>\n",
       "      <td>0.0</td>\n",
       "      <td>0.0</td>\n",
       "      <td>0.0</td>\n",
       "      <td>0.0</td>\n",
       "      <td>30.0</td>\n",
       "      <td>88.0</td>\n",
       "      <td>88.0</td>\n",
       "      <td>4.0</td>\n",
       "      <td>0</td>\n",
       "      <td>0.0</td>\n",
       "      <td>0.48</td>\n",
       "      <td>0.48</td>\n",
       "      <td>0.0</td>\n",
       "      <td>1</td>\n",
       "      <td>0</td>\n",
       "      <td>0</td>\n",
       "      <td>1</td>\n",
       "      <td>0</td>\n",
       "      <td>0</td>\n",
       "    </tr>\n",
       "  </tbody>\n",
       "</table>\n",
       "<p>1929936 rows × 22 columns</p>\n",
       "</div>"
      ],
      "text/plain": [
       "         national_inv  lead_time  in_transit_qty  forecast_3_month  \\\n",
       "0                 0.0        8.0             0.0               0.0   \n",
       "1                 2.0        9.0             0.0               0.0   \n",
       "2                 2.0        8.0             0.0               0.0   \n",
       "3                 7.0        8.0             0.0               0.0   \n",
       "4                 8.0        8.0             0.0               0.0   \n",
       "...               ...        ...             ...               ...   \n",
       "1929931          12.0       12.0             0.0               0.0   \n",
       "1929932          13.0       12.0             0.0               0.0   \n",
       "1929933          13.0       12.0             0.0               0.0   \n",
       "1929934          10.0       12.0             0.0               0.0   \n",
       "1929935        2913.0       12.0             0.0               0.0   \n",
       "\n",
       "         forecast_6_month  forecast_9_month  sales_1_month  sales_3_month  \\\n",
       "0                     0.0               0.0            0.0            0.0   \n",
       "1                     0.0               0.0            0.0            0.0   \n",
       "2                     0.0               0.0            0.0            0.0   \n",
       "3                     0.0               0.0            0.0            0.0   \n",
       "4                     0.0               0.0            0.0            0.0   \n",
       "...                   ...               ...            ...            ...   \n",
       "1929931               0.0               0.0            0.0            0.0   \n",
       "1929932               0.0               0.0            0.0            0.0   \n",
       "1929933               0.0               0.0            0.0            0.0   \n",
       "1929934               0.0               0.0            0.0            0.0   \n",
       "1929935               0.0               0.0            0.0           30.0   \n",
       "\n",
       "         sales_6_month  sales_9_month  min_bank  potential_issue  \\\n",
       "0                  0.0            0.0       0.0                0   \n",
       "1                  0.0            0.0       0.0                0   \n",
       "2                  0.0            0.0       0.0                0   \n",
       "3                  0.0            0.0       1.0                0   \n",
       "4                  0.0            4.0       2.0                0   \n",
       "...                ...            ...       ...              ...   \n",
       "1929931            0.0            0.0       1.0                0   \n",
       "1929932            0.0            0.0       1.0                0   \n",
       "1929933            0.0            0.0       1.0                0   \n",
       "1929934            0.0            0.0       1.0                0   \n",
       "1929935           88.0           88.0       4.0                0   \n",
       "\n",
       "         pieces_past_due  perf_6_month_avg  perf_12_month_avg  local_bo_qty  \\\n",
       "0                    0.0            -99.00             -99.00           0.0   \n",
       "1                    0.0              0.99               0.99           0.0   \n",
       "2                    0.0            -99.00             -99.00           0.0   \n",
       "3                    0.0              0.10               0.13           0.0   \n",
       "4                    0.0            -99.00             -99.00           0.0   \n",
       "...                  ...               ...                ...           ...   \n",
       "1929931              0.0              0.48               0.48           0.0   \n",
       "1929932              0.0              0.48               0.48           0.0   \n",
       "1929933              0.0              0.48               0.48           0.0   \n",
       "1929934              0.0              0.48               0.48           0.0   \n",
       "1929935              0.0              0.48               0.48           0.0   \n",
       "\n",
       "         deck_risk  oe_constraint  ppap_risk  stop_auto_buy  rev_stop  \\\n",
       "0                0              0          0              1         0   \n",
       "1                0              0          0              1         0   \n",
       "2                1              0          0              1         0   \n",
       "3                0              0          0              1         0   \n",
       "4                1              0          0              1         0   \n",
       "...            ...            ...        ...            ...       ...   \n",
       "1929931          1              0          0              1         0   \n",
       "1929932          1              0          0              1         0   \n",
       "1929933          1              0          0              1         0   \n",
       "1929934          1              0          0              1         0   \n",
       "1929935          1              0          0              1         0   \n",
       "\n",
       "         went_on_backorder  \n",
       "0                        0  \n",
       "1                        0  \n",
       "2                        0  \n",
       "3                        0  \n",
       "4                        0  \n",
       "...                    ...  \n",
       "1929931                  0  \n",
       "1929932                  0  \n",
       "1929933                  0  \n",
       "1929934                  0  \n",
       "1929935                  0  \n",
       "\n",
       "[1929936 rows x 22 columns]"
      ]
     },
     "execution_count": 19,
     "metadata": {},
     "output_type": "execute_result"
    }
   ],
   "source": [
    "df"
   ]
  },
  {
   "cell_type": "markdown",
   "id": "IQfYJALtVpTA",
   "metadata": {
    "id": "IQfYJALtVpTA"
   },
   "source": [
    "## Univariate Analysis"
   ]
  },
  {
   "cell_type": "code",
   "execution_count": 20,
   "id": "OGzaubB4Voho",
   "metadata": {
    "colab": {
     "base_uri": "https://localhost:8080/"
    },
    "executionInfo": {
     "elapsed": 7,
     "status": "ok",
     "timestamp": 1711550148771,
     "user": {
      "displayName": "Aditya Nikumbh",
      "userId": "07855731611952259482"
     },
     "user_tz": 0
    },
    "id": "OGzaubB4Voho",
    "outputId": "8eede46b-6123-4628-ad63-25e424aabdf0"
   },
   "outputs": [
    {
     "data": {
      "text/plain": [
       "national_inv         float64\n",
       "lead_time            float64\n",
       "in_transit_qty       float64\n",
       "forecast_3_month     float64\n",
       "forecast_6_month     float64\n",
       "forecast_9_month     float64\n",
       "sales_1_month        float64\n",
       "sales_3_month        float64\n",
       "sales_6_month        float64\n",
       "sales_9_month        float64\n",
       "min_bank             float64\n",
       "potential_issue        int64\n",
       "pieces_past_due      float64\n",
       "perf_6_month_avg     float64\n",
       "perf_12_month_avg    float64\n",
       "local_bo_qty         float64\n",
       "deck_risk              int64\n",
       "oe_constraint          int64\n",
       "ppap_risk              int64\n",
       "stop_auto_buy          int64\n",
       "rev_stop               int64\n",
       "went_on_backorder      int64\n",
       "dtype: object"
      ]
     },
     "execution_count": 20,
     "metadata": {},
     "output_type": "execute_result"
    }
   ],
   "source": [
    "df.dtypes"
   ]
  },
  {
   "cell_type": "markdown",
   "id": "ByCT2FxVdPgo",
   "metadata": {
    "id": "ByCT2FxVdPgo"
   },
   "source": [
    "###*Categorical_features*"
   ]
  },
  {
   "cell_type": "code",
   "execution_count": 21,
   "id": "dD40-TXwcNX3",
   "metadata": {
    "executionInfo": {
     "elapsed": 5,
     "status": "ok",
     "timestamp": 1711550148771,
     "user": {
      "displayName": "Aditya Nikumbh",
      "userId": "07855731611952259482"
     },
     "user_tz": 0
    },
    "id": "dD40-TXwcNX3"
   },
   "outputs": [],
   "source": [
    "def univariate_plot(data_df):\n",
    "    # Select categorical columns except 'went_on_backorder'\n",
    "    categorical_features = [col for col in data_df.select_dtypes(include=['int64']).columns if col != 'went_on_backorder']\n",
    "\n",
    "    num_features = len(categorical_features)\n",
    "    fig, axes = plt.subplots(nrows=num_features//2 + num_features%2, ncols=2, figsize=(15, 6*num_features//2))\n",
    "\n",
    "    for i, feature in enumerate(categorical_features):\n",
    "        row = i // 2\n",
    "        col = i % 2\n",
    "        # Group by feature and 'went_on_backorder', then count occurrences\n",
    "        counts = data_df.groupby([feature, 'went_on_backorder']).size().unstack().fillna(0)\n",
    "\n",
    "        # Plot bar chart\n",
    "        ax = counts.plot(kind='bar', rot=100, title=f'{feature} vs went_on_backorder', ax=axes[row, col])\n",
    "\n",
    "        # Print counts and percentages\n",
    "        for index, row in counts.iterrows():\n",
    "            print(f\"{feature} state is {index}:\")\n",
    "            for column, value in row.iteritems():\n",
    "                percentage = value * 100 / row.sum()\n",
    "                print(f\"   Product {column} {index} {value} times ({percentage:.2f}%)\")\n",
    "\n",
    "    plt.tight_layout()\n",
    "    plt.show()\n",
    "\n"
   ]
  },
  {
   "cell_type": "code",
   "execution_count": 22,
   "id": "Ju_Ct0jjcaUU",
   "metadata": {
    "colab": {
     "base_uri": "https://localhost:8080/",
     "height": 1000
    },
    "executionInfo": {
     "elapsed": 3002,
     "status": "ok",
     "timestamp": 1711550151768,
     "user": {
      "displayName": "Aditya Nikumbh",
      "userId": "07855731611952259482"
     },
     "user_tz": 0
    },
    "id": "Ju_Ct0jjcaUU",
    "outputId": "68d39c12-7de0-455d-eda5-7c6fff45682d",
    "scrolled": false
   },
   "outputs": [
    {
     "name": "stdout",
     "output_type": "stream",
     "text": [
      "potential_issue state is 0:\n",
      "   Product 0 0 1915020 times (99.28%)\n",
      "   Product 1 0 13927 times (0.72%)\n",
      "potential_issue state is 1:\n",
      "   Product 0 1 935 times (94.54%)\n",
      "   Product 1 1 54 times (5.46%)\n",
      "deck_risk state is 0:\n",
      "   Product 0 0 1482779 times (99.22%)\n",
      "   Product 1 0 11704 times (0.78%)\n",
      "deck_risk state is 1:\n",
      "   Product 0 1 433176 times (99.48%)\n",
      "   Product 1 1 2277 times (0.52%)\n",
      "oe_constraint state is 0:\n",
      "   Product 0 0 1915672 times (99.28%)\n",
      "   Product 1 0 13972 times (0.72%)\n",
      "oe_constraint state is 1:\n",
      "   Product 0 1 283 times (96.92%)\n",
      "   Product 1 1 9 times (3.08%)\n",
      "ppap_risk state is 0:\n",
      "   Product 0 0 1685534 times (99.30%)\n",
      "   Product 1 0 11850 times (0.70%)\n",
      "ppap_risk state is 1:\n",
      "   Product 0 1 230421 times (99.08%)\n",
      "   Product 1 1 2131 times (0.92%)\n",
      "stop_auto_buy state is 0:\n",
      "   Product 0 0 69966 times (99.18%)\n",
      "   Product 1 0 578 times (0.82%)\n",
      "stop_auto_buy state is 1:\n",
      "   Product 0 1 1845989 times (99.28%)\n",
      "   Product 1 1 13403 times (0.72%)\n",
      "rev_stop state is 0:\n",
      "   Product 0 0 1915120 times (99.28%)\n",
      "   Product 1 0 13977 times (0.72%)\n",
      "rev_stop state is 1:\n",
      "   Product 0 1 835 times (99.52%)\n",
      "   Product 1 1 4 times (0.48%)\n"
     ]
    },
    {
     "data": {
      "image/png": "[encoded data removed]",
      "text/plain": [
       "<Figure size 1080x1296 with 6 Axes>"
      ]
     },
     "metadata": {
      "needs_background": "light"
     },
     "output_type": "display_data"
    }
   ],
   "source": [
    "univariate_plot(df)"
   ]
  },
  {
   "cell_type": "markdown",
   "id": "wX60zwFDrOnH",
   "metadata": {
    "id": "wX60zwFDrOnH"
   },
   "source": [
    "## Numerical_Features"
   ]
  },
  {
   "cell_type": "code",
   "execution_count": 23,
   "id": "ppzQtN9UrV5G",
   "metadata": {
    "colab": {
     "base_uri": "https://localhost:8080/",
     "height": 406
    },
    "executionInfo": {
     "elapsed": 91617,
     "status": "ok",
     "timestamp": 1711550243382,
     "user": {
      "displayName": "Aditya Nikumbh",
      "userId": "07855731611952259482"
     },
     "user_tz": 0
    },
    "id": "ppzQtN9UrV5G",
    "outputId": "e895a12c-58f3-447f-df09-13bebeab8377"
   },
   "outputs": [
    {
     "data": {
      "text/plain": [
       "<AxesSubplot:>"
      ]
     },
     "execution_count": 23,
     "metadata": {},
     "output_type": "execute_result"
    },
    {
     "data": {
      "image/png": "[encoded data removed]",
      "text/plain": [
       "<Figure size 1800x720 with 1 Axes>"
      ]
     },
     "metadata": {},
     "output_type": "display_data"
    }
   ],
   "source": [
    "num_data = [ 'in_transit_qty', 'forecast_3_month',\n",
    "                   'forecast_6_month', 'forecast_9_month', 'min_bank',\n",
    "                   'local_bo_qty', 'pieces_past_due', 'sales_1_month',\n",
    "                   'sales_3_month', 'sales_6_month', 'sales_9_month',]\n",
    "fig,ax = plt.subplots(figsize=(25,10),facecolor='white')\n",
    "sns.boxplot(data=df[num_data],ax=ax,width=0.5,fliersize=4,showfliers=False)   # will not Show the outliers beyond the caps.\n"
   ]
  },
  {
   "cell_type": "markdown",
   "id": "yMhRg_Fw5Rr8",
   "metadata": {
    "id": "yMhRg_Fw5Rr8"
   },
   "source": [
    "### National_Inv"
   ]
  },
  {
   "cell_type": "code",
   "execution_count": 24,
   "id": "h6sSuUXi5ODO",
   "metadata": {
    "colab": {
     "base_uri": "https://localhost:8080/",
     "height": 450
    },
    "executionInfo": {
     "elapsed": 4130,
     "status": "ok",
     "timestamp": 1711550247507,
     "user": {
      "displayName": "Aditya Nikumbh",
      "userId": "07855731611952259482"
     },
     "user_tz": 0
    },
    "id": "h6sSuUXi5ODO",
    "outputId": "c189d1ab-6c3e-49b7-de51-bdd472713981"
   },
   "outputs": [
    {
     "data": {
      "image/png": "[encoded data removed]",
      "text/plain": [
       "<Figure size 432x288 with 1 Axes>"
      ]
     },
     "metadata": {
      "needs_background": "light"
     },
     "output_type": "display_data"
    }
   ],
   "source": [
    "# Plotting Boxplot\n",
    "sns.boxplot(  x=df[\"went_on_backorder\"] ,y=df[\"national_inv\"], showfliers=False)\n",
    "plt.show()"
   ]
  },
  {
   "cell_type": "markdown",
   "id": "miKUTZ9VQB7P",
   "metadata": {
    "id": "miKUTZ9VQB7P"
   },
   "source": [
    "### Lead_time"
   ]
  },
  {
   "cell_type": "code",
   "execution_count": 25,
   "id": "wPtYiHKaP45-",
   "metadata": {
    "colab": {
     "base_uri": "https://localhost:8080/",
     "height": 450
    },
    "executionInfo": {
     "elapsed": 5250,
     "status": "ok",
     "timestamp": 1711550252754,
     "user": {
      "displayName": "Aditya Nikumbh",
      "userId": "07855731611952259482"
     },
     "user_tz": 0
    },
    "id": "wPtYiHKaP45-",
    "outputId": "65b16300-a4c5-4d4d-92cf-bf9aaf02d8aa"
   },
   "outputs": [
    {
     "data": {
      "image/png": "[encoded data removed]",
      "text/plain": [
       "<Figure size 432x288 with 1 Axes>"
      ]
     },
     "metadata": {
      "needs_background": "light"
     },
     "output_type": "display_data"
    }
   ],
   "source": [
    "# Plotting Boxplot\n",
    "sns.boxplot(  x=df[\"went_on_backorder\"] ,y=df[\"lead_time\"], showfliers = False)\n",
    "plt.show()"
   ]
  },
  {
   "cell_type": "markdown",
   "id": "ouSvPg4Shgr1",
   "metadata": {
    "id": "ouSvPg4Shgr1"
   },
   "source": [
    "### In_trsansit_qty"
   ]
  },
  {
   "cell_type": "code",
   "execution_count": 26,
   "id": "aC8vMv00iExV",
   "metadata": {
    "colab": {
     "base_uri": "https://localhost:8080/",
     "height": 450
    },
    "executionInfo": {
     "elapsed": 3645,
     "status": "ok",
     "timestamp": 1711550256397,
     "user": {
      "displayName": "Aditya Nikumbh",
      "userId": "07855731611952259482"
     },
     "user_tz": 0
    },
    "id": "aC8vMv00iExV",
    "outputId": "81de056e-92e3-4de7-eec0-43d28ddb9302"
   },
   "outputs": [
    {
     "data": {
      "image/png": "[encoded data removed]",
      "text/plain": [
       "<Figure size 432x288 with 1 Axes>"
      ]
     },
     "metadata": {
      "needs_background": "light"
     },
     "output_type": "display_data"
    }
   ],
   "source": [
    " # Plotting Boxplot\n",
    "sns.boxplot(  x=df[\"went_on_backorder\"] ,y=df[\"in_transit_qty\"], showfliers = False)\n",
    "plt.show()"
   ]
  },
  {
   "cell_type": "markdown",
   "id": "Ss307TwGwsiv",
   "metadata": {
    "id": "Ss307TwGwsiv"
   },
   "source": [
    "### forecast for 3,6,9 months"
   ]
  },
  {
   "cell_type": "code",
   "execution_count": 27,
   "id": "IZZzaNPEzwEP",
   "metadata": {
    "colab": {
     "base_uri": "https://localhost:8080/",
     "height": 533
    },
    "executionInfo": {
     "elapsed": 18414,
     "status": "ok",
     "timestamp": 1711550339779,
     "user": {
      "displayName": "Aditya Nikumbh",
      "userId": "07855731611952259482"
     },
     "user_tz": 0
    },
    "id": "IZZzaNPEzwEP",
    "outputId": "07064053-3695-491f-f1d3-b0a429806b91"
   },
   "outputs": [
    {
     "data": {
      "image/png": "[encoded data removed]",
      "text/plain": [
       "<Figure size 432x288 with 1 Axes>"
      ]
     },
     "metadata": {
      "needs_background": "light"
     },
     "output_type": "display_data"
    },
    {
     "data": {
      "image/png": "[encoded data removed]",
      "text/plain": [
       "<Figure size 432x288 with 1 Axes>"
      ]
     },
     "metadata": {
      "needs_background": "light"
     },
     "output_type": "display_data"
    },
    {
     "data": {
      "image/png": "[encoded data removed]",
      "text/plain": [
       "<Figure size 432x288 with 1 Axes>"
      ]
     },
     "metadata": {
      "needs_background": "light"
     },
     "output_type": "display_data"
    }
   ],
   "source": [
    "# Plotting Boxplot\n",
    "plt.subplot(3,1,1)\n",
    "sns.boxplot(  x=df[\"went_on_backorder\"] ,y=df[\"forecast_3_month\"],showfliers=False)\n",
    "plt.show()\n",
    "\n",
    "plt.subplot(3,1,2)\n",
    "sns.boxplot(  x=df[\"went_on_backorder\"] ,y=df[\"forecast_6_month\"],showfliers=False)\n",
    "plt.show()\n",
    "\n",
    "plt.subplot(3,1,3)\n",
    "sns.boxplot(  x=df[\"went_on_backorder\"] ,y=df[\"forecast_9_month\"],showfliers=False)\n",
    "plt.show()"
   ]
  },
  {
   "cell_type": "markdown",
   "id": "T5Sl9aYa4JB9",
   "metadata": {
    "id": "T5Sl9aYa4JB9"
   },
   "source": [
    "### sales_1_month, sales_3_month, sales_6_month, sales_9_month"
   ]
  },
  {
   "cell_type": "code",
   "execution_count": 28,
   "id": "NBKPPaGz4IVo",
   "metadata": {
    "colab": {
     "base_uri": "https://localhost:8080/",
     "height": 591
    },
    "executionInfo": {
     "elapsed": 16283,
     "status": "ok",
     "timestamp": 1711550356050,
     "user": {
      "displayName": "Aditya Nikumbh",
      "userId": "07855731611952259482"
     },
     "user_tz": 0
    },
    "id": "NBKPPaGz4IVo",
    "outputId": "0948133f-1f84-4bc3-8f4f-52a1e337d0b0"
   },
   "outputs": [
    {
     "data": {
      "image/png": "[encoded data removed]",
      "text/plain": [
       "<Figure size 432x288 with 1 Axes>"
      ]
     },
     "metadata": {
      "needs_background": "light"
     },
     "output_type": "display_data"
    },
    {
     "data": {
      "image/png": "[encoded data removed]",
      "text/plain": [
       "<Figure size 432x288 with 1 Axes>"
      ]
     },
     "metadata": {
      "needs_background": "light"
     },
     "output_type": "display_data"
    },
    {
     "data": {
      "image/png": "[encoded data removed]",
      "text/plain": [
       "<Figure size 432x288 with 1 Axes>"
      ]
     },
     "metadata": {
      "needs_background": "light"
     },
     "output_type": "display_data"
    },
    {
     "data": {
      "image/png": "[encoded data removed]",
      "text/plain": [
       "<Figure size 432x288 with 1 Axes>"
      ]
     },
     "metadata": {
      "needs_background": "light"
     },
     "output_type": "display_data"
    }
   ],
   "source": [
    "plt.subplot(4,1,1)\n",
    "sns.boxplot(  x=df[\"went_on_backorder\"] ,y=df[\"sales_1_month\"],showfliers=False)\n",
    "plt.show()\n",
    "\n",
    "plt.subplot(4,1,2)\n",
    "sns.boxplot(  x=df[\"went_on_backorder\"] ,y=df[\"sales_3_month\"],showfliers=False)\n",
    "plt.show()\n",
    "\n",
    "plt.subplot(4,1,3)\n",
    "sns.boxplot(  x=df[\"went_on_backorder\"] ,y=df[\"sales_6_month\"],showfliers=False)\n",
    "plt.show()\n",
    "\n",
    "plt.subplot(4,1,4)\n",
    "sns.boxplot(  x=df[\"went_on_backorder\"] ,y=df[\"sales_9_month\"],showfliers=False)\n",
    "plt.show()"
   ]
  },
  {
   "cell_type": "markdown",
   "id": "eT7dnVkfhzaE",
   "metadata": {
    "id": "eT7dnVkfhzaE"
   },
   "source": [
    "### min_bank"
   ]
  },
  {
   "cell_type": "code",
   "execution_count": 29,
   "id": "BBl7D1KGh4AW",
   "metadata": {
    "colab": {
     "base_uri": "https://localhost:8080/",
     "height": 450
    },
    "executionInfo": {
     "elapsed": 3285,
     "status": "ok",
     "timestamp": 1711550359314,
     "user": {
      "displayName": "Aditya Nikumbh",
      "userId": "07855731611952259482"
     },
     "user_tz": 0
    },
    "id": "BBl7D1KGh4AW",
    "outputId": "52047a3a-e129-4d4e-d8a0-b4c28f4ad88a"
   },
   "outputs": [
    {
     "data": {
      "image/png": "[encoded data removed]",
      "text/plain": [
       "<Figure size 432x288 with 1 Axes>"
      ]
     },
     "metadata": {
      "needs_background": "light"
     },
     "output_type": "display_data"
    }
   ],
   "source": [
    "sns.boxplot(  x=df[\"went_on_backorder\"] ,y=df[\"min_bank\"],showfliers=False)\n",
    "plt.show()"
   ]
  },
  {
   "cell_type": "markdown",
   "id": "Swn_szb7kYJJ",
   "metadata": {
    "id": "Swn_szb7kYJJ"
   },
   "source": [
    "### Performance_AVG 6 months, 9months"
   ]
  },
  {
   "cell_type": "code",
   "execution_count": 30,
   "id": "XMr-OuQnkhvh",
   "metadata": {
    "colab": {
     "base_uri": "https://localhost:8080/",
     "height": 479
    },
    "executionInfo": {
     "elapsed": 9469,
     "status": "ok",
     "timestamp": 1711550370769,
     "user": {
      "displayName": "Aditya Nikumbh",
      "userId": "07855731611952259482"
     },
     "user_tz": 0
    },
    "id": "XMr-OuQnkhvh",
    "outputId": "349c3cd5-5fd0-40b6-97c6-c9fa2b916aff"
   },
   "outputs": [
    {
     "data": {
      "image/png": "[encoded data removed]",
      "text/plain": [
       "<Figure size 432x288 with 1 Axes>"
      ]
     },
     "metadata": {
      "needs_background": "light"
     },
     "output_type": "display_data"
    },
    {
     "data": {
      "image/png": "[encoded data removed]",
      "text/plain": [
       "<Figure size 432x288 with 1 Axes>"
      ]
     },
     "metadata": {
      "needs_background": "light"
     },
     "output_type": "display_data"
    }
   ],
   "source": [
    "plt.subplot(2,1,1)\n",
    "sns.boxplot(  x=df[\"went_on_backorder\"] ,y=df[\"perf_6_month_avg\"],showfliers=False)\n",
    "plt.show()\n",
    "\n",
    "plt.subplot(2,1,2)\n",
    "sns.boxplot(  x=df[\"went_on_backorder\"] ,y=df[\"perf_12_month_avg\"],showfliers=False)\n",
    "plt.show()\n"
   ]
  },
  {
   "cell_type": "markdown",
   "id": "P_OmH-o2pU0n",
   "metadata": {
    "id": "P_OmH-o2pU0n"
   },
   "source": [
    "## Bivariate_Analysis"
   ]
  },
  {
   "cell_type": "markdown",
   "id": "23IZUsRdL7wK",
   "metadata": {
    "id": "23IZUsRdL7wK"
   },
   "source": [
    "We will plot scatter plots using any two variables as x & y and hue as went_on_backorder "
   ]
  },
  {
   "cell_type": "code",
   "execution_count": 31,
   "id": "2ca45fcf",
   "metadata": {},
   "outputs": [
    {
     "data": {
      "text/plain": [
       "<AxesSubplot:xlabel='forecast_9_month', ylabel='forecast_3_month'>"
      ]
     },
     "execution_count": 31,
     "metadata": {},
     "output_type": "execute_result"
    },
    {
     "data": {
      "image/png": "[encoded data removed]",
      "text/plain": [
       "<Figure size 432x288 with 1 Axes>"
      ]
     },
     "metadata": {
      "needs_background": "light"
     },
     "output_type": "display_data"
    }
   ],
   "source": [
    "sns.scatterplot(x = df.forecast_9_month,y = df.forecast_3_month,hue=df.went_on_backorder)"
   ]
  },
  {
   "cell_type": "code",
   "execution_count": 32,
   "id": "cd99cdc4",
   "metadata": {},
   "outputs": [
    {
     "data": {
      "text/plain": [
       "<AxesSubplot:xlabel='forecast_9_month', ylabel='sales_3_month'>"
      ]
     },
     "execution_count": 32,
     "metadata": {},
     "output_type": "execute_result"
    },
    {
     "data": {
      "image/png": "[encoded data removed]",
      "text/plain": [
       "<Figure size 432x288 with 1 Axes>"
      ]
     },
     "metadata": {
      "needs_background": "light"
     },
     "output_type": "display_data"
    }
   ],
   "source": [
    "sns.scatterplot(x = df.forecast_9_month,y = df.sales_3_month,hue=df.went_on_backorder)"
   ]
  },
  {
   "cell_type": "code",
   "execution_count": 33,
   "id": "dbfc2472",
   "metadata": {},
   "outputs": [
    {
     "data": {
      "text/plain": [
       "<AxesSubplot:xlabel='forecast_3_month', ylabel='national_inv'>"
      ]
     },
     "execution_count": 33,
     "metadata": {},
     "output_type": "execute_result"
    },
    {
     "data": {
      "image/png": "[encoded data removed]",
      "text/plain": [
       "<Figure size 432x288 with 1 Axes>"
      ]
     },
     "metadata": {
      "needs_background": "light"
     },
     "output_type": "display_data"
    }
   ],
   "source": [
    "sns.scatterplot(x = df.forecast_3_month,y = df.national_inv,hue=df.went_on_backorder)"
   ]
  },
  {
   "cell_type": "code",
   "execution_count": 34,
   "id": "17362239",
   "metadata": {
    "scrolled": false
   },
   "outputs": [
    {
     "data": {
      "text/plain": [
       "<AxesSubplot:xlabel='lead_time', ylabel='national_inv'>"
      ]
     },
     "execution_count": 34,
     "metadata": {},
     "output_type": "execute_result"
    },
    {
     "data": {
      "image/png": "[encoded data removed]",
      "text/plain": [
       "<Figure size 432x288 with 1 Axes>"
      ]
     },
     "metadata": {
      "needs_background": "light"
     },
     "output_type": "display_data"
    }
   ],
   "source": [
    "sns.scatterplot(x = df.lead_time,y = df.national_inv,hue=df.went_on_backorder)"
   ]
  },
  {
   "cell_type": "markdown",
   "id": "27723b8f",
   "metadata": {},
   "source": [
    "## Outlier detection & Removal "
   ]
  },
  {
   "cell_type": "code",
   "execution_count": 35,
   "id": "82160cd2",
   "metadata": {},
   "outputs": [],
   "source": [
    "import pandas as pd\n",
    "\n",
    "def impute_outliers(data_series):\n",
    "    # Calculate quartiles and interquartile range\n",
    "    Q1 = data_series.quantile(0.25)\n",
    "    Q3 = data_series.quantile(0.75)\n",
    "    IQR = Q3 - Q1\n",
    "    # Calculate lower and upper bounds\n",
    "    lower_bound = Q1 - 1.5 * IQR\n",
    "    upper_bound = Q3 + 1.5 * IQR\n",
    "\n",
    "    # Create a new series to store the imputed values\n",
    "    imputed_series = pd.Series(index=data_series.index)\n",
    "\n",
    "    # Iterate over the data and impute outliers\n",
    "    for i, value in data_series.items():\n",
    "\n",
    "        if lower_bound == upper_bound:\n",
    "          imputed_series[i]=value\n",
    "        elif value < lower_bound:\n",
    "            imputed_series[i] = lower_bound\n",
    "        elif value > upper_bound:\n",
    "            imputed_series[i] = upper_bound\n",
    "        else:\n",
    "            imputed_series[i] = value\n",
    "\n",
    "    print(\"The new series is without outliers\")\n",
    "    return imputed_series"
   ]
  },
  {
   "cell_type": "code",
   "execution_count": 36,
   "id": "7e70d1ff",
   "metadata": {},
   "outputs": [
    {
     "name": "stdout",
     "output_type": "stream",
     "text": [
      "The new series is without outliers\n",
      "The new series is without outliers\n",
      "The new series is without outliers\n",
      "The new series is without outliers\n",
      "The new series is without outliers\n",
      "The new series is without outliers\n",
      "The new series is without outliers\n",
      "The new series is without outliers\n",
      "The new series is without outliers\n",
      "The new series is without outliers\n",
      "The new series is without outliers\n",
      "The new series is without outliers\n",
      "The new series is without outliers\n",
      "The new series is without outliers\n",
      "The new series is without outliers\n"
     ]
    },
    {
     "data": {
      "text/html": [
       "<div>\n",
       "<style scoped>\n",
       "    .dataframe tbody tr th:only-of-type {\n",
       "        vertical-align: middle;\n",
       "    }\n",
       "\n",
       "    .dataframe tbody tr th {\n",
       "        vertical-align: top;\n",
       "    }\n",
       "\n",
       "    .dataframe thead th {\n",
       "        text-align: right;\n",
       "    }\n",
       "</style>\n",
       "<table border=\"1\" class=\"dataframe\">\n",
       "  <thead>\n",
       "    <tr style=\"text-align: right;\">\n",
       "      <th></th>\n",
       "      <th>national_inv</th>\n",
       "      <th>lead_time</th>\n",
       "      <th>in_transit_qty</th>\n",
       "      <th>forecast_3_month</th>\n",
       "      <th>forecast_6_month</th>\n",
       "      <th>forecast_9_month</th>\n",
       "      <th>sales_1_month</th>\n",
       "      <th>sales_3_month</th>\n",
       "      <th>sales_6_month</th>\n",
       "      <th>sales_9_month</th>\n",
       "      <th>min_bank</th>\n",
       "      <th>potential_issue</th>\n",
       "      <th>pieces_past_due</th>\n",
       "      <th>perf_6_month_avg</th>\n",
       "      <th>perf_12_month_avg</th>\n",
       "      <th>local_bo_qty</th>\n",
       "      <th>deck_risk</th>\n",
       "      <th>oe_constraint</th>\n",
       "      <th>ppap_risk</th>\n",
       "      <th>stop_auto_buy</th>\n",
       "      <th>rev_stop</th>\n",
       "      <th>went_on_backorder</th>\n",
       "    </tr>\n",
       "  </thead>\n",
       "  <tbody>\n",
       "    <tr>\n",
       "      <th>0</th>\n",
       "      <td>0.0</td>\n",
       "      <td>8.0</td>\n",
       "      <td>0.0</td>\n",
       "      <td>0.0</td>\n",
       "      <td>0.0</td>\n",
       "      <td>0.0</td>\n",
       "      <td>0.0</td>\n",
       "      <td>0.0</td>\n",
       "      <td>0.0</td>\n",
       "      <td>0.0</td>\n",
       "      <td>0.0</td>\n",
       "      <td>0</td>\n",
       "      <td>0.0</td>\n",
       "      <td>0.135</td>\n",
       "      <td>0.225</td>\n",
       "      <td>0.0</td>\n",
       "      <td>0</td>\n",
       "      <td>0</td>\n",
       "      <td>0</td>\n",
       "      <td>1</td>\n",
       "      <td>0</td>\n",
       "      <td>0</td>\n",
       "    </tr>\n",
       "    <tr>\n",
       "      <th>1</th>\n",
       "      <td>2.0</td>\n",
       "      <td>9.0</td>\n",
       "      <td>0.0</td>\n",
       "      <td>0.0</td>\n",
       "      <td>0.0</td>\n",
       "      <td>0.0</td>\n",
       "      <td>0.0</td>\n",
       "      <td>0.0</td>\n",
       "      <td>0.0</td>\n",
       "      <td>0.0</td>\n",
       "      <td>0.0</td>\n",
       "      <td>0</td>\n",
       "      <td>0.0</td>\n",
       "      <td>0.990</td>\n",
       "      <td>0.990</td>\n",
       "      <td>0.0</td>\n",
       "      <td>0</td>\n",
       "      <td>0</td>\n",
       "      <td>0</td>\n",
       "      <td>1</td>\n",
       "      <td>0</td>\n",
       "      <td>0</td>\n",
       "    </tr>\n",
       "    <tr>\n",
       "      <th>2</th>\n",
       "      <td>2.0</td>\n",
       "      <td>8.0</td>\n",
       "      <td>0.0</td>\n",
       "      <td>0.0</td>\n",
       "      <td>0.0</td>\n",
       "      <td>0.0</td>\n",
       "      <td>0.0</td>\n",
       "      <td>0.0</td>\n",
       "      <td>0.0</td>\n",
       "      <td>0.0</td>\n",
       "      <td>0.0</td>\n",
       "      <td>0</td>\n",
       "      <td>0.0</td>\n",
       "      <td>0.135</td>\n",
       "      <td>0.225</td>\n",
       "      <td>0.0</td>\n",
       "      <td>1</td>\n",
       "      <td>0</td>\n",
       "      <td>0</td>\n",
       "      <td>1</td>\n",
       "      <td>0</td>\n",
       "      <td>0</td>\n",
       "    </tr>\n",
       "    <tr>\n",
       "      <th>3</th>\n",
       "      <td>7.0</td>\n",
       "      <td>8.0</td>\n",
       "      <td>0.0</td>\n",
       "      <td>0.0</td>\n",
       "      <td>0.0</td>\n",
       "      <td>0.0</td>\n",
       "      <td>0.0</td>\n",
       "      <td>0.0</td>\n",
       "      <td>0.0</td>\n",
       "      <td>0.0</td>\n",
       "      <td>1.0</td>\n",
       "      <td>0</td>\n",
       "      <td>0.0</td>\n",
       "      <td>0.135</td>\n",
       "      <td>0.225</td>\n",
       "      <td>0.0</td>\n",
       "      <td>0</td>\n",
       "      <td>0</td>\n",
       "      <td>0</td>\n",
       "      <td>1</td>\n",
       "      <td>0</td>\n",
       "      <td>0</td>\n",
       "    </tr>\n",
       "    <tr>\n",
       "      <th>4</th>\n",
       "      <td>8.0</td>\n",
       "      <td>8.0</td>\n",
       "      <td>0.0</td>\n",
       "      <td>0.0</td>\n",
       "      <td>0.0</td>\n",
       "      <td>0.0</td>\n",
       "      <td>0.0</td>\n",
       "      <td>0.0</td>\n",
       "      <td>0.0</td>\n",
       "      <td>4.0</td>\n",
       "      <td>2.0</td>\n",
       "      <td>0</td>\n",
       "      <td>0.0</td>\n",
       "      <td>0.135</td>\n",
       "      <td>0.225</td>\n",
       "      <td>0.0</td>\n",
       "      <td>1</td>\n",
       "      <td>0</td>\n",
       "      <td>0</td>\n",
       "      <td>1</td>\n",
       "      <td>0</td>\n",
       "      <td>0</td>\n",
       "    </tr>\n",
       "    <tr>\n",
       "      <th>...</th>\n",
       "      <td>...</td>\n",
       "      <td>...</td>\n",
       "      <td>...</td>\n",
       "      <td>...</td>\n",
       "      <td>...</td>\n",
       "      <td>...</td>\n",
       "      <td>...</td>\n",
       "      <td>...</td>\n",
       "      <td>...</td>\n",
       "      <td>...</td>\n",
       "      <td>...</td>\n",
       "      <td>...</td>\n",
       "      <td>...</td>\n",
       "      <td>...</td>\n",
       "      <td>...</td>\n",
       "      <td>...</td>\n",
       "      <td>...</td>\n",
       "      <td>...</td>\n",
       "      <td>...</td>\n",
       "      <td>...</td>\n",
       "      <td>...</td>\n",
       "      <td>...</td>\n",
       "    </tr>\n",
       "    <tr>\n",
       "      <th>1929931</th>\n",
       "      <td>12.0</td>\n",
       "      <td>12.0</td>\n",
       "      <td>0.0</td>\n",
       "      <td>0.0</td>\n",
       "      <td>0.0</td>\n",
       "      <td>0.0</td>\n",
       "      <td>0.0</td>\n",
       "      <td>0.0</td>\n",
       "      <td>0.0</td>\n",
       "      <td>0.0</td>\n",
       "      <td>1.0</td>\n",
       "      <td>0</td>\n",
       "      <td>0.0</td>\n",
       "      <td>0.480</td>\n",
       "      <td>0.480</td>\n",
       "      <td>0.0</td>\n",
       "      <td>1</td>\n",
       "      <td>0</td>\n",
       "      <td>0</td>\n",
       "      <td>1</td>\n",
       "      <td>0</td>\n",
       "      <td>0</td>\n",
       "    </tr>\n",
       "    <tr>\n",
       "      <th>1929932</th>\n",
       "      <td>13.0</td>\n",
       "      <td>12.0</td>\n",
       "      <td>0.0</td>\n",
       "      <td>0.0</td>\n",
       "      <td>0.0</td>\n",
       "      <td>0.0</td>\n",
       "      <td>0.0</td>\n",
       "      <td>0.0</td>\n",
       "      <td>0.0</td>\n",
       "      <td>0.0</td>\n",
       "      <td>1.0</td>\n",
       "      <td>0</td>\n",
       "      <td>0.0</td>\n",
       "      <td>0.480</td>\n",
       "      <td>0.480</td>\n",
       "      <td>0.0</td>\n",
       "      <td>1</td>\n",
       "      <td>0</td>\n",
       "      <td>0</td>\n",
       "      <td>1</td>\n",
       "      <td>0</td>\n",
       "      <td>0</td>\n",
       "    </tr>\n",
       "    <tr>\n",
       "      <th>1929933</th>\n",
       "      <td>13.0</td>\n",
       "      <td>12.0</td>\n",
       "      <td>0.0</td>\n",
       "      <td>0.0</td>\n",
       "      <td>0.0</td>\n",
       "      <td>0.0</td>\n",
       "      <td>0.0</td>\n",
       "      <td>0.0</td>\n",
       "      <td>0.0</td>\n",
       "      <td>0.0</td>\n",
       "      <td>1.0</td>\n",
       "      <td>0</td>\n",
       "      <td>0.0</td>\n",
       "      <td>0.480</td>\n",
       "      <td>0.480</td>\n",
       "      <td>0.0</td>\n",
       "      <td>1</td>\n",
       "      <td>0</td>\n",
       "      <td>0</td>\n",
       "      <td>1</td>\n",
       "      <td>0</td>\n",
       "      <td>0</td>\n",
       "    </tr>\n",
       "    <tr>\n",
       "      <th>1929934</th>\n",
       "      <td>10.0</td>\n",
       "      <td>12.0</td>\n",
       "      <td>0.0</td>\n",
       "      <td>0.0</td>\n",
       "      <td>0.0</td>\n",
       "      <td>0.0</td>\n",
       "      <td>0.0</td>\n",
       "      <td>0.0</td>\n",
       "      <td>0.0</td>\n",
       "      <td>0.0</td>\n",
       "      <td>1.0</td>\n",
       "      <td>0</td>\n",
       "      <td>0.0</td>\n",
       "      <td>0.480</td>\n",
       "      <td>0.480</td>\n",
       "      <td>0.0</td>\n",
       "      <td>1</td>\n",
       "      <td>0</td>\n",
       "      <td>0</td>\n",
       "      <td>1</td>\n",
       "      <td>0</td>\n",
       "      <td>0</td>\n",
       "    </tr>\n",
       "    <tr>\n",
       "      <th>1929935</th>\n",
       "      <td>194.0</td>\n",
       "      <td>12.0</td>\n",
       "      <td>0.0</td>\n",
       "      <td>0.0</td>\n",
       "      <td>0.0</td>\n",
       "      <td>0.0</td>\n",
       "      <td>0.0</td>\n",
       "      <td>30.0</td>\n",
       "      <td>77.5</td>\n",
       "      <td>88.0</td>\n",
       "      <td>4.0</td>\n",
       "      <td>0</td>\n",
       "      <td>0.0</td>\n",
       "      <td>0.480</td>\n",
       "      <td>0.480</td>\n",
       "      <td>0.0</td>\n",
       "      <td>1</td>\n",
       "      <td>0</td>\n",
       "      <td>0</td>\n",
       "      <td>1</td>\n",
       "      <td>0</td>\n",
       "      <td>0</td>\n",
       "    </tr>\n",
       "  </tbody>\n",
       "</table>\n",
       "<p>1929936 rows × 22 columns</p>\n",
       "</div>"
      ],
      "text/plain": [
       "         national_inv  lead_time  in_transit_qty  forecast_3_month  \\\n",
       "0                 0.0        8.0             0.0               0.0   \n",
       "1                 2.0        9.0             0.0               0.0   \n",
       "2                 2.0        8.0             0.0               0.0   \n",
       "3                 7.0        8.0             0.0               0.0   \n",
       "4                 8.0        8.0             0.0               0.0   \n",
       "...               ...        ...             ...               ...   \n",
       "1929931          12.0       12.0             0.0               0.0   \n",
       "1929932          13.0       12.0             0.0               0.0   \n",
       "1929933          13.0       12.0             0.0               0.0   \n",
       "1929934          10.0       12.0             0.0               0.0   \n",
       "1929935         194.0       12.0             0.0               0.0   \n",
       "\n",
       "         forecast_6_month  forecast_9_month  sales_1_month  sales_3_month  \\\n",
       "0                     0.0               0.0            0.0            0.0   \n",
       "1                     0.0               0.0            0.0            0.0   \n",
       "2                     0.0               0.0            0.0            0.0   \n",
       "3                     0.0               0.0            0.0            0.0   \n",
       "4                     0.0               0.0            0.0            0.0   \n",
       "...                   ...               ...            ...            ...   \n",
       "1929931               0.0               0.0            0.0            0.0   \n",
       "1929932               0.0               0.0            0.0            0.0   \n",
       "1929933               0.0               0.0            0.0            0.0   \n",
       "1929934               0.0               0.0            0.0            0.0   \n",
       "1929935               0.0               0.0            0.0           30.0   \n",
       "\n",
       "         sales_6_month  sales_9_month  min_bank  potential_issue  \\\n",
       "0                  0.0            0.0       0.0                0   \n",
       "1                  0.0            0.0       0.0                0   \n",
       "2                  0.0            0.0       0.0                0   \n",
       "3                  0.0            0.0       1.0                0   \n",
       "4                  0.0            4.0       2.0                0   \n",
       "...                ...            ...       ...              ...   \n",
       "1929931            0.0            0.0       1.0                0   \n",
       "1929932            0.0            0.0       1.0                0   \n",
       "1929933            0.0            0.0       1.0                0   \n",
       "1929934            0.0            0.0       1.0                0   \n",
       "1929935           77.5           88.0       4.0                0   \n",
       "\n",
       "         pieces_past_due  perf_6_month_avg  perf_12_month_avg  local_bo_qty  \\\n",
       "0                    0.0             0.135              0.225           0.0   \n",
       "1                    0.0             0.990              0.990           0.0   \n",
       "2                    0.0             0.135              0.225           0.0   \n",
       "3                    0.0             0.135              0.225           0.0   \n",
       "4                    0.0             0.135              0.225           0.0   \n",
       "...                  ...               ...                ...           ...   \n",
       "1929931              0.0             0.480              0.480           0.0   \n",
       "1929932              0.0             0.480              0.480           0.0   \n",
       "1929933              0.0             0.480              0.480           0.0   \n",
       "1929934              0.0             0.480              0.480           0.0   \n",
       "1929935              0.0             0.480              0.480           0.0   \n",
       "\n",
       "         deck_risk  oe_constraint  ppap_risk  stop_auto_buy  rev_stop  \\\n",
       "0                0              0          0              1         0   \n",
       "1                0              0          0              1         0   \n",
       "2                1              0          0              1         0   \n",
       "3                0              0          0              1         0   \n",
       "4                1              0          0              1         0   \n",
       "...            ...            ...        ...            ...       ...   \n",
       "1929931          1              0          0              1         0   \n",
       "1929932          1              0          0              1         0   \n",
       "1929933          1              0          0              1         0   \n",
       "1929934          1              0          0              1         0   \n",
       "1929935          1              0          0              1         0   \n",
       "\n",
       "         went_on_backorder  \n",
       "0                        0  \n",
       "1                        0  \n",
       "2                        0  \n",
       "3                        0  \n",
       "4                        0  \n",
       "...                    ...  \n",
       "1929931                  0  \n",
       "1929932                  0  \n",
       "1929933                  0  \n",
       "1929934                  0  \n",
       "1929935                  0  \n",
       "\n",
       "[1929936 rows x 22 columns]"
      ]
     },
     "execution_count": 36,
     "metadata": {},
     "output_type": "execute_result"
    }
   ],
   "source": [
    "df['national_inv']=impute_outliers(df['national_inv'])\n",
    "df['lead_time']=impute_outliers(df['lead_time'])\n",
    "df['in_transit_qty']=impute_outliers(df['in_transit_qty'])\n",
    "df['forecast_3_month']=impute_outliers(df['forecast_3_month'])\n",
    "df['forecast_6_month']=impute_outliers(df['forecast_6_month'])\n",
    "df['forecast_9_month']=impute_outliers(df['forecast_9_month'])\n",
    "df['sales_1_month']=impute_outliers(df['sales_1_month'])\n",
    "df['sales_3_month']=impute_outliers(df['sales_3_month'])\n",
    "df['sales_6_month']=impute_outliers(df['sales_6_month'])\n",
    "df['sales_9_month']=impute_outliers(df['sales_9_month'])\n",
    "df['min_bank']=impute_outliers(df['min_bank'])\n",
    "df['pieces_past_due']=impute_outliers(df['pieces_past_due'])\n",
    "df['perf_6_month_avg']=impute_outliers(df['perf_6_month_avg'])\n",
    "df['perf_12_month_avg']=impute_outliers(df['perf_12_month_avg'])\n",
    "df['local_bo_qty']=impute_outliers(df['local_bo_qty'])\n",
    "df"
   ]
  },
  {
   "cell_type": "markdown",
   "id": "72068343",
   "metadata": {},
   "source": [
    "## Normalisation"
   ]
  },
  {
   "cell_type": "code",
   "execution_count": 40,
   "id": "92ee1c9c",
   "metadata": {},
   "outputs": [
    {
     "data": {
      "text/html": [
       "<div>\n",
       "<style scoped>\n",
       "    .dataframe tbody tr th:only-of-type {\n",
       "        vertical-align: middle;\n",
       "    }\n",
       "\n",
       "    .dataframe tbody tr th {\n",
       "        vertical-align: top;\n",
       "    }\n",
       "\n",
       "    .dataframe thead th {\n",
       "        text-align: right;\n",
       "    }\n",
       "</style>\n",
       "<table border=\"1\" class=\"dataframe\">\n",
       "  <thead>\n",
       "    <tr style=\"text-align: right;\">\n",
       "      <th></th>\n",
       "      <th>national_inv</th>\n",
       "      <th>lead_time</th>\n",
       "      <th>in_transit_qty</th>\n",
       "      <th>forecast_3_month</th>\n",
       "      <th>forecast_6_month</th>\n",
       "      <th>forecast_9_month</th>\n",
       "      <th>sales_1_month</th>\n",
       "      <th>sales_3_month</th>\n",
       "      <th>sales_6_month</th>\n",
       "      <th>sales_9_month</th>\n",
       "      <th>min_bank</th>\n",
       "      <th>potential_issue</th>\n",
       "      <th>pieces_past_due</th>\n",
       "      <th>perf_6_month_avg</th>\n",
       "      <th>perf_12_month_avg</th>\n",
       "      <th>local_bo_qty</th>\n",
       "      <th>deck_risk</th>\n",
       "      <th>oe_constraint</th>\n",
       "      <th>ppap_risk</th>\n",
       "      <th>stop_auto_buy</th>\n",
       "      <th>rev_stop</th>\n",
       "      <th>went_on_backorder</th>\n",
       "    </tr>\n",
       "  </thead>\n",
       "  <tbody>\n",
       "    <tr>\n",
       "      <th>0</th>\n",
       "      <td>0.000000</td>\n",
       "      <td>0.999463</td>\n",
       "      <td>0.0</td>\n",
       "      <td>0.0</td>\n",
       "      <td>0.0</td>\n",
       "      <td>0.0</td>\n",
       "      <td>0.0</td>\n",
       "      <td>0.000000</td>\n",
       "      <td>0.00000</td>\n",
       "      <td>0.000000</td>\n",
       "      <td>0.000000</td>\n",
       "      <td>0</td>\n",
       "      <td>0.0</td>\n",
       "      <td>0.016866</td>\n",
       "      <td>0.028110</td>\n",
       "      <td>0.0</td>\n",
       "      <td>0</td>\n",
       "      <td>0</td>\n",
       "      <td>0</td>\n",
       "      <td>1</td>\n",
       "      <td>0</td>\n",
       "      <td>0</td>\n",
       "    </tr>\n",
       "    <tr>\n",
       "      <th>1</th>\n",
       "      <td>0.214472</td>\n",
       "      <td>0.965122</td>\n",
       "      <td>0.0</td>\n",
       "      <td>0.0</td>\n",
       "      <td>0.0</td>\n",
       "      <td>0.0</td>\n",
       "      <td>0.0</td>\n",
       "      <td>0.000000</td>\n",
       "      <td>0.00000</td>\n",
       "      <td>0.000000</td>\n",
       "      <td>0.000000</td>\n",
       "      <td>0</td>\n",
       "      <td>0.0</td>\n",
       "      <td>0.106163</td>\n",
       "      <td>0.106163</td>\n",
       "      <td>0.0</td>\n",
       "      <td>0</td>\n",
       "      <td>0</td>\n",
       "      <td>0</td>\n",
       "      <td>1</td>\n",
       "      <td>0</td>\n",
       "      <td>0</td>\n",
       "    </tr>\n",
       "    <tr>\n",
       "      <th>2</th>\n",
       "      <td>0.242413</td>\n",
       "      <td>0.969652</td>\n",
       "      <td>0.0</td>\n",
       "      <td>0.0</td>\n",
       "      <td>0.0</td>\n",
       "      <td>0.0</td>\n",
       "      <td>0.0</td>\n",
       "      <td>0.000000</td>\n",
       "      <td>0.00000</td>\n",
       "      <td>0.000000</td>\n",
       "      <td>0.000000</td>\n",
       "      <td>0</td>\n",
       "      <td>0.0</td>\n",
       "      <td>0.016363</td>\n",
       "      <td>0.027271</td>\n",
       "      <td>0.0</td>\n",
       "      <td>1</td>\n",
       "      <td>0</td>\n",
       "      <td>0</td>\n",
       "      <td>1</td>\n",
       "      <td>0</td>\n",
       "      <td>0</td>\n",
       "    </tr>\n",
       "    <tr>\n",
       "      <th>3</th>\n",
       "      <td>0.655412</td>\n",
       "      <td>0.749042</td>\n",
       "      <td>0.0</td>\n",
       "      <td>0.0</td>\n",
       "      <td>0.0</td>\n",
       "      <td>0.0</td>\n",
       "      <td>0.0</td>\n",
       "      <td>0.000000</td>\n",
       "      <td>0.00000</td>\n",
       "      <td>0.000000</td>\n",
       "      <td>0.093630</td>\n",
       "      <td>0</td>\n",
       "      <td>0.0</td>\n",
       "      <td>0.012640</td>\n",
       "      <td>0.021067</td>\n",
       "      <td>0.0</td>\n",
       "      <td>0</td>\n",
       "      <td>0</td>\n",
       "      <td>0</td>\n",
       "      <td>1</td>\n",
       "      <td>0</td>\n",
       "      <td>0</td>\n",
       "    </tr>\n",
       "    <tr>\n",
       "      <th>4</th>\n",
       "      <td>0.657443</td>\n",
       "      <td>0.657443</td>\n",
       "      <td>0.0</td>\n",
       "      <td>0.0</td>\n",
       "      <td>0.0</td>\n",
       "      <td>0.0</td>\n",
       "      <td>0.0</td>\n",
       "      <td>0.000000</td>\n",
       "      <td>0.00000</td>\n",
       "      <td>0.328722</td>\n",
       "      <td>0.164361</td>\n",
       "      <td>0</td>\n",
       "      <td>0.0</td>\n",
       "      <td>0.011094</td>\n",
       "      <td>0.018491</td>\n",
       "      <td>0.0</td>\n",
       "      <td>1</td>\n",
       "      <td>0</td>\n",
       "      <td>0</td>\n",
       "      <td>1</td>\n",
       "      <td>0</td>\n",
       "      <td>0</td>\n",
       "    </tr>\n",
       "    <tr>\n",
       "      <th>...</th>\n",
       "      <td>...</td>\n",
       "      <td>...</td>\n",
       "      <td>...</td>\n",
       "      <td>...</td>\n",
       "      <td>...</td>\n",
       "      <td>...</td>\n",
       "      <td>...</td>\n",
       "      <td>...</td>\n",
       "      <td>...</td>\n",
       "      <td>...</td>\n",
       "      <td>...</td>\n",
       "      <td>...</td>\n",
       "      <td>...</td>\n",
       "      <td>...</td>\n",
       "      <td>...</td>\n",
       "      <td>...</td>\n",
       "      <td>...</td>\n",
       "      <td>...</td>\n",
       "      <td>...</td>\n",
       "      <td>...</td>\n",
       "      <td>...</td>\n",
       "      <td>...</td>\n",
       "    </tr>\n",
       "    <tr>\n",
       "      <th>1929931</th>\n",
       "      <td>0.705320</td>\n",
       "      <td>0.705320</td>\n",
       "      <td>0.0</td>\n",
       "      <td>0.0</td>\n",
       "      <td>0.0</td>\n",
       "      <td>0.0</td>\n",
       "      <td>0.0</td>\n",
       "      <td>0.000000</td>\n",
       "      <td>0.00000</td>\n",
       "      <td>0.000000</td>\n",
       "      <td>0.058777</td>\n",
       "      <td>0</td>\n",
       "      <td>0.0</td>\n",
       "      <td>0.028213</td>\n",
       "      <td>0.028213</td>\n",
       "      <td>0.0</td>\n",
       "      <td>1</td>\n",
       "      <td>0</td>\n",
       "      <td>0</td>\n",
       "      <td>1</td>\n",
       "      <td>0</td>\n",
       "      <td>0</td>\n",
       "    </tr>\n",
       "    <tr>\n",
       "      <th>1929932</th>\n",
       "      <td>0.733095</td>\n",
       "      <td>0.676703</td>\n",
       "      <td>0.0</td>\n",
       "      <td>0.0</td>\n",
       "      <td>0.0</td>\n",
       "      <td>0.0</td>\n",
       "      <td>0.0</td>\n",
       "      <td>0.000000</td>\n",
       "      <td>0.00000</td>\n",
       "      <td>0.000000</td>\n",
       "      <td>0.056392</td>\n",
       "      <td>0</td>\n",
       "      <td>0.0</td>\n",
       "      <td>0.027068</td>\n",
       "      <td>0.027068</td>\n",
       "      <td>0.0</td>\n",
       "      <td>1</td>\n",
       "      <td>0</td>\n",
       "      <td>0</td>\n",
       "      <td>1</td>\n",
       "      <td>0</td>\n",
       "      <td>0</td>\n",
       "    </tr>\n",
       "    <tr>\n",
       "      <th>1929933</th>\n",
       "      <td>0.733095</td>\n",
       "      <td>0.676703</td>\n",
       "      <td>0.0</td>\n",
       "      <td>0.0</td>\n",
       "      <td>0.0</td>\n",
       "      <td>0.0</td>\n",
       "      <td>0.0</td>\n",
       "      <td>0.000000</td>\n",
       "      <td>0.00000</td>\n",
       "      <td>0.000000</td>\n",
       "      <td>0.056392</td>\n",
       "      <td>0</td>\n",
       "      <td>0.0</td>\n",
       "      <td>0.027068</td>\n",
       "      <td>0.027068</td>\n",
       "      <td>0.0</td>\n",
       "      <td>1</td>\n",
       "      <td>0</td>\n",
       "      <td>0</td>\n",
       "      <td>1</td>\n",
       "      <td>0</td>\n",
       "      <td>0</td>\n",
       "    </tr>\n",
       "    <tr>\n",
       "      <th>1929934</th>\n",
       "      <td>0.638277</td>\n",
       "      <td>0.765932</td>\n",
       "      <td>0.0</td>\n",
       "      <td>0.0</td>\n",
       "      <td>0.0</td>\n",
       "      <td>0.0</td>\n",
       "      <td>0.0</td>\n",
       "      <td>0.000000</td>\n",
       "      <td>0.00000</td>\n",
       "      <td>0.000000</td>\n",
       "      <td>0.063828</td>\n",
       "      <td>0</td>\n",
       "      <td>0.0</td>\n",
       "      <td>0.030637</td>\n",
       "      <td>0.030637</td>\n",
       "      <td>0.0</td>\n",
       "      <td>1</td>\n",
       "      <td>0</td>\n",
       "      <td>0</td>\n",
       "      <td>1</td>\n",
       "      <td>0</td>\n",
       "      <td>0</td>\n",
       "    </tr>\n",
       "    <tr>\n",
       "      <th>1929935</th>\n",
       "      <td>0.847115</td>\n",
       "      <td>0.052399</td>\n",
       "      <td>0.0</td>\n",
       "      <td>0.0</td>\n",
       "      <td>0.0</td>\n",
       "      <td>0.0</td>\n",
       "      <td>0.0</td>\n",
       "      <td>0.130997</td>\n",
       "      <td>0.33841</td>\n",
       "      <td>0.384259</td>\n",
       "      <td>0.017466</td>\n",
       "      <td>0</td>\n",
       "      <td>0.0</td>\n",
       "      <td>0.002096</td>\n",
       "      <td>0.002096</td>\n",
       "      <td>0.0</td>\n",
       "      <td>1</td>\n",
       "      <td>0</td>\n",
       "      <td>0</td>\n",
       "      <td>1</td>\n",
       "      <td>0</td>\n",
       "      <td>0</td>\n",
       "    </tr>\n",
       "  </tbody>\n",
       "</table>\n",
       "<p>1929936 rows × 22 columns</p>\n",
       "</div>"
      ],
      "text/plain": [
       "         national_inv  lead_time  in_transit_qty  forecast_3_month  \\\n",
       "0            0.000000   0.999463             0.0               0.0   \n",
       "1            0.214472   0.965122             0.0               0.0   \n",
       "2            0.242413   0.969652             0.0               0.0   \n",
       "3            0.655412   0.749042             0.0               0.0   \n",
       "4            0.657443   0.657443             0.0               0.0   \n",
       "...               ...        ...             ...               ...   \n",
       "1929931      0.705320   0.705320             0.0               0.0   \n",
       "1929932      0.733095   0.676703             0.0               0.0   \n",
       "1929933      0.733095   0.676703             0.0               0.0   \n",
       "1929934      0.638277   0.765932             0.0               0.0   \n",
       "1929935      0.847115   0.052399             0.0               0.0   \n",
       "\n",
       "         forecast_6_month  forecast_9_month  sales_1_month  sales_3_month  \\\n",
       "0                     0.0               0.0            0.0       0.000000   \n",
       "1                     0.0               0.0            0.0       0.000000   \n",
       "2                     0.0               0.0            0.0       0.000000   \n",
       "3                     0.0               0.0            0.0       0.000000   \n",
       "4                     0.0               0.0            0.0       0.000000   \n",
       "...                   ...               ...            ...            ...   \n",
       "1929931               0.0               0.0            0.0       0.000000   \n",
       "1929932               0.0               0.0            0.0       0.000000   \n",
       "1929933               0.0               0.0            0.0       0.000000   \n",
       "1929934               0.0               0.0            0.0       0.000000   \n",
       "1929935               0.0               0.0            0.0       0.130997   \n",
       "\n",
       "         sales_6_month  sales_9_month  min_bank  potential_issue  \\\n",
       "0              0.00000       0.000000  0.000000                0   \n",
       "1              0.00000       0.000000  0.000000                0   \n",
       "2              0.00000       0.000000  0.000000                0   \n",
       "3              0.00000       0.000000  0.093630                0   \n",
       "4              0.00000       0.328722  0.164361                0   \n",
       "...                ...            ...       ...              ...   \n",
       "1929931        0.00000       0.000000  0.058777                0   \n",
       "1929932        0.00000       0.000000  0.056392                0   \n",
       "1929933        0.00000       0.000000  0.056392                0   \n",
       "1929934        0.00000       0.000000  0.063828                0   \n",
       "1929935        0.33841       0.384259  0.017466                0   \n",
       "\n",
       "         pieces_past_due  perf_6_month_avg  perf_12_month_avg  local_bo_qty  \\\n",
       "0                    0.0          0.016866           0.028110           0.0   \n",
       "1                    0.0          0.106163           0.106163           0.0   \n",
       "2                    0.0          0.016363           0.027271           0.0   \n",
       "3                    0.0          0.012640           0.021067           0.0   \n",
       "4                    0.0          0.011094           0.018491           0.0   \n",
       "...                  ...               ...                ...           ...   \n",
       "1929931              0.0          0.028213           0.028213           0.0   \n",
       "1929932              0.0          0.027068           0.027068           0.0   \n",
       "1929933              0.0          0.027068           0.027068           0.0   \n",
       "1929934              0.0          0.030637           0.030637           0.0   \n",
       "1929935              0.0          0.002096           0.002096           0.0   \n",
       "\n",
       "         deck_risk  oe_constraint  ppap_risk  stop_auto_buy  rev_stop  \\\n",
       "0                0              0          0              1         0   \n",
       "1                0              0          0              1         0   \n",
       "2                1              0          0              1         0   \n",
       "3                0              0          0              1         0   \n",
       "4                1              0          0              1         0   \n",
       "...            ...            ...        ...            ...       ...   \n",
       "1929931          1              0          0              1         0   \n",
       "1929932          1              0          0              1         0   \n",
       "1929933          1              0          0              1         0   \n",
       "1929934          1              0          0              1         0   \n",
       "1929935          1              0          0              1         0   \n",
       "\n",
       "         went_on_backorder  \n",
       "0                        0  \n",
       "1                        0  \n",
       "2                        0  \n",
       "3                        0  \n",
       "4                        0  \n",
       "...                    ...  \n",
       "1929931                  0  \n",
       "1929932                  0  \n",
       "1929933                  0  \n",
       "1929934                  0  \n",
       "1929935                  0  \n",
       "\n",
       "[1929936 rows x 22 columns]"
      ]
     },
     "execution_count": 40,
     "metadata": {},
     "output_type": "execute_result"
    }
   ],
   "source": [
    "# Select numerical columns from the DataFrame\n",
    "numerical_cols = df.select_dtypes(include=['float64'])\n",
    "\n",
    "# Initialize the Normalizer\n",
    "normalizer = Normalizer()\n",
    "\n",
    "# Fit and transform the data\n",
    "df_normalized = pd.DataFrame(normalizer.fit_transform(numerical_cols), columns=numerical_cols.columns)\n",
    "\n",
    "# Combine normalized numerical columns with non-numerical columns\n",
    "for col in df.columns:\n",
    "    if col not in numerical_cols.columns:\n",
    "        df_normalized[col] = df[col]\n",
    "\n",
    "# Reorder columns to match the original DataFrame\n",
    "df = df_normalized[df.columns]\n",
    "df"
   ]
  },
  {
   "cell_type": "markdown",
   "id": "55376322",
   "metadata": {},
   "source": [
    "## Feature Seclection"
   ]
  },
  {
   "cell_type": "code",
   "execution_count": 41,
   "id": "6vW1DhXNVA4B",
   "metadata": {
    "colab": {
     "base_uri": "https://localhost:8080/"
    },
    "executionInfo": {
     "elapsed": 2922,
     "status": "ok",
     "timestamp": 1711550373675,
     "user": {
      "displayName": "Aditya Nikumbh",
      "userId": "07855731611952259482"
     },
     "user_tz": 0
    },
    "id": "6vW1DhXNVA4B",
    "outputId": "8e23c43e-4d35-4914-b9b2-53cbd0e70f96"
   },
   "outputs": [
    {
     "data": {
      "text/plain": [
       "forecast_6_month     0.120852\n",
       "forecast_9_month     0.118717\n",
       "national_inv         0.117777\n",
       "forecast_3_month     0.108193\n",
       "sales_1_month        0.089218\n",
       "sales_3_month        0.087973\n",
       "sales_6_month        0.072508\n",
       "sales_9_month        0.064349\n",
       "local_bo_qty         0.050689\n",
       "pieces_past_due      0.033954\n",
       "lead_time            0.030197\n",
       "perf_12_month_avg    0.018328\n",
       "perf_6_month_avg     0.018034\n",
       "in_transit_qty       0.017636\n",
       "deck_risk            0.012827\n",
       "potential_issue      0.012644\n",
       "ppap_risk            0.008377\n",
       "min_bank             0.004633\n",
       "oe_constraint        0.003420\n",
       "stop_auto_buy        0.002180\n",
       "rev_stop             0.000609\n",
       "Name: went_on_backorder, dtype: float64"
      ]
     },
     "execution_count": 41,
     "metadata": {},
     "output_type": "execute_result"
    }
   ],
   "source": [
    "corr_matrix = df.corr()\n",
    "corr_matrix_y = corr_matrix['went_on_backorder'].drop('went_on_backorder')\n",
    "corr_matrix_y=corr_matrix_y.abs().sort_values(ascending=False)\n",
    "corr_matrix_y"
   ]
  },
  {
   "cell_type": "code",
   "execution_count": 42,
   "id": "c049bb97",
   "metadata": {
    "colab": {
     "base_uri": "https://localhost:8080/",
     "height": 985
    },
    "executionInfo": {
     "elapsed": 4312,
     "status": "ok",
     "timestamp": 1711550385153,
     "user": {
      "displayName": "Aditya Nikumbh",
      "userId": "07855731611952259482"
     },
     "user_tz": 0
    },
    "id": "c049bb97",
    "outputId": "bae77da4-9a97-4eab-dc7e-d28a80bd037e"
   },
   "outputs": [
    {
     "data": {
      "image/png": "[encoded data removed]",
      "text/plain": [
       "<Figure size 1080x1080 with 2 Axes>"
      ]
     },
     "metadata": {
      "needs_background": "light"
     },
     "output_type": "display_data"
    }
   ],
   "source": [
    "logging.info('DATA VISUALISATION...')\n",
    "# Plotting Heatmap\n",
    "plt.figure(figsize=(15,15))\n",
    "sns.heatmap(corr_matrix, annot=True, cmap = 'coolwarm')\n",
    "plt.title(f\"Correlation Heatmap (Spearman's Rank) - Feature vs. went_on_backorder\")\n",
    "plt.xticks(rotation=45, ha='right')  # Rotate x-axis labels for readability\n",
    "plt.tight_layout()\n",
    "plt.show()"
   ]
  },
  {
   "cell_type": "code",
   "execution_count": 51,
   "id": "ku7wLzWR-78V",
   "metadata": {
    "colab": {
     "base_uri": "https://localhost:8080/"
    },
    "executionInfo": {
     "elapsed": 409,
     "status": "ok",
     "timestamp": 1711551680912,
     "user": {
      "displayName": "Aditya Nikumbh",
      "userId": "07855731611952259482"
     },
     "user_tz": 0
    },
    "id": "ku7wLzWR-78V",
    "outputId": "d5b5e17f-d22f-40cd-c7db-56282ea387dc"
   },
   "outputs": [
    {
     "name": "stdout",
     "output_type": "stream",
     "text": [
      "(1929936, 15) (1929936,)\n"
     ]
    }
   ],
   "source": [
    "# for selecting the features we will select the ones which has value for corr_matrix_y > 0.01\n",
    "features = ['national_inv', 'lead_time', 'forecast_3_month', 'forecast_6_month', 'forecast_9_month', 'sales_1_month',\n",
    "            'sales_3_month', 'sales_6_month', 'sales_9_month', 'perf_6_month_avg', 'perf_12_month_avg',\n",
    "            'pieces_past_due','in_transit_qty' , 'deck_risk','local_bo_qty']\n",
    "x = df[features]\n",
    "y = df['went_on_backorder']\n",
    "print(x.shape, y.shape)"
   ]
  },
  {
   "cell_type": "markdown",
   "id": "8d550b3f",
   "metadata": {
    "id": "8d550b3f"
   },
   "source": [
    "## Model Building\n"
   ]
  },
  {
   "cell_type": "code",
   "execution_count": 52,
   "id": "ca_cYvQ9m_lO",
   "metadata": {
    "colab": {
     "base_uri": "https://localhost:8080/"
    },
    "executionInfo": {
     "elapsed": 2663,
     "status": "ok",
     "timestamp": 1711551709132,
     "user": {
      "displayName": "Aditya Nikumbh",
      "userId": "07855731611952259482"
     },
     "user_tz": 0
    },
    "id": "ca_cYvQ9m_lO",
    "outputId": "b5bc2326-61af-4254-e772-03f28686bfae"
   },
   "outputs": [
    {
     "name": "stdout",
     "output_type": "stream",
     "text": [
      "(1640445, 15) (289491, 15)\n",
      "(1640445,) (289491,)\n"
     ]
    }
   ],
   "source": [
    "x_train, x_test, y_train, y_test = train_test_split(x, y, train_size=0.85, random_state=42)\n",
    "print(x_train.shape,x_test.shape)\n",
    "print(y_train.shape,y_test.shape)"
   ]
  },
  {
   "cell_type": "code",
   "execution_count": 53,
   "id": "Ppo7hfNzrS2s",
   "metadata": {
    "colab": {
     "base_uri": "https://localhost:8080/"
    },
    "executionInfo": {
     "elapsed": 392,
     "status": "ok",
     "timestamp": 1711551715047,
     "user": {
      "displayName": "Aditya Nikumbh",
      "userId": "07855731611952259482"
     },
     "user_tz": 0
    },
    "id": "Ppo7hfNzrS2s",
    "outputId": "88b491f4-2b5e-4543-d483-1c6795bcc493"
   },
   "outputs": [
    {
     "data": {
      "text/plain": [
       "0    1628649\n",
       "1      11796\n",
       "Name: went_on_backorder, dtype: int64"
      ]
     },
     "execution_count": 53,
     "metadata": {},
     "output_type": "execute_result"
    }
   ],
   "source": [
    "y_train.value_counts()"
   ]
  },
  {
   "cell_type": "markdown",
   "id": "9ALMGonS2HFV",
   "metadata": {
    "id": "9ALMGonS2HFV"
   },
   "source": [
    "### Model 1: RandomOversampler with DecisionTreeClassifier"
   ]
  },
  {
   "cell_type": "code",
   "execution_count": 54,
   "id": "zoeAAu0ZrLRR",
   "metadata": {
    "executionInfo": {
     "elapsed": 2845,
     "status": "ok",
     "timestamp": 1711551757297,
     "user": {
      "displayName": "Aditya Nikumbh",
      "userId": "07855731611952259482"
     },
     "user_tz": 0
    },
    "id": "zoeAAu0ZrLRR"
   },
   "outputs": [],
   "source": [
    "#Using RandomOverSampler\n",
    "oversample = RandomOverSampler(sampling_strategy='auto', random_state=42)\n",
    "x_resampled, y_resampled = oversample.fit_resample(x_train, y_train)"
   ]
  },
  {
   "cell_type": "code",
   "execution_count": 55,
   "id": "KpctZfL6rqA5",
   "metadata": {
    "colab": {
     "base_uri": "https://localhost:8080/"
    },
    "executionInfo": {
     "elapsed": 453,
     "status": "ok",
     "timestamp": 1711551759293,
     "user": {
      "displayName": "Aditya Nikumbh",
      "userId": "07855731611952259482"
     },
     "user_tz": 0
    },
    "id": "KpctZfL6rqA5",
    "outputId": "c8d5674e-e30a-4085-94da-6914b54a2e68"
   },
   "outputs": [
    {
     "data": {
      "text/plain": [
       "0    1628649\n",
       "1    1628649\n",
       "Name: went_on_backorder, dtype: int64"
      ]
     },
     "execution_count": 55,
     "metadata": {},
     "output_type": "execute_result"
    }
   ],
   "source": [
    "y_resampled.value_counts()"
   ]
  },
  {
   "cell_type": "code",
   "execution_count": 56,
   "id": "c11d1830",
   "metadata": {
    "colab": {
     "base_uri": "https://localhost:8080/"
    },
    "executionInfo": {
     "elapsed": 130163,
     "status": "ok",
     "timestamp": 1711551894289,
     "user": {
      "displayName": "Aditya Nikumbh",
      "userId": "07855731611952259482"
     },
     "user_tz": 0
    },
    "id": "c11d1830",
    "outputId": "721e52b4-69be-4cea-9598-cfd35366803f"
   },
   "outputs": [
    {
     "name": "stdout",
     "output_type": "stream",
     "text": [
      "Accuracy of the Decision Tree Model in validation set is: 0.9839649591869868\n",
      "Confusion Matrix:\n",
      " [[284170   3136]\n",
      " [  1506    679]]\n",
      "              precision    recall  f1-score   support\n",
      "\n",
      "           0       0.99      0.99      0.99    287306\n",
      "           1       0.18      0.31      0.23      2185\n",
      "\n",
      "    accuracy                           0.98    289491\n",
      "   macro avg       0.59      0.65      0.61    289491\n",
      "weighted avg       0.99      0.98      0.99    289491\n",
      "\n",
      "AUC Score is : 0.6499199786365443\n"
     ]
    }
   ],
   "source": [
    "# Import necessary libraries\n",
    "from sklearn.metrics import accuracy_score, confusion_matrix\n",
    "\n",
    "# Decision tree classifier\n",
    "model1 = DecisionTreeClassifier()\n",
    "model1.fit(x_resampled, y_resampled)\n",
    "y_pred1 = model1.predict(x_test)\n",
    "\n",
    "# Calculate accuracy and confusion matrix\n",
    "accu_score1 = accuracy_score(y_test, y_pred1)\n",
    "con_mat1 = confusion_matrix(y_test, y_pred1)\n",
    "\n",
    "print('Accuracy of the Decision Tree Model in validation set is:', accu_score1)\n",
    "print('Confusion Matrix:\\n', con_mat1)\n",
    "print(classification_report(y_test,y_pred1))\n",
    "\n",
    "from sklearn.metrics import roc_auc_score, average_precision_score, make_scorer\n",
    "\n",
    "roc1 =  roc_auc_score(y_test, y_pred1)\n",
    "print(\"AUC Score is :\", roc1)"
   ]
  },
  {
   "cell_type": "markdown",
   "id": "Bj1BaCcS2JEz",
   "metadata": {
    "id": "Bj1BaCcS2JEz"
   },
   "source": [
    "### Model 2: RandomOversampler with RandomForestClassifier"
   ]
  },
  {
   "cell_type": "code",
   "execution_count": 57,
   "id": "Ysvtdg7h2Nac",
   "metadata": {
    "colab": {
     "base_uri": "https://localhost:8080/"
    },
    "executionInfo": {
     "elapsed": 1068912,
     "status": "ok",
     "timestamp": 1711553591612,
     "user": {
      "displayName": "Aditya Nikumbh",
      "userId": "07855731611952259482"
     },
     "user_tz": 0
    },
    "id": "Ysvtdg7h2Nac",
    "outputId": "0f907689-4b39-4f3f-e22a-c6a8f313f6d6"
   },
   "outputs": [
    {
     "name": "stdout",
     "output_type": "stream",
     "text": [
      "Accuracy of the Random Forest Model in test set is: 0.9871222248705487\n",
      "Confusion Matrix:\n",
      " [[285172   2134]\n",
      " [  1594    591]]\n",
      "              precision    recall  f1-score   support\n",
      "\n",
      "           0       0.99      0.99      0.99    287306\n",
      "           1       0.22      0.27      0.24      2185\n",
      "\n",
      "    accuracy                           0.99    289491\n",
      "   macro avg       0.61      0.63      0.62    289491\n",
      "weighted avg       0.99      0.99      0.99    289491\n",
      "\n",
      "AUC Score is : 0.6315264642370717\n"
     ]
    }
   ],
   "source": [
    "from sklearn.ensemble import RandomForestClassifier\n",
    "\n",
    "#RandomForest Classifier\n",
    "model2 = RandomForestClassifier()\n",
    "model2.fit(x_resampled, y_resampled)\n",
    "y_pred2 = model2.predict(x_test)\n",
    "\n",
    "# Calculate accuracy and confusion matrix\n",
    "accu_score2 = accuracy_score(y_test, y_pred2)\n",
    "con_mat2 = confusion_matrix(y_test, y_pred2)\n",
    "\n",
    "print('Accuracy of the Random Forest Model in test set is:', accu_score2)\n",
    "print('Confusion Matrix:\\n', con_mat2)\n",
    "#AUC score\n",
    "print(classification_report(y_test,y_pred2))\n",
    "roc2 =  roc_auc_score(y_test, y_pred2)\n",
    "print(\"AUC Score is :\", roc2)"
   ]
  },
  {
   "cell_type": "markdown",
   "id": "uCP9SAYj6KiB",
   "metadata": {
    "id": "uCP9SAYj6KiB"
   },
   "source": [
    "### Model 3: XGBOOST Classifier with Random Oversampling"
   ]
  },
  {
   "cell_type": "code",
   "execution_count": 58,
   "id": "r5ITRzk06G6W",
   "metadata": {
    "colab": {
     "base_uri": "https://localhost:8080/"
    },
    "executionInfo": {
     "elapsed": 38068,
     "status": "ok",
     "timestamp": 1711553629678,
     "user": {
      "displayName": "Aditya Nikumbh",
      "userId": "07855731611952259482"
     },
     "user_tz": 0
    },
    "id": "r5ITRzk06G6W",
    "outputId": "4d2cf38f-fd74-4b0e-a841-bc7a20065182"
   },
   "outputs": [
    {
     "name": "stdout",
     "output_type": "stream",
     "text": [
      "Accuracy of the XGBoost Model in test set is: 0.9051680363120097\n",
      "Confusion Matrix:\n",
      " [[260178  27128]\n",
      " [   325   1860]]\n",
      "              precision    recall  f1-score   support\n",
      "\n",
      "           0       1.00      0.91      0.95    287306\n",
      "           1       0.06      0.85      0.12      2185\n",
      "\n",
      "    accuracy                           0.91    289491\n",
      "   macro avg       0.53      0.88      0.53    289491\n",
      "weighted avg       0.99      0.91      0.94    289491\n",
      "\n",
      "AUC Score is : 0.8784183030297025\n"
     ]
    }
   ],
   "source": [
    "from xgboost import XGBClassifier\n",
    "\n",
    "# XGBoost Classifier\n",
    "model3 = XGBClassifier()\n",
    "model3.fit(x_resampled, y_resampled)\n",
    "y_pred3 = model3.predict(x_test)\n",
    "\n",
    "# Calculate accuracy and confusion matrix\n",
    "accu_score3 = accuracy_score(y_test, y_pred3)\n",
    "con_mat3 = confusion_matrix(y_test, y_pred3)\n",
    "\n",
    "print('Accuracy of the XGBoost Model in test set is:', accu_score3)\n",
    "print('Confusion Matrix:\\n', con_mat3)\n",
    "\n",
    "# Print classification report\n",
    "print(classification_report(y_test, y_pred3))\n",
    "\n",
    "# Calculate AUC score\n",
    "roc3 = roc_auc_score(y_test, y_pred3)\n",
    "print(\"AUC Score is :\", roc3)"
   ]
  },
  {
   "cell_type": "markdown",
   "id": "L1g4Q7aEAP2r",
   "metadata": {
    "id": "L1g4Q7aEAP2r"
   },
   "source": [
    "As we have treid Random Oversampling but for all the 4 models the recall score and f1-score are not upto the mark so we will try Synthetic Oversampling Technique to balance the class in the train data set"
   ]
  },
  {
   "cell_type": "markdown",
   "id": "dupR6xy-9XsH",
   "metadata": {
    "id": "dupR6xy-9XsH"
   },
   "source": [
    "### SMOTE OverSampling"
   ]
  },
  {
   "cell_type": "code",
   "execution_count": 59,
   "id": "r93-OsaKAPPZ",
   "metadata": {
    "id": "r93-OsaKAPPZ"
   },
   "outputs": [
    {
     "name": "stdout",
     "output_type": "stream",
     "text": [
      "(3257298, 15) (3257298,)\n"
     ]
    }
   ],
   "source": [
    "from imblearn.over_sampling import SMOTE\n",
    "\n",
    "# Create SMOTE object\n",
    "smote = SMOTE(sampling_strategy='auto', random_state=42)\n",
    "\n",
    "# Resample the training data using SMOTE\n",
    "x_resampled, y_resampled = smote.fit_resample(x_train, y_train)\n",
    "print(x_resampled.shape,y_resampled.shape)"
   ]
  },
  {
   "cell_type": "markdown",
   "id": "4Xa6_liXInzl",
   "metadata": {
    "id": "4Xa6_liXInzl"
   },
   "source": [
    "### Model 4: DecisionTree Classifier with SmoteOversampling"
   ]
  },
  {
   "cell_type": "code",
   "execution_count": 60,
   "id": "85afc36e",
   "metadata": {
    "colab": {
     "base_uri": "https://localhost:8080/"
    },
    "executionInfo": {
     "elapsed": 42864,
     "status": "ok",
     "timestamp": 1711525838991,
     "user": {
      "displayName": "Aditya Nikumbh",
      "userId": "07855731611952259482"
     },
     "user_tz": 0
    },
    "id": "85afc36e",
    "outputId": "b0247602-d891-4668-99e6-0e23b2d1ae4d"
   },
   "outputs": [
    {
     "name": "stdout",
     "output_type": "stream",
     "text": [
      "Accuracy of the Decision Tree Model in validation set is: 0.9765277677026228\n",
      "Confusion Matrix:\n",
      " [[281655   5651]\n",
      " [  1144   1041]]\n",
      "              precision    recall  f1-score   support\n",
      "\n",
      "           0       1.00      0.98      0.99    287306\n",
      "           1       0.16      0.48      0.23      2185\n",
      "\n",
      "    accuracy                           0.98    289491\n",
      "   macro avg       0.58      0.73      0.61    289491\n",
      "weighted avg       0.99      0.98      0.98    289491\n",
      "\n",
      "AUC Score is : 0.728380640763806\n"
     ]
    }
   ],
   "source": [
    "# Decision tree classifier\n",
    "model4 = DecisionTreeClassifier()\n",
    "model4.fit(x_resampled, y_resampled)\n",
    "y_pred4 = model4.predict(x_test)\n",
    "\n",
    "# Calculate accuracy and confusion matrix\n",
    "accu_score4 = accuracy_score(y_test, y_pred4)\n",
    "con_mat4 = confusion_matrix(y_test, y_pred4)\n",
    "\n",
    "print('Accuracy of the Decision Tree Model in validation set is:', accu_score4)\n",
    "print('Confusion Matrix:\\n', con_mat4)\n",
    "print(classification_report(y_test,y_pred4))\n",
    "\n",
    "# Calculate AUC score\n",
    "roc4 = roc_auc_score(y_test, y_pred4)\n",
    "print(\"AUC Score is :\", roc4)"
   ]
  },
  {
   "cell_type": "markdown",
   "id": "KAueB8znI0s4",
   "metadata": {
    "id": "KAueB8znI0s4"
   },
   "source": [
    "### Model 5 SmoteOversampler with RandomForestClassifier"
   ]
  },
  {
   "cell_type": "code",
   "execution_count": 61,
   "id": "qlAgivog-0uq",
   "metadata": {
    "colab": {
     "base_uri": "https://localhost:8080/"
    },
    "executionInfo": {
     "elapsed": 884379,
     "status": "ok",
     "timestamp": 1711526943285,
     "user": {
      "displayName": "Aditya Nikumbh",
      "userId": "07855731611952259482"
     },
     "user_tz": 0
    },
    "id": "qlAgivog-0uq",
    "outputId": "eb252fcd-d5fc-4be3-a70f-3ba685d43ce8"
   },
   "outputs": [
    {
     "name": "stdout",
     "output_type": "stream",
     "text": [
      "Accuracy of the Random Forest Model in validation set is: 0.9841963998880794\n",
      "Confusion Matrix:\n",
      " [[283756   3550]\n",
      " [  1025   1160]]\n",
      "              precision    recall  f1-score   support\n",
      "\n",
      "           0       1.00      0.99      0.99    287306\n",
      "           1       0.25      0.53      0.34      2185\n",
      "\n",
      "    accuracy                           0.98    289491\n",
      "   macro avg       0.62      0.76      0.66    289491\n",
      "weighted avg       0.99      0.98      0.99    289491\n",
      "\n",
      "AUC Score is : 0.7592681423505896\n"
     ]
    }
   ],
   "source": [
    "model5 = RandomForestClassifier()\n",
    "model5.fit(x_resampled, y_resampled)\n",
    "y_pred5 = model5.predict(x_test)\n",
    "\n",
    "# Calculate accuracy and confusion matrix\n",
    "accu_score5 = accuracy_score(y_test, y_pred5)\n",
    "con_mat5 = confusion_matrix(y_test, y_pred5)\n",
    "\n",
    "print('Accuracy of the Random Forest Model in validation set is:', accu_score5)\n",
    "print('Confusion Matrix:\\n', con_mat5)\n",
    "print(classification_report(y_test, y_pred5))\n",
    "# Calculate AUC score\n",
    "roc5 = roc_auc_score(y_test, y_pred5)\n",
    "print(\"AUC Score is :\", roc5)"
   ]
  },
  {
   "cell_type": "markdown",
   "id": "FUnvlxJmIzJj",
   "metadata": {
    "id": "FUnvlxJmIzJj"
   },
   "source": [
    "### Model 6: SmoteOversampler with XGBoostClassifier"
   ]
  },
  {
   "cell_type": "code",
   "execution_count": 62,
   "id": "tGBpSOnE_AEB",
   "metadata": {
    "colab": {
     "base_uri": "https://localhost:8080/"
    },
    "executionInfo": {
     "elapsed": 53225,
     "status": "ok",
     "timestamp": 1711527203826,
     "user": {
      "displayName": "Aditya Nikumbh",
      "userId": "07855731611952259482"
     },
     "user_tz": 0
    },
    "id": "tGBpSOnE_AEB",
    "outputId": "58a50cdb-a653-4360-b787-1f9ce52e80bb"
   },
   "outputs": [
    {
     "name": "stdout",
     "output_type": "stream",
     "text": [
      "Accuracy of the XGBoost Model in validation set is: 0.9051265842461423\n",
      "Confusion Matrix:\n",
      " [[260183  27123]\n",
      " [   342   1843]]\n",
      "              precision    recall  f1-score   support\n",
      "\n",
      "           0       1.00      0.91      0.95    287306\n",
      "           1       0.06      0.84      0.12      2185\n",
      "\n",
      "    accuracy                           0.91    289491\n",
      "   macro avg       0.53      0.87      0.53    289491\n",
      "weighted avg       0.99      0.91      0.94    289491\n",
      "\n",
      "AUC Score is : 0.874536844370447\n"
     ]
    }
   ],
   "source": [
    "model6 = XGBClassifier()\n",
    "model6.fit(x_resampled, y_resampled)\n",
    "y_pred6 = model6.predict(x_test)\n",
    "\n",
    "# Calculate accuracy and confusion matrix\n",
    "accu_score6 = accuracy_score(y_test, y_pred6)\n",
    "con_mat6 = confusion_matrix(y_test, y_pred6)\n",
    "\n",
    "print('Accuracy of the XGBoost Model in validation set is:', accu_score6)\n",
    "print('Confusion Matrix:\\n', con_mat6)\n",
    "print(classification_report(y_test, y_pred6))\n",
    "# Calculate AUC score\n",
    "roc6 = roc_auc_score(y_test, y_pred6)\n",
    "print(\"AUC Score is :\", roc6)"
   ]
  },
  {
   "cell_type": "markdown",
   "id": "MZ-tj3utJK-L",
   "metadata": {
    "id": "MZ-tj3utJK-L"
   },
   "source": [
    "### Model 7: SmoteOversampler with GradientBoostingClassifier"
   ]
  },
  {
   "cell_type": "code",
   "execution_count": 63,
   "id": "OKzE6DhC9rqM",
   "metadata": {
    "colab": {
     "base_uri": "https://localhost:8080/"
    },
    "executionInfo": {
     "elapsed": 1036904,
     "status": "ok",
     "timestamp": 1711528242029,
     "user": {
      "displayName": "Aditya Nikumbh",
      "userId": "07855731611952259482"
     },
     "user_tz": 0
    },
    "id": "OKzE6DhC9rqM",
    "outputId": "39a27f64-82b9-4990-bf47-60d53a3b268d"
   },
   "outputs": [
    {
     "name": "stdout",
     "output_type": "stream",
     "text": [
      "Accuracy of the Gradient Boosting Model in validation set is: 0.8743898774055152\n",
      "Confusion Matrix:\n",
      " [[251245  36061]\n",
      " [   302   1883]]\n",
      "              precision    recall  f1-score   support\n",
      "\n",
      "           0       1.00      0.87      0.93    287306\n",
      "           1       0.05      0.86      0.09      2185\n",
      "\n",
      "    accuracy                           0.87    289491\n",
      "   macro avg       0.52      0.87      0.51    289491\n",
      "weighted avg       0.99      0.87      0.93    289491\n",
      "\n",
      "AUC Score is : 0.8681353184839752\n"
     ]
    }
   ],
   "source": [
    "model7 = GradientBoostingClassifier()\n",
    "model7.fit(x_resampled, y_resampled)\n",
    "y_pred7 = model7.predict(x_test)\n",
    "\n",
    "# Calculate accuracy and confusion matrix\n",
    "accu_score7 = accuracy_score(y_test, y_pred7)\n",
    "con_mat7 = confusion_matrix(y_test, y_pred7)\n",
    "\n",
    "print('Accuracy of the Gradient Boosting Model in validation set is:', accu_score7)\n",
    "print('Confusion Matrix:\\n', con_mat7)\n",
    "print(classification_report(y_test, y_pred7))\n",
    "\n",
    "# Calculate AUC score\n",
    "roc7 = roc_auc_score(y_test, y_pred7)\n",
    "print(\"AUC Score is :\", roc7)"
   ]
  },
  {
   "cell_type": "markdown",
   "id": "Hf84GGXbJkor",
   "metadata": {
    "id": "Hf84GGXbJkor"
   },
   "source": [
    "### Model 8: RandomUnderSampler with DecisionTreeClassifier"
   ]
  },
  {
   "cell_type": "code",
   "execution_count": 64,
   "id": "e3506b6f",
   "metadata": {},
   "outputs": [
    {
     "name": "stdout",
     "output_type": "stream",
     "text": [
      "(23592, 15) (23592,)\n"
     ]
    }
   ],
   "source": [
    "from imblearn.under_sampling import RandomUnderSampler\n",
    "\n",
    "# Undersampling\n",
    "undersampler = RandomUnderSampler(random_state=42)\n",
    "x_resampled, y_resampled = undersampler.fit_resample(x_train, y_train)\n",
    "print(x_resampled.shape,y_resampled.shape)"
   ]
  },
  {
   "cell_type": "code",
   "execution_count": 66,
   "id": "73505b23",
   "metadata": {},
   "outputs": [
    {
     "name": "stdout",
     "output_type": "stream",
     "text": [
      "Accuracy of the Decision Tree Model in validation set is: 0.8409967840105564\n",
      "Confusion Matrix:\n",
      " [[241627  45679]\n",
      " [   351   1834]]\n",
      "              precision    recall  f1-score   support\n",
      "\n",
      "           0       1.00      0.84      0.91    287306\n",
      "           1       0.04      0.84      0.07      2185\n",
      "\n",
      "    accuracy                           0.84    289491\n",
      "   macro avg       0.52      0.84      0.49    289491\n",
      "weighted avg       0.99      0.84      0.91    289491\n",
      "\n",
      "AUC Score is : 0.8401842526361157\n"
     ]
    }
   ],
   "source": [
    "# Decision Tree Classifier\n",
    "model8 = DecisionTreeClassifier()\n",
    "model8.fit(x_resampled, y_resampled)\n",
    "y_pred8 = model8.predict(x_test)\n",
    "\n",
    "# Calculate accuracy and confusion matrix\n",
    "accu_score8 = accuracy_score(y_test, y_pred8)\n",
    "con_mat8 = confusion_matrix(y_test, y_pred8)\n",
    "\n",
    "print('Accuracy of the Decision Tree Model in validation set is:', accu_score8)\n",
    "print('Confusion Matrix:\\n', con_mat8)\n",
    "print(classification_report(y_test, y_pred8))\n",
    "\n",
    "# Calculate AUC score\n",
    "roc8 = roc_auc_score(y_test, y_pred8)\n",
    "print(\"AUC Score is :\", roc8)"
   ]
  },
  {
   "cell_type": "code",
   "execution_count": 68,
   "id": "580b0ab1",
   "metadata": {},
   "outputs": [
    {
     "name": "stdout",
     "output_type": "stream",
     "text": [
      "Accuracy of the Random Forest Model in validation set is: 0.8648628109336732\n",
      "Confusion Matrix:\n",
      " [[248429  38877]\n",
      " [   244   1941]]\n",
      "              precision    recall  f1-score   support\n",
      "\n",
      "           0       1.00      0.86      0.93    287306\n",
      "           1       0.05      0.89      0.09      2185\n",
      "\n",
      "    accuracy                           0.86    289491\n",
      "   macro avg       0.52      0.88      0.51    289491\n",
      "weighted avg       0.99      0.86      0.92    289491\n",
      "\n",
      "AUC Score is : 0.8765069314865193\n"
     ]
    }
   ],
   "source": [
    "model9 = RandomForestClassifier(n_estimators=100, max_depth=10, class_weight='balanced', random_state=72)\n",
    "model9.fit(x_resampled, y_resampled)\n",
    "\n",
    "# Predict on the test set\n",
    "y_pred9 = model9.predict(x_test)\n",
    "\n",
    "# Calculate accuracy and confusion matrix\n",
    "accu_score9 = accuracy_score(y_test, y_pred9)\n",
    "con_mat9 = confusion_matrix(y_test, y_pred9)\n",
    "\n",
    "print('Accuracy of the Random Forest Model in validation set is:', accu_score9)\n",
    "print('Confusion Matrix:\\n', con_mat9)\n",
    "print(classification_report(y_test, y_pred9))\n",
    "\n",
    "# Calculate AUC score\n",
    "roc9 = roc_auc_score(y_test, y_pred9)\n",
    "print(\"AUC Score is :\", roc9)"
   ]
  }
 ],
 "metadata": {
  "accelerator": "GPU",
  "colab": {
   "gpuType": "T4",
   "history_visible": true,
   "provenance": [
    {
     "file_id": "1nFREK26AHabR15FUn2hDfl0SMwb2WN53",
     "timestamp": 1711236809311
    },
    {
     "file_id": "1ipbFBUkt2mI7NkRawVmaHt_83dgRnKKG",
     "timestamp": 1711218553577
    }
   ],
   "toc_visible": true
  },
  "kernelspec": {
   "display_name": "Python 3 (ipykernel)",
   "language": "python",
   "name": "python3"
  },
  "language_info": {
   "codemirror_mode": {
    "name": "ipython",
    "version": 3
   },
   "file_extension": ".py",
   "mimetype": "text/x-python",
   "name": "python",
   "nbconvert_exporter": "python",
   "pygments_lexer": "ipython3",
   "version": "3.9.12"
  }
 },
 "nbformat": 4,
 "nbformat_minor": 5
}
